{
 "cells": [
  {
   "cell_type": "code",
   "execution_count": 1,
   "id": "8e4ad44d",
   "metadata": {},
   "outputs": [],
   "source": [
    "import numpy as np\n",
    "import pandas as pd\n",
    "import matplotlib.pyplot as plt\n",
    "import seaborn as sns\n",
    "%matplotlib inline"
   ]
  },
  {
   "cell_type": "code",
   "execution_count": 2,
   "id": "d5e3261a",
   "metadata": {},
   "outputs": [],
   "source": [
    "data = pd.read_csv('Health_insurance.csv')"
   ]
  },
  {
   "cell_type": "code",
   "execution_count": 22,
   "id": "d3ed2b03",
   "metadata": {},
   "outputs": [
    {
     "data": {
      "text/html": [
       "<div>\n",
       "<style scoped>\n",
       "    .dataframe tbody tr th:only-of-type {\n",
       "        vertical-align: middle;\n",
       "    }\n",
       "\n",
       "    .dataframe tbody tr th {\n",
       "        vertical-align: top;\n",
       "    }\n",
       "\n",
       "    .dataframe thead th {\n",
       "        text-align: right;\n",
       "    }\n",
       "</style>\n",
       "<table border=\"1\" class=\"dataframe\">\n",
       "  <thead>\n",
       "    <tr style=\"text-align: right;\">\n",
       "      <th></th>\n",
       "      <th>age</th>\n",
       "      <th>sex</th>\n",
       "      <th>bmi</th>\n",
       "      <th>children</th>\n",
       "      <th>smoker</th>\n",
       "      <th>region</th>\n",
       "      <th>charges</th>\n",
       "    </tr>\n",
       "  </thead>\n",
       "  <tbody>\n",
       "    <tr>\n",
       "      <th>0</th>\n",
       "      <td>19</td>\n",
       "      <td>0</td>\n",
       "      <td>27.900</td>\n",
       "      <td>0</td>\n",
       "      <td>1</td>\n",
       "      <td>southwest</td>\n",
       "      <td>16884.92400</td>\n",
       "    </tr>\n",
       "    <tr>\n",
       "      <th>1</th>\n",
       "      <td>18</td>\n",
       "      <td>1</td>\n",
       "      <td>33.770</td>\n",
       "      <td>1</td>\n",
       "      <td>0</td>\n",
       "      <td>southeast</td>\n",
       "      <td>1725.55230</td>\n",
       "    </tr>\n",
       "    <tr>\n",
       "      <th>2</th>\n",
       "      <td>28</td>\n",
       "      <td>1</td>\n",
       "      <td>33.000</td>\n",
       "      <td>3</td>\n",
       "      <td>0</td>\n",
       "      <td>southeast</td>\n",
       "      <td>4449.46200</td>\n",
       "    </tr>\n",
       "    <tr>\n",
       "      <th>3</th>\n",
       "      <td>33</td>\n",
       "      <td>1</td>\n",
       "      <td>22.705</td>\n",
       "      <td>0</td>\n",
       "      <td>0</td>\n",
       "      <td>northwest</td>\n",
       "      <td>21984.47061</td>\n",
       "    </tr>\n",
       "    <tr>\n",
       "      <th>4</th>\n",
       "      <td>32</td>\n",
       "      <td>1</td>\n",
       "      <td>28.880</td>\n",
       "      <td>0</td>\n",
       "      <td>0</td>\n",
       "      <td>northwest</td>\n",
       "      <td>3866.85520</td>\n",
       "    </tr>\n",
       "  </tbody>\n",
       "</table>\n",
       "</div>"
      ],
      "text/plain": [
       "   age  sex     bmi  children  smoker     region      charges\n",
       "0   19    0  27.900         0       1  southwest  16884.92400\n",
       "1   18    1  33.770         1       0  southeast   1725.55230\n",
       "2   28    1  33.000         3       0  southeast   4449.46200\n",
       "3   33    1  22.705         0       0  northwest  21984.47061\n",
       "4   32    1  28.880         0       0  northwest   3866.85520"
      ]
     },
     "execution_count": 22,
     "metadata": {},
     "output_type": "execute_result"
    }
   ],
   "source": [
    "data.head(5)"
   ]
  },
  {
   "cell_type": "code",
   "execution_count": 9,
   "id": "e83483bd",
   "metadata": {},
   "outputs": [
    {
     "data": {
      "text/plain": [
       "0    574\n",
       "1    324\n",
       "2    240\n",
       "3    157\n",
       "4     25\n",
       "5     18\n",
       "Name: children, dtype: int64"
      ]
     },
     "execution_count": 9,
     "metadata": {},
     "output_type": "execute_result"
    }
   ],
   "source": [
    "data['children'].value_counts()"
   ]
  },
  {
   "cell_type": "code",
   "execution_count": 10,
   "id": "41ed1b05",
   "metadata": {},
   "outputs": [
    {
     "name": "stdout",
     "output_type": "stream",
     "text": [
      "<class 'pandas.core.frame.DataFrame'>\n",
      "RangeIndex: 1338 entries, 0 to 1337\n",
      "Data columns (total 7 columns):\n",
      " #   Column    Non-Null Count  Dtype  \n",
      "---  ------    --------------  -----  \n",
      " 0   age       1338 non-null   int64  \n",
      " 1   sex       1338 non-null   object \n",
      " 2   bmi       1338 non-null   float64\n",
      " 3   children  1338 non-null   int64  \n",
      " 4   smoker    1338 non-null   object \n",
      " 5   region    1338 non-null   object \n",
      " 6   charges   1338 non-null   float64\n",
      "dtypes: float64(2), int64(2), object(3)\n",
      "memory usage: 73.3+ KB\n"
     ]
    }
   ],
   "source": [
    "data.info()"
   ]
  },
  {
   "cell_type": "code",
   "execution_count": 11,
   "id": "f8babaa0",
   "metadata": {},
   "outputs": [
    {
     "data": {
      "text/plain": [
       "age         0\n",
       "sex         0\n",
       "bmi         0\n",
       "children    0\n",
       "smoker      0\n",
       "region      0\n",
       "charges     0\n",
       "dtype: int64"
      ]
     },
     "execution_count": 11,
     "metadata": {},
     "output_type": "execute_result"
    }
   ],
   "source": [
    "data.isnull().sum()\n",
    "# no null values... we can directly proceed with the Train and test after some EDA"
   ]
  },
  {
   "cell_type": "code",
   "execution_count": 13,
   "id": "d10b32da",
   "metadata": {},
   "outputs": [
    {
     "data": {
      "text/plain": [
       "<AxesSubplot:xlabel='smoker', ylabel='count'>"
      ]
     },
     "execution_count": 13,
     "metadata": {},
     "output_type": "execute_result"
    },
    {
     "data": {
      "image/png": "[encoded data removed]",
      "text/plain": [
       "<Figure size 640x480 with 1 Axes>"
      ]
     },
     "metadata": {},
     "output_type": "display_data"
    }
   ],
   "source": [
    "# in the dataset Smoker column is very important so we check who all smoke and who don't\n",
    "sns.countplot(data=data,x='smoker')"
   ]
  },
  {
   "cell_type": "code",
   "execution_count": 19,
   "id": "497308f2",
   "metadata": {},
   "outputs": [
    {
     "data": {
      "application/vnd.plotly.v1+json": {
       "config": {
        "plotlyServerURL": "https://plot.ly"
       },
       "data": [
        {
         "alignmentgroup": "True",
         "bingroup": "x",
         "hovertemplate": "smoker=yes<br>sex=%{x}<br>count=%{y}<extra></extra>",
         "legendgroup": "yes",
         "marker": {
          "color": "#636efa",
          "pattern": {
           "shape": ""
          }
         },
         "name": "yes",
         "offsetgroup": "yes",
         "orientation": "v",
         "showlegend": true,
         "type": "histogram",
         "x": [
          "female",
          "female",
          "male",
          "male",
          "female",
          "male",
          "male",
          "male",
          "male",
          "male",
          "male",
          "male",
          "male",
          "male",
          "male",
          "female",
          "female",
          "male",
          "female",
          "male",
          "female",
          "male",
          "female",
          "male",
          "female",
          "male",
          "male",
          "female",
          "male",
          "male",
          "female",
          "male",
          "female",
          "female",
          "male",
          "male",
          "male",
          "female",
          "male",
          "male",
          "male",
          "female",
          "female",
          "female",
          "male",
          "female",
          "male",
          "male",
          "male",
          "female",
          "male",
          "female",
          "female",
          "male",
          "female",
          "male",
          "male",
          "male",
          "male",
          "female",
          "male",
          "male",
          "male",
          "male",
          "male",
          "female",
          "male",
          "female",
          "male",
          "male",
          "male",
          "male",
          "female",
          "male",
          "female",
          "male",
          "male",
          "female",
          "female",
          "male",
          "male",
          "female",
          "male",
          "female",
          "female",
          "male",
          "female",
          "male",
          "female",
          "female",
          "female",
          "female",
          "male",
          "male",
          "male",
          "female",
          "male",
          "male",
          "female",
          "male",
          "male",
          "male",
          "female",
          "male",
          "male",
          "male",
          "male",
          "male",
          "male",
          "male",
          "female",
          "male",
          "female",
          "female",
          "male",
          "female",
          "female",
          "female",
          "female",
          "female",
          "male",
          "female",
          "male",
          "female",
          "male",
          "male",
          "female",
          "male",
          "male",
          "female",
          "female",
          "male",
          "female",
          "male",
          "female",
          "male",
          "male",
          "male",
          "male",
          "female",
          "female",
          "female",
          "male",
          "female",
          "male",
          "male",
          "male",
          "male",
          "female",
          "female",
          "male",
          "male",
          "female",
          "male",
          "female",
          "male",
          "male",
          "male",
          "female",
          "female",
          "female",
          "male",
          "male",
          "male",
          "female",
          "female",
          "female",
          "female",
          "female",
          "female",
          "female",
          "male",
          "female",
          "female",
          "male",
          "male",
          "female",
          "male",
          "female",
          "male",
          "female",
          "male",
          "female",
          "male",
          "male",
          "male",
          "male",
          "male",
          "male",
          "male",
          "male",
          "male",
          "male",
          "male",
          "female",
          "female",
          "male",
          "male",
          "male",
          "male",
          "female",
          "male",
          "male",
          "female",
          "female",
          "male",
          "male",
          "female",
          "female",
          "male",
          "female",
          "male",
          "male",
          "male",
          "male",
          "male",
          "male",
          "female",
          "male",
          "female",
          "female",
          "female",
          "male",
          "female",
          "male",
          "male",
          "female",
          "female",
          "female",
          "female",
          "male",
          "female",
          "male",
          "male",
          "female",
          "female",
          "male",
          "female",
          "male",
          "female",
          "female",
          "female",
          "male",
          "female",
          "female",
          "female",
          "male",
          "female",
          "male",
          "male",
          "male",
          "male",
          "male",
          "male",
          "male",
          "male",
          "male",
          "female",
          "female",
          "male",
          "male",
          "male",
          "male",
          "male",
          "male",
          "male",
          "female",
          "male",
          "female",
          "female",
          "female",
          "male",
          "female",
          "female"
         ],
         "xaxis": "x",
         "yaxis": "y"
        },
        {
         "alignmentgroup": "True",
         "bingroup": "x",
         "hovertemplate": "smoker=no<br>sex=%{x}<br>count=%{y}<extra></extra>",
         "legendgroup": "no",
         "marker": {
          "color": "#EF553B",
          "pattern": {
           "shape": ""
          }
         },
         "name": "no",
         "offsetgroup": "no",
         "orientation": "v",
         "showlegend": true,
         "type": "histogram",
         "x": [
          "male",
          "male",
          "male",
          "male",
          "female",
          "female",
          "female",
          "male",
          "female",
          "male",
          "male",
          "female",
          "male",
          "female",
          "male",
          "male",
          "female",
          "female",
          "male",
          "male",
          "female",
          "female",
          "female",
          "male",
          "female",
          "female",
          "male",
          "male",
          "female",
          "male",
          "female",
          "female",
          "male",
          "female",
          "male",
          "male",
          "female",
          "female",
          "female",
          "female",
          "female",
          "female",
          "female",
          "female",
          "male",
          "male",
          "male",
          "female",
          "female",
          "female",
          "male",
          "female",
          "male",
          "female",
          "male",
          "male",
          "male",
          "female",
          "male",
          "female",
          "female",
          "male",
          "female",
          "female",
          "female",
          "female",
          "female",
          "female",
          "female",
          "male",
          "female",
          "female",
          "male",
          "female",
          "male",
          "female",
          "female",
          "female",
          "male",
          "male",
          "male",
          "female",
          "male",
          "female",
          "male",
          "male",
          "male",
          "female",
          "female",
          "male",
          "male",
          "female",
          "female",
          "female",
          "female",
          "male",
          "female",
          "female",
          "female",
          "male",
          "female",
          "female",
          "male",
          "male",
          "female",
          "female",
          "male",
          "male",
          "male",
          "female",
          "female",
          "female",
          "male",
          "male",
          "male",
          "female",
          "female",
          "male",
          "female",
          "male",
          "female",
          "male",
          "male",
          "female",
          "female",
          "female",
          "male",
          "male",
          "male",
          "male",
          "female",
          "female",
          "male",
          "male",
          "female",
          "female",
          "male",
          "female",
          "male",
          "female",
          "male",
          "female",
          "female",
          "female",
          "female",
          "male",
          "female",
          "male",
          "female",
          "male",
          "male",
          "female",
          "female",
          "female",
          "female",
          "female",
          "female",
          "female",
          "male",
          "female",
          "male",
          "female",
          "male",
          "male",
          "male",
          "male",
          "female",
          "female",
          "female",
          "female",
          "male",
          "female",
          "female",
          "female",
          "female",
          "male",
          "male",
          "male",
          "female",
          "female",
          "male",
          "female",
          "female",
          "female",
          "male",
          "male",
          "female",
          "male",
          "male",
          "female",
          "female",
          "male",
          "male",
          "female",
          "male",
          "male",
          "male",
          "male",
          "female",
          "female",
          "male",
          "female",
          "female",
          "female",
          "male",
          "male",
          "male",
          "male",
          "male",
          "male",
          "female",
          "male",
          "female",
          "male",
          "female",
          "male",
          "female",
          "female",
          "male",
          "female",
          "female",
          "male",
          "female",
          "male",
          "female",
          "male",
          "male",
          "female",
          "male",
          "female",
          "female",
          "female",
          "male",
          "female",
          "female",
          "male",
          "female",
          "male",
          "female",
          "male",
          "male",
          "male",
          "male",
          "female",
          "male",
          "male",
          "female",
          "male",
          "male",
          "male",
          "female",
          "male",
          "female",
          "female",
          "female",
          "male",
          "male",
          "male",
          "female",
          "female",
          "male",
          "female",
          "male",
          "female",
          "female",
          "male",
          "male",
          "female",
          "male",
          "female",
          "female",
          "female",
          "male",
          "female",
          "male",
          "male",
          "male",
          "male",
          "female",
          "female",
          "male",
          "female",
          "female",
          "female",
          "female",
          "female",
          "male",
          "male",
          "female",
          "female",
          "female",
          "male",
          "female",
          "male",
          "male",
          "female",
          "male",
          "male",
          "female",
          "male",
          "female",
          "female",
          "male",
          "female",
          "male",
          "male",
          "female",
          "male",
          "female",
          "male",
          "male",
          "female",
          "female",
          "male",
          "female",
          "male",
          "male",
          "female",
          "female",
          "female",
          "male",
          "male",
          "male",
          "male",
          "female",
          "female",
          "male",
          "male",
          "male",
          "male",
          "male",
          "female",
          "female",
          "female",
          "female",
          "male",
          "female",
          "male",
          "female",
          "male",
          "male",
          "male",
          "male",
          "female",
          "male",
          "female",
          "male",
          "female",
          "female",
          "male",
          "female",
          "female",
          "male",
          "male",
          "male",
          "male",
          "male",
          "male",
          "male",
          "female",
          "female",
          "male",
          "female",
          "female",
          "female",
          "male",
          "male",
          "female",
          "female",
          "female",
          "female",
          "male",
          "female",
          "female",
          "female",
          "male",
          "male",
          "male",
          "male",
          "male",
          "female",
          "female",
          "male",
          "female",
          "female",
          "male",
          "male",
          "female",
          "female",
          "female",
          "male",
          "male",
          "female",
          "male",
          "female",
          "female",
          "male",
          "female",
          "male",
          "male",
          "male",
          "female",
          "female",
          "male",
          "male",
          "male",
          "male",
          "male",
          "male",
          "male",
          "female",
          "male",
          "female",
          "female",
          "female",
          "female",
          "female",
          "female",
          "female",
          "male",
          "male",
          "female",
          "male",
          "male",
          "male",
          "male",
          "female",
          "female",
          "female",
          "male",
          "female",
          "female",
          "female",
          "male",
          "male",
          "female",
          "female",
          "male",
          "female",
          "male",
          "female",
          "female",
          "male",
          "male",
          "male",
          "male",
          "female",
          "female",
          "male",
          "male",
          "female",
          "female",
          "female",
          "male",
          "female",
          "female",
          "female",
          "female",
          "female",
          "female",
          "female",
          "male",
          "male",
          "female",
          "male",
          "male",
          "male",
          "female",
          "male",
          "female",
          "male",
          "female",
          "female",
          "female",
          "male",
          "male",
          "male",
          "female",
          "female",
          "female",
          "male",
          "female",
          "female",
          "male",
          "female",
          "female",
          "female",
          "female",
          "male",
          "female",
          "female",
          "female",
          "female",
          "female",
          "female",
          "female",
          "male",
          "female",
          "male",
          "female",
          "male",
          "male",
          "male",
          "male",
          "male",
          "female",
          "male",
          "male",
          "male",
          "female",
          "female",
          "male",
          "male",
          "male",
          "female",
          "male",
          "male",
          "male",
          "female",
          "male",
          "female",
          "female",
          "female",
          "female",
          "female",
          "female",
          "female",
          "male",
          "female",
          "female",
          "male",
          "female",
          "female",
          "male",
          "male",
          "female",
          "male",
          "female",
          "male",
          "female",
          "male",
          "female",
          "male",
          "female",
          "female",
          "male",
          "male",
          "female",
          "male",
          "male",
          "male",
          "female",
          "male",
          "male",
          "male",
          "male",
          "female",
          "female",
          "female",
          "male",
          "female",
          "female",
          "female",
          "male",
          "female",
          "female",
          "female",
          "male",
          "female",
          "female",
          "male",
          "female",
          "female",
          "male",
          "female",
          "male",
          "female",
          "male",
          "female",
          "female",
          "female",
          "male",
          "male",
          "male",
          "female",
          "male",
          "female",
          "female",
          "male",
          "female",
          "female",
          "female",
          "female",
          "male",
          "male",
          "female",
          "male",
          "female",
          "male",
          "male",
          "female",
          "male",
          "male",
          "male",
          "female",
          "male",
          "male",
          "female",
          "male",
          "female",
          "male",
          "male",
          "female",
          "female",
          "male",
          "female",
          "female",
          "female",
          "male",
          "female",
          "female",
          "male",
          "male",
          "male",
          "male",
          "male",
          "male",
          "male",
          "male",
          "female",
          "female",
          "male",
          "male",
          "male",
          "female",
          "female",
          "male",
          "female",
          "female",
          "male",
          "female",
          "female",
          "female",
          "female",
          "male",
          "male",
          "female",
          "female",
          "female",
          "male",
          "male",
          "female",
          "female",
          "male",
          "male",
          "male",
          "female",
          "female",
          "male",
          "male",
          "male",
          "female",
          "female",
          "male",
          "female",
          "male",
          "male",
          "female",
          "female",
          "male",
          "male",
          "male",
          "male",
          "female",
          "female",
          "female",
          "male",
          "male",
          "male",
          "female",
          "male",
          "female",
          "male",
          "male",
          "female",
          "female",
          "female",
          "male",
          "female",
          "female",
          "female",
          "male",
          "male",
          "male",
          "male",
          "male",
          "female",
          "male",
          "female",
          "male",
          "male",
          "male",
          "female",
          "female",
          "male",
          "male",
          "female",
          "male",
          "male",
          "female",
          "male",
          "female",
          "male",
          "male",
          "female",
          "male",
          "male",
          "female",
          "male",
          "female",
          "female",
          "male",
          "male",
          "male",
          "female",
          "female",
          "male",
          "female",
          "male",
          "male",
          "female",
          "female",
          "male",
          "female",
          "female",
          "female",
          "female",
          "female",
          "male",
          "male",
          "male",
          "male",
          "female",
          "female",
          "female",
          "male",
          "male",
          "female",
          "male",
          "female",
          "male",
          "female",
          "male",
          "female",
          "male",
          "male",
          "male",
          "female",
          "female",
          "male",
          "male",
          "female",
          "male",
          "male",
          "male",
          "female",
          "male",
          "male",
          "male",
          "female",
          "female",
          "female",
          "male",
          "male",
          "male",
          "male",
          "male",
          "female",
          "female",
          "female",
          "female",
          "female",
          "male",
          "male",
          "male",
          "female",
          "female",
          "male",
          "male",
          "female",
          "male",
          "female",
          "male",
          "female",
          "male",
          "female",
          "female",
          "female",
          "male",
          "female",
          "female",
          "female",
          "female",
          "female",
          "male",
          "male",
          "male",
          "male",
          "male",
          "male",
          "male",
          "female",
          "female",
          "male",
          "female",
          "male",
          "female",
          "female",
          "female",
          "female",
          "male",
          "male",
          "female",
          "female",
          "male",
          "male",
          "female",
          "female",
          "male",
          "female",
          "male",
          "male",
          "male",
          "female",
          "male",
          "female",
          "female",
          "female",
          "male",
          "male",
          "female",
          "male",
          "female",
          "female",
          "female",
          "male",
          "male",
          "male",
          "male",
          "female",
          "female",
          "male",
          "male",
          "male",
          "female",
          "male",
          "male",
          "female",
          "female",
          "female",
          "female",
          "male",
          "male",
          "male",
          "male",
          "male",
          "male",
          "female",
          "male",
          "male",
          "male",
          "male",
          "female",
          "male",
          "female",
          "female",
          "male",
          "female",
          "female",
          "male",
          "male",
          "male",
          "male",
          "female",
          "female",
          "female",
          "male",
          "male",
          "female",
          "female",
          "male",
          "male",
          "male",
          "female",
          "male",
          "female",
          "female",
          "male",
          "female",
          "male",
          "female",
          "female",
          "male",
          "male",
          "female",
          "male",
          "female",
          "female",
          "female",
          "male",
          "male",
          "female",
          "female",
          "male",
          "male",
          "male",
          "female",
          "male",
          "male",
          "female",
          "female",
          "female",
          "female",
          "female",
          "female",
          "female",
          "female",
          "female",
          "male",
          "male",
          "female",
          "female",
          "female",
          "male",
          "female",
          "male",
          "female",
          "female",
          "male",
          "male",
          "female",
          "female",
          "female",
          "female",
          "female",
          "female",
          "female",
          "male",
          "female",
          "female",
          "female",
          "female",
          "female",
          "female",
          "female",
          "female",
          "male",
          "male",
          "female",
          "male",
          "male",
          "male",
          "male",
          "male",
          "female",
          "male",
          "male",
          "male",
          "male",
          "female",
          "female",
          "male",
          "male",
          "male",
          "female",
          "female",
          "male",
          "male",
          "male",
          "female",
          "male",
          "male",
          "male",
          "male",
          "female",
          "male",
          "female",
          "male",
          "female",
          "female",
          "male",
          "female",
          "female",
          "female",
          "male",
          "male",
          "female",
          "male",
          "female",
          "male",
          "female",
          "female",
          "female",
          "female",
          "female",
          "male",
          "female",
          "female",
          "male",
          "female",
          "female",
          "female",
          "female",
          "female",
          "male",
          "male",
          "female",
          "male",
          "male",
          "male",
          "female",
          "female",
          "female",
          "female",
          "male",
          "female",
          "female",
          "female",
          "male",
          "female",
          "male",
          "male",
          "male",
          "male",
          "male",
          "female",
          "male",
          "female",
          "female",
          "female",
          "male",
          "male",
          "female",
          "male",
          "male",
          "female",
          "male",
          "male",
          "female",
          "male",
          "male",
          "male",
          "male",
          "female",
          "male",
          "female",
          "male",
          "female",
          "female",
          "female",
          "male",
          "female",
          "female",
          "female"
         ],
         "xaxis": "x",
         "yaxis": "y"
        }
       ],
       "layout": {
        "barmode": "relative",
        "legend": {
         "title": {
          "text": "smoker"
         },
         "tracegroupgap": 0
        },
        "template": {
         "data": {
          "bar": [
           {
            "error_x": {
             "color": "#2a3f5f"
            },
            "error_y": {
             "color": "#2a3f5f"
            },
            "marker": {
             "line": {
              "color": "#E5ECF6",
              "width": 0.5
             },
             "pattern": {
              "fillmode": "overlay",
              "size": 10,
              "solidity": 0.2
             }
            },
            "type": "bar"
           }
          ],
          "barpolar": [
           {
            "marker": {
             "line": {
              "color": "#E5ECF6",
              "width": 0.5
             },
             "pattern": {
              "fillmode": "overlay",
              "size": 10,
              "solidity": 0.2
             }
            },
            "type": "barpolar"
           }
          ],
          "carpet": [
           {
            "aaxis": {
             "endlinecolor": "#2a3f5f",
             "gridcolor": "white",
             "linecolor": "white",
             "minorgridcolor": "white",
             "startlinecolor": "#2a3f5f"
            },
            "baxis": {
             "endlinecolor": "#2a3f5f",
             "gridcolor": "white",
             "linecolor": "white",
             "minorgridcolor": "white",
             "startlinecolor": "#2a3f5f"
            },
            "type": "carpet"
           }
          ],
          "choropleth": [
           {
            "colorbar": {
             "outlinewidth": 0,
             "ticks": ""
            },
            "type": "choropleth"
           }
          ],
          "contour": [
           {
            "colorbar": {
             "outlinewidth": 0,
             "ticks": ""
            },
            "colorscale": [
             [
              0,
              "#0d0887"
             ],
             [
              0.1111111111111111,
              "#46039f"
             ],
             [
              0.2222222222222222,
              "#7201a8"
             ],
             [
              0.3333333333333333,
              "#9c179e"
             ],
             [
              0.4444444444444444,
              "#bd3786"
             ],
             [
              0.5555555555555556,
              "#d8576b"
             ],
             [
              0.6666666666666666,
              "#ed7953"
             ],
             [
              0.7777777777777778,
              "#fb9f3a"
             ],
             [
              0.8888888888888888,
              "#fdca26"
             ],
             [
              1,
              "#f0f921"
             ]
            ],
            "type": "contour"
           }
          ],
          "contourcarpet": [
           {
            "colorbar": {
             "outlinewidth": 0,
             "ticks": ""
            },
            "type": "contourcarpet"
           }
          ],
          "heatmap": [
           {
            "colorbar": {
             "outlinewidth": 0,
             "ticks": ""
            },
            "colorscale": [
             [
              0,
              "#0d0887"
             ],
             [
              0.1111111111111111,
              "#46039f"
             ],
             [
              0.2222222222222222,
              "#7201a8"
             ],
             [
              0.3333333333333333,
              "#9c179e"
             ],
             [
              0.4444444444444444,
              "#bd3786"
             ],
             [
              0.5555555555555556,
              "#d8576b"
             ],
             [
              0.6666666666666666,
              "#ed7953"
             ],
             [
              0.7777777777777778,
              "#fb9f3a"
             ],
             [
              0.8888888888888888,
              "#fdca26"
             ],
             [
              1,
              "#f0f921"
             ]
            ],
            "type": "heatmap"
           }
          ],
          "heatmapgl": [
           {
            "colorbar": {
             "outlinewidth": 0,
             "ticks": ""
            },
            "colorscale": [
             [
              0,
              "#0d0887"
             ],
             [
              0.1111111111111111,
              "#46039f"
             ],
             [
              0.2222222222222222,
              "#7201a8"
             ],
             [
              0.3333333333333333,
              "#9c179e"
             ],
             [
              0.4444444444444444,
              "#bd3786"
             ],
             [
              0.5555555555555556,
              "#d8576b"
             ],
             [
              0.6666666666666666,
              "#ed7953"
             ],
             [
              0.7777777777777778,
              "#fb9f3a"
             ],
             [
              0.8888888888888888,
              "#fdca26"
             ],
             [
              1,
              "#f0f921"
             ]
            ],
            "type": "heatmapgl"
           }
          ],
          "histogram": [
           {
            "marker": {
             "pattern": {
              "fillmode": "overlay",
              "size": 10,
              "solidity": 0.2
             }
            },
            "type": "histogram"
           }
          ],
          "histogram2d": [
           {
            "colorbar": {
             "outlinewidth": 0,
             "ticks": ""
            },
            "colorscale": [
             [
              0,
              "#0d0887"
             ],
             [
              0.1111111111111111,
              "#46039f"
             ],
             [
              0.2222222222222222,
              "#7201a8"
             ],
             [
              0.3333333333333333,
              "#9c179e"
             ],
             [
              0.4444444444444444,
              "#bd3786"
             ],
             [
              0.5555555555555556,
              "#d8576b"
             ],
             [
              0.6666666666666666,
              "#ed7953"
             ],
             [
              0.7777777777777778,
              "#fb9f3a"
             ],
             [
              0.8888888888888888,
              "#fdca26"
             ],
             [
              1,
              "#f0f921"
             ]
            ],
            "type": "histogram2d"
           }
          ],
          "histogram2dcontour": [
           {
            "colorbar": {
             "outlinewidth": 0,
             "ticks": ""
            },
            "colorscale": [
             [
              0,
              "#0d0887"
             ],
             [
              0.1111111111111111,
              "#46039f"
             ],
             [
              0.2222222222222222,
              "#7201a8"
             ],
             [
              0.3333333333333333,
              "#9c179e"
             ],
             [
              0.4444444444444444,
              "#bd3786"
             ],
             [
              0.5555555555555556,
              "#d8576b"
             ],
             [
              0.6666666666666666,
              "#ed7953"
             ],
             [
              0.7777777777777778,
              "#fb9f3a"
             ],
             [
              0.8888888888888888,
              "#fdca26"
             ],
             [
              1,
              "#f0f921"
             ]
            ],
            "type": "histogram2dcontour"
           }
          ],
          "mesh3d": [
           {
            "colorbar": {
             "outlinewidth": 0,
             "ticks": ""
            },
            "type": "mesh3d"
           }
          ],
          "parcoords": [
           {
            "line": {
             "colorbar": {
              "outlinewidth": 0,
              "ticks": ""
             }
            },
            "type": "parcoords"
           }
          ],
          "pie": [
           {
            "automargin": true,
            "type": "pie"
           }
          ],
          "scatter": [
           {
            "fillpattern": {
             "fillmode": "overlay",
             "size": 10,
             "solidity": 0.2
            },
            "type": "scatter"
           }
          ],
          "scatter3d": [
           {
            "line": {
             "colorbar": {
              "outlinewidth": 0,
              "ticks": ""
             }
            },
            "marker": {
             "colorbar": {
              "outlinewidth": 0,
              "ticks": ""
             }
            },
            "type": "scatter3d"
           }
          ],
          "scattercarpet": [
           {
            "marker": {
             "colorbar": {
              "outlinewidth": 0,
              "ticks": ""
             }
            },
            "type": "scattercarpet"
           }
          ],
          "scattergeo": [
           {
            "marker": {
             "colorbar": {
              "outlinewidth": 0,
              "ticks": ""
             }
            },
            "type": "scattergeo"
           }
          ],
          "scattergl": [
           {
            "marker": {
             "colorbar": {
              "outlinewidth": 0,
              "ticks": ""
             }
            },
            "type": "scattergl"
           }
          ],
          "scattermapbox": [
           {
            "marker": {
             "colorbar": {
              "outlinewidth": 0,
              "ticks": ""
             }
            },
            "type": "scattermapbox"
           }
          ],
          "scatterpolar": [
           {
            "marker": {
             "colorbar": {
              "outlinewidth": 0,
              "ticks": ""
             }
            },
            "type": "scatterpolar"
           }
          ],
          "scatterpolargl": [
           {
            "marker": {
             "colorbar": {
              "outlinewidth": 0,
              "ticks": ""
             }
            },
            "type": "scatterpolargl"
           }
          ],
          "scatterternary": [
           {
            "marker": {
             "colorbar": {
              "outlinewidth": 0,
              "ticks": ""
             }
            },
            "type": "scatterternary"
           }
          ],
          "surface": [
           {
            "colorbar": {
             "outlinewidth": 0,
             "ticks": ""
            },
            "colorscale": [
             [
              0,
              "#0d0887"
             ],
             [
              0.1111111111111111,
              "#46039f"
             ],
             [
              0.2222222222222222,
              "#7201a8"
             ],
             [
              0.3333333333333333,
              "#9c179e"
             ],
             [
              0.4444444444444444,
              "#bd3786"
             ],
             [
              0.5555555555555556,
              "#d8576b"
             ],
             [
              0.6666666666666666,
              "#ed7953"
             ],
             [
              0.7777777777777778,
              "#fb9f3a"
             ],
             [
              0.8888888888888888,
              "#fdca26"
             ],
             [
              1,
              "#f0f921"
             ]
            ],
            "type": "surface"
           }
          ],
          "table": [
           {
            "cells": {
             "fill": {
              "color": "#EBF0F8"
             },
             "line": {
              "color": "white"
             }
            },
            "header": {
             "fill": {
              "color": "#C8D4E3"
             },
             "line": {
              "color": "white"
             }
            },
            "type": "table"
           }
          ]
         },
         "layout": {
          "annotationdefaults": {
           "arrowcolor": "#2a3f5f",
           "arrowhead": 0,
           "arrowwidth": 1
          },
          "autotypenumbers": "strict",
          "coloraxis": {
           "colorbar": {
            "outlinewidth": 0,
            "ticks": ""
           }
          },
          "colorscale": {
           "diverging": [
            [
             0,
             "#8e0152"
            ],
            [
             0.1,
             "#c51b7d"
            ],
            [
             0.2,
             "#de77ae"
            ],
            [
             0.3,
             "#f1b6da"
            ],
            [
             0.4,
             "#fde0ef"
            ],
            [
             0.5,
             "#f7f7f7"
            ],
            [
             0.6,
             "#e6f5d0"
            ],
            [
             0.7,
             "#b8e186"
            ],
            [
             0.8,
             "#7fbc41"
            ],
            [
             0.9,
             "#4d9221"
            ],
            [
             1,
             "#276419"
            ]
           ],
           "sequential": [
            [
             0,
             "#0d0887"
            ],
            [
             0.1111111111111111,
             "#46039f"
            ],
            [
             0.2222222222222222,
             "#7201a8"
            ],
            [
             0.3333333333333333,
             "#9c179e"
            ],
            [
             0.4444444444444444,
             "#bd3786"
            ],
            [
             0.5555555555555556,
             "#d8576b"
            ],
            [
             0.6666666666666666,
             "#ed7953"
            ],
            [
             0.7777777777777778,
             "#fb9f3a"
            ],
            [
             0.8888888888888888,
             "#fdca26"
            ],
            [
             1,
             "#f0f921"
            ]
           ],
           "sequentialminus": [
            [
             0,
             "#0d0887"
            ],
            [
             0.1111111111111111,
             "#46039f"
            ],
            [
             0.2222222222222222,
             "#7201a8"
            ],
            [
             0.3333333333333333,
             "#9c179e"
            ],
            [
             0.4444444444444444,
             "#bd3786"
            ],
            [
             0.5555555555555556,
             "#d8576b"
            ],
            [
             0.6666666666666666,
             "#ed7953"
            ],
            [
             0.7777777777777778,
             "#fb9f3a"
            ],
            [
             0.8888888888888888,
             "#fdca26"
            ],
            [
             1,
             "#f0f921"
            ]
           ]
          },
          "colorway": [
           "#636efa",
           "#EF553B",
           "#00cc96",
           "#ab63fa",
           "#FFA15A",
           "#19d3f3",
           "#FF6692",
           "#B6E880",
           "#FF97FF",
           "#FECB52"
          ],
          "font": {
           "color": "#2a3f5f"
          },
          "geo": {
           "bgcolor": "white",
           "lakecolor": "white",
           "landcolor": "#E5ECF6",
           "showlakes": true,
           "showland": true,
           "subunitcolor": "white"
          },
          "hoverlabel": {
           "align": "left"
          },
          "hovermode": "closest",
          "mapbox": {
           "style": "light"
          },
          "paper_bgcolor": "white",
          "plot_bgcolor": "#E5ECF6",
          "polar": {
           "angularaxis": {
            "gridcolor": "white",
            "linecolor": "white",
            "ticks": ""
           },
           "bgcolor": "#E5ECF6",
           "radialaxis": {
            "gridcolor": "white",
            "linecolor": "white",
            "ticks": ""
           }
          },
          "scene": {
           "xaxis": {
            "backgroundcolor": "#E5ECF6",
            "gridcolor": "white",
            "gridwidth": 2,
            "linecolor": "white",
            "showbackground": true,
            "ticks": "",
            "zerolinecolor": "white"
           },
           "yaxis": {
            "backgroundcolor": "#E5ECF6",
            "gridcolor": "white",
            "gridwidth": 2,
            "linecolor": "white",
            "showbackground": true,
            "ticks": "",
            "zerolinecolor": "white"
           },
           "zaxis": {
            "backgroundcolor": "#E5ECF6",
            "gridcolor": "white",
            "gridwidth": 2,
            "linecolor": "white",
            "showbackground": true,
            "ticks": "",
            "zerolinecolor": "white"
           }
          },
          "shapedefaults": {
           "line": {
            "color": "#2a3f5f"
           }
          },
          "ternary": {
           "aaxis": {
            "gridcolor": "white",
            "linecolor": "white",
            "ticks": ""
           },
           "baxis": {
            "gridcolor": "white",
            "linecolor": "white",
            "ticks": ""
           },
           "bgcolor": "#E5ECF6",
           "caxis": {
            "gridcolor": "white",
            "linecolor": "white",
            "ticks": ""
           }
          },
          "title": {
           "x": 0.05
          },
          "xaxis": {
           "automargin": true,
           "gridcolor": "white",
           "linecolor": "white",
           "ticks": "",
           "title": {
            "standoff": 15
           },
           "zerolinecolor": "white",
           "zerolinewidth": 2
          },
          "yaxis": {
           "automargin": true,
           "gridcolor": "white",
           "linecolor": "white",
           "ticks": "",
           "title": {
            "standoff": 15
           },
           "zerolinecolor": "white",
           "zerolinewidth": 2
          }
         }
        },
        "title": {
         "text": "Number of Smokers"
        },
        "xaxis": {
         "anchor": "y",
         "domain": [
          0,
          1
         ],
         "title": {
          "text": "sex"
         }
        },
        "yaxis": {
         "anchor": "x",
         "domain": [
          0,
          1
         ],
         "title": {
          "text": "count"
         }
        }
       }
      },
      "text/html": [
       "<div>                            <div id=\"34ea07a7-b6f9-4d1c-9576-5d106604aef9\" class=\"plotly-graph-div\" style=\"height:525px; width:100%;\"></div>            <script type=\"text/javascript\">                require([\"plotly\"], function(Plotly) {                    window.PLOTLYENV=window.PLOTLYENV || {};                                    if (document.getElementById(\"34ea07a7-b6f9-4d1c-9576-5d106604aef9\")) {                    Plotly.newPlot(                        \"34ea07a7-b6f9-4d1c-9576-5d106604aef9\",                        [{\"alignmentgroup\":\"True\",\"bingroup\":\"x\",\"hovertemplate\":\"smoker=yes<br>sex=%{x}<br>count=%{y}<extra></extra>\",\"legendgroup\":\"yes\",\"marker\":{\"color\":\"#636efa\",\"pattern\":{\"shape\":\"\"}},\"name\":\"yes\",\"offsetgroup\":\"yes\",\"orientation\":\"v\",\"showlegend\":true,\"x\":[\"female\",\"female\",\"male\",\"male\",\"female\",\"male\",\"male\",\"male\",\"male\",\"male\",\"male\",\"male\",\"male\",\"male\",\"male\",\"female\",\"female\",\"male\",\"female\",\"male\",\"female\",\"male\",\"female\",\"male\",\"female\",\"male\",\"male\",\"female\",\"male\",\"male\",\"female\",\"male\",\"female\",\"female\",\"male\",\"male\",\"male\",\"female\",\"male\",\"male\",\"male\",\"female\",\"female\",\"female\",\"male\",\"female\",\"male\",\"male\",\"male\",\"female\",\"male\",\"female\",\"female\",\"male\",\"female\",\"male\",\"male\",\"male\",\"male\",\"female\",\"male\",\"male\",\"male\",\"male\",\"male\",\"female\",\"male\",\"female\",\"male\",\"male\",\"male\",\"male\",\"female\",\"male\",\"female\",\"male\",\"male\",\"female\",\"female\",\"male\",\"male\",\"female\",\"male\",\"female\",\"female\",\"male\",\"female\",\"male\",\"female\",\"female\",\"female\",\"female\",\"male\",\"male\",\"male\",\"female\",\"male\",\"male\",\"female\",\"male\",\"male\",\"male\",\"female\",\"male\",\"male\",\"male\",\"male\",\"male\",\"male\",\"male\",\"female\",\"male\",\"female\",\"female\",\"male\",\"female\",\"female\",\"female\",\"female\",\"female\",\"male\",\"female\",\"male\",\"female\",\"male\",\"male\",\"female\",\"male\",\"male\",\"female\",\"female\",\"male\",\"female\",\"male\",\"female\",\"male\",\"male\",\"male\",\"male\",\"female\",\"female\",\"female\",\"male\",\"female\",\"male\",\"male\",\"male\",\"male\",\"female\",\"female\",\"male\",\"male\",\"female\",\"male\",\"female\",\"male\",\"male\",\"male\",\"female\",\"female\",\"female\",\"male\",\"male\",\"male\",\"female\",\"female\",\"female\",\"female\",\"female\",\"female\",\"female\",\"male\",\"female\",\"female\",\"male\",\"male\",\"female\",\"male\",\"female\",\"male\",\"female\",\"male\",\"female\",\"male\",\"male\",\"male\",\"male\",\"male\",\"male\",\"male\",\"male\",\"male\",\"male\",\"male\",\"female\",\"female\",\"male\",\"male\",\"male\",\"male\",\"female\",\"male\",\"male\",\"female\",\"female\",\"male\",\"male\",\"female\",\"female\",\"male\",\"female\",\"male\",\"male\",\"male\",\"male\",\"male\",\"male\",\"female\",\"male\",\"female\",\"female\",\"female\",\"male\",\"female\",\"male\",\"male\",\"female\",\"female\",\"female\",\"female\",\"male\",\"female\",\"male\",\"male\",\"female\",\"female\",\"male\",\"female\",\"male\",\"female\",\"female\",\"female\",\"male\",\"female\",\"female\",\"female\",\"male\",\"female\",\"male\",\"male\",\"male\",\"male\",\"male\",\"male\",\"male\",\"male\",\"male\",\"female\",\"female\",\"male\",\"male\",\"male\",\"male\",\"male\",\"male\",\"male\",\"female\",\"male\",\"female\",\"female\",\"female\",\"male\",\"female\",\"female\"],\"xaxis\":\"x\",\"yaxis\":\"y\",\"type\":\"histogram\"},{\"alignmentgroup\":\"True\",\"bingroup\":\"x\",\"hovertemplate\":\"smoker=no<br>sex=%{x}<br>count=%{y}<extra></extra>\",\"legendgroup\":\"no\",\"marker\":{\"color\":\"#EF553B\",\"pattern\":{\"shape\":\"\"}},\"name\":\"no\",\"offsetgroup\":\"no\",\"orientation\":\"v\",\"showlegend\":true,\"x\":[\"male\",\"male\",\"male\",\"male\",\"female\",\"female\",\"female\",\"male\",\"female\",\"male\",\"male\",\"female\",\"male\",\"female\",\"male\",\"male\",\"female\",\"female\",\"male\",\"male\",\"female\",\"female\",\"female\",\"male\",\"female\",\"female\",\"male\",\"male\",\"female\",\"male\",\"female\",\"female\",\"male\",\"female\",\"male\",\"male\",\"female\",\"female\",\"female\",\"female\",\"female\",\"female\",\"female\",\"female\",\"male\",\"male\",\"male\",\"female\",\"female\",\"female\",\"male\",\"female\",\"male\",\"female\",\"male\",\"male\",\"male\",\"female\",\"male\",\"female\",\"female\",\"male\",\"female\",\"female\",\"female\",\"female\",\"female\",\"female\",\"female\",\"male\",\"female\",\"female\",\"male\",\"female\",\"male\",\"female\",\"female\",\"female\",\"male\",\"male\",\"male\",\"female\",\"male\",\"female\",\"male\",\"male\",\"male\",\"female\",\"female\",\"male\",\"male\",\"female\",\"female\",\"female\",\"female\",\"male\",\"female\",\"female\",\"female\",\"male\",\"female\",\"female\",\"male\",\"male\",\"female\",\"female\",\"male\",\"male\",\"male\",\"female\",\"female\",\"female\",\"male\",\"male\",\"male\",\"female\",\"female\",\"male\",\"female\",\"male\",\"female\",\"male\",\"male\",\"female\",\"female\",\"female\",\"male\",\"male\",\"male\",\"male\",\"female\",\"female\",\"male\",\"male\",\"female\",\"female\",\"male\",\"female\",\"male\",\"female\",\"male\",\"female\",\"female\",\"female\",\"female\",\"male\",\"female\",\"male\",\"female\",\"male\",\"male\",\"female\",\"female\",\"female\",\"female\",\"female\",\"female\",\"female\",\"male\",\"female\",\"male\",\"female\",\"male\",\"male\",\"male\",\"male\",\"female\",\"female\",\"female\",\"female\",\"male\",\"female\",\"female\",\"female\",\"female\",\"male\",\"male\",\"male\",\"female\",\"female\",\"male\",\"female\",\"female\",\"female\",\"male\",\"male\",\"female\",\"male\",\"male\",\"female\",\"female\",\"male\",\"male\",\"female\",\"male\",\"male\",\"male\",\"male\",\"female\",\"female\",\"male\",\"female\",\"female\",\"female\",\"male\",\"male\",\"male\",\"male\",\"male\",\"male\",\"female\",\"male\",\"female\",\"male\",\"female\",\"male\",\"female\",\"female\",\"male\",\"female\",\"female\",\"male\",\"female\",\"male\",\"female\",\"male\",\"male\",\"female\",\"male\",\"female\",\"female\",\"female\",\"male\",\"female\",\"female\",\"male\",\"female\",\"male\",\"female\",\"male\",\"male\",\"male\",\"male\",\"female\",\"male\",\"male\",\"female\",\"male\",\"male\",\"male\",\"female\",\"male\",\"female\",\"female\",\"female\",\"male\",\"male\",\"male\",\"female\",\"female\",\"male\",\"female\",\"male\",\"female\",\"female\",\"male\",\"male\",\"female\",\"male\",\"female\",\"female\",\"female\",\"male\",\"female\",\"male\",\"male\",\"male\",\"male\",\"female\",\"female\",\"male\",\"female\",\"female\",\"female\",\"female\",\"female\",\"male\",\"male\",\"female\",\"female\",\"female\",\"male\",\"female\",\"male\",\"male\",\"female\",\"male\",\"male\",\"female\",\"male\",\"female\",\"female\",\"male\",\"female\",\"male\",\"male\",\"female\",\"male\",\"female\",\"male\",\"male\",\"female\",\"female\",\"male\",\"female\",\"male\",\"male\",\"female\",\"female\",\"female\",\"male\",\"male\",\"male\",\"male\",\"female\",\"female\",\"male\",\"male\",\"male\",\"male\",\"male\",\"female\",\"female\",\"female\",\"female\",\"male\",\"female\",\"male\",\"female\",\"male\",\"male\",\"male\",\"male\",\"female\",\"male\",\"female\",\"male\",\"female\",\"female\",\"male\",\"female\",\"female\",\"male\",\"male\",\"male\",\"male\",\"male\",\"male\",\"male\",\"female\",\"female\",\"male\",\"female\",\"female\",\"female\",\"male\",\"male\",\"female\",\"female\",\"female\",\"female\",\"male\",\"female\",\"female\",\"female\",\"male\",\"male\",\"male\",\"male\",\"male\",\"female\",\"female\",\"male\",\"female\",\"female\",\"male\",\"male\",\"female\",\"female\",\"female\",\"male\",\"male\",\"female\",\"male\",\"female\",\"female\",\"male\",\"female\",\"male\",\"male\",\"male\",\"female\",\"female\",\"male\",\"male\",\"male\",\"male\",\"male\",\"male\",\"male\",\"female\",\"male\",\"female\",\"female\",\"female\",\"female\",\"female\",\"female\",\"female\",\"male\",\"male\",\"female\",\"male\",\"male\",\"male\",\"male\",\"female\",\"female\",\"female\",\"male\",\"female\",\"female\",\"female\",\"male\",\"male\",\"female\",\"female\",\"male\",\"female\",\"male\",\"female\",\"female\",\"male\",\"male\",\"male\",\"male\",\"female\",\"female\",\"male\",\"male\",\"female\",\"female\",\"female\",\"male\",\"female\",\"female\",\"female\",\"female\",\"female\",\"female\",\"female\",\"male\",\"male\",\"female\",\"male\",\"male\",\"male\",\"female\",\"male\",\"female\",\"male\",\"female\",\"female\",\"female\",\"male\",\"male\",\"male\",\"female\",\"female\",\"female\",\"male\",\"female\",\"female\",\"male\",\"female\",\"female\",\"female\",\"female\",\"male\",\"female\",\"female\",\"female\",\"female\",\"female\",\"female\",\"female\",\"male\",\"female\",\"male\",\"female\",\"male\",\"male\",\"male\",\"male\",\"male\",\"female\",\"male\",\"male\",\"male\",\"female\",\"female\",\"male\",\"male\",\"male\",\"female\",\"male\",\"male\",\"male\",\"female\",\"male\",\"female\",\"female\",\"female\",\"female\",\"female\",\"female\",\"female\",\"male\",\"female\",\"female\",\"male\",\"female\",\"female\",\"male\",\"male\",\"female\",\"male\",\"female\",\"male\",\"female\",\"male\",\"female\",\"male\",\"female\",\"female\",\"male\",\"male\",\"female\",\"male\",\"male\",\"male\",\"female\",\"male\",\"male\",\"male\",\"male\",\"female\",\"female\",\"female\",\"male\",\"female\",\"female\",\"female\",\"male\",\"female\",\"female\",\"female\",\"male\",\"female\",\"female\",\"male\",\"female\",\"female\",\"male\",\"female\",\"male\",\"female\",\"male\",\"female\",\"female\",\"female\",\"male\",\"male\",\"male\",\"female\",\"male\",\"female\",\"female\",\"male\",\"female\",\"female\",\"female\",\"female\",\"male\",\"male\",\"female\",\"male\",\"female\",\"male\",\"male\",\"female\",\"male\",\"male\",\"male\",\"female\",\"male\",\"male\",\"female\",\"male\",\"female\",\"male\",\"male\",\"female\",\"female\",\"male\",\"female\",\"female\",\"female\",\"male\",\"female\",\"female\",\"male\",\"male\",\"male\",\"male\",\"male\",\"male\",\"male\",\"male\",\"female\",\"female\",\"male\",\"male\",\"male\",\"female\",\"female\",\"male\",\"female\",\"female\",\"male\",\"female\",\"female\",\"female\",\"female\",\"male\",\"male\",\"female\",\"female\",\"female\",\"male\",\"male\",\"female\",\"female\",\"male\",\"male\",\"male\",\"female\",\"female\",\"male\",\"male\",\"male\",\"female\",\"female\",\"male\",\"female\",\"male\",\"male\",\"female\",\"female\",\"male\",\"male\",\"male\",\"male\",\"female\",\"female\",\"female\",\"male\",\"male\",\"male\",\"female\",\"male\",\"female\",\"male\",\"male\",\"female\",\"female\",\"female\",\"male\",\"female\",\"female\",\"female\",\"male\",\"male\",\"male\",\"male\",\"male\",\"female\",\"male\",\"female\",\"male\",\"male\",\"male\",\"female\",\"female\",\"male\",\"male\",\"female\",\"male\",\"male\",\"female\",\"male\",\"female\",\"male\",\"male\",\"female\",\"male\",\"male\",\"female\",\"male\",\"female\",\"female\",\"male\",\"male\",\"male\",\"female\",\"female\",\"male\",\"female\",\"male\",\"male\",\"female\",\"female\",\"male\",\"female\",\"female\",\"female\",\"female\",\"female\",\"male\",\"male\",\"male\",\"male\",\"female\",\"female\",\"female\",\"male\",\"male\",\"female\",\"male\",\"female\",\"male\",\"female\",\"male\",\"female\",\"male\",\"male\",\"male\",\"female\",\"female\",\"male\",\"male\",\"female\",\"male\",\"male\",\"male\",\"female\",\"male\",\"male\",\"male\",\"female\",\"female\",\"female\",\"male\",\"male\",\"male\",\"male\",\"male\",\"female\",\"female\",\"female\",\"female\",\"female\",\"male\",\"male\",\"male\",\"female\",\"female\",\"male\",\"male\",\"female\",\"male\",\"female\",\"male\",\"female\",\"male\",\"female\",\"female\",\"female\",\"male\",\"female\",\"female\",\"female\",\"female\",\"female\",\"male\",\"male\",\"male\",\"male\",\"male\",\"male\",\"male\",\"female\",\"female\",\"male\",\"female\",\"male\",\"female\",\"female\",\"female\",\"female\",\"male\",\"male\",\"female\",\"female\",\"male\",\"male\",\"female\",\"female\",\"male\",\"female\",\"male\",\"male\",\"male\",\"female\",\"male\",\"female\",\"female\",\"female\",\"male\",\"male\",\"female\",\"male\",\"female\",\"female\",\"female\",\"male\",\"male\",\"male\",\"male\",\"female\",\"female\",\"male\",\"male\",\"male\",\"female\",\"male\",\"male\",\"female\",\"female\",\"female\",\"female\",\"male\",\"male\",\"male\",\"male\",\"male\",\"male\",\"female\",\"male\",\"male\",\"male\",\"male\",\"female\",\"male\",\"female\",\"female\",\"male\",\"female\",\"female\",\"male\",\"male\",\"male\",\"male\",\"female\",\"female\",\"female\",\"male\",\"male\",\"female\",\"female\",\"male\",\"male\",\"male\",\"female\",\"male\",\"female\",\"female\",\"male\",\"female\",\"male\",\"female\",\"female\",\"male\",\"male\",\"female\",\"male\",\"female\",\"female\",\"female\",\"male\",\"male\",\"female\",\"female\",\"male\",\"male\",\"male\",\"female\",\"male\",\"male\",\"female\",\"female\",\"female\",\"female\",\"female\",\"female\",\"female\",\"female\",\"female\",\"male\",\"male\",\"female\",\"female\",\"female\",\"male\",\"female\",\"male\",\"female\",\"female\",\"male\",\"male\",\"female\",\"female\",\"female\",\"female\",\"female\",\"female\",\"female\",\"male\",\"female\",\"female\",\"female\",\"female\",\"female\",\"female\",\"female\",\"female\",\"male\",\"male\",\"female\",\"male\",\"male\",\"male\",\"male\",\"male\",\"female\",\"male\",\"male\",\"male\",\"male\",\"female\",\"female\",\"male\",\"male\",\"male\",\"female\",\"female\",\"male\",\"male\",\"male\",\"female\",\"male\",\"male\",\"male\",\"male\",\"female\",\"male\",\"female\",\"male\",\"female\",\"female\",\"male\",\"female\",\"female\",\"female\",\"male\",\"male\",\"female\",\"male\",\"female\",\"male\",\"female\",\"female\",\"female\",\"female\",\"female\",\"male\",\"female\",\"female\",\"male\",\"female\",\"female\",\"female\",\"female\",\"female\",\"male\",\"male\",\"female\",\"male\",\"male\",\"male\",\"female\",\"female\",\"female\",\"female\",\"male\",\"female\",\"female\",\"female\",\"male\",\"female\",\"male\",\"male\",\"male\",\"male\",\"male\",\"female\",\"male\",\"female\",\"female\",\"female\",\"male\",\"male\",\"female\",\"male\",\"male\",\"female\",\"male\",\"male\",\"female\",\"male\",\"male\",\"male\",\"male\",\"female\",\"male\",\"female\",\"male\",\"female\",\"female\",\"female\",\"male\",\"female\",\"female\",\"female\"],\"xaxis\":\"x\",\"yaxis\":\"y\",\"type\":\"histogram\"}],                        {\"template\":{\"data\":{\"histogram2dcontour\":[{\"type\":\"histogram2dcontour\",\"colorbar\":{\"outlinewidth\":0,\"ticks\":\"\"},\"colorscale\":[[0.0,\"#0d0887\"],[0.1111111111111111,\"#46039f\"],[0.2222222222222222,\"#7201a8\"],[0.3333333333333333,\"#9c179e\"],[0.4444444444444444,\"#bd3786\"],[0.5555555555555556,\"#d8576b\"],[0.6666666666666666,\"#ed7953\"],[0.7777777777777778,\"#fb9f3a\"],[0.8888888888888888,\"#fdca26\"],[1.0,\"#f0f921\"]]}],\"choropleth\":[{\"type\":\"choropleth\",\"colorbar\":{\"outlinewidth\":0,\"ticks\":\"\"}}],\"histogram2d\":[{\"type\":\"histogram2d\",\"colorbar\":{\"outlinewidth\":0,\"ticks\":\"\"},\"colorscale\":[[0.0,\"#0d0887\"],[0.1111111111111111,\"#46039f\"],[0.2222222222222222,\"#7201a8\"],[0.3333333333333333,\"#9c179e\"],[0.4444444444444444,\"#bd3786\"],[0.5555555555555556,\"#d8576b\"],[0.6666666666666666,\"#ed7953\"],[0.7777777777777778,\"#fb9f3a\"],[0.8888888888888888,\"#fdca26\"],[1.0,\"#f0f921\"]]}],\"heatmap\":[{\"type\":\"heatmap\",\"colorbar\":{\"outlinewidth\":0,\"ticks\":\"\"},\"colorscale\":[[0.0,\"#0d0887\"],[0.1111111111111111,\"#46039f\"],[0.2222222222222222,\"#7201a8\"],[0.3333333333333333,\"#9c179e\"],[0.4444444444444444,\"#bd3786\"],[0.5555555555555556,\"#d8576b\"],[0.6666666666666666,\"#ed7953\"],[0.7777777777777778,\"#fb9f3a\"],[0.8888888888888888,\"#fdca26\"],[1.0,\"#f0f921\"]]}],\"heatmapgl\":[{\"type\":\"heatmapgl\",\"colorbar\":{\"outlinewidth\":0,\"ticks\":\"\"},\"colorscale\":[[0.0,\"#0d0887\"],[0.1111111111111111,\"#46039f\"],[0.2222222222222222,\"#7201a8\"],[0.3333333333333333,\"#9c179e\"],[0.4444444444444444,\"#bd3786\"],[0.5555555555555556,\"#d8576b\"],[0.6666666666666666,\"#ed7953\"],[0.7777777777777778,\"#fb9f3a\"],[0.8888888888888888,\"#fdca26\"],[1.0,\"#f0f921\"]]}],\"contourcarpet\":[{\"type\":\"contourcarpet\",\"colorbar\":{\"outlinewidth\":0,\"ticks\":\"\"}}],\"contour\":[{\"type\":\"contour\",\"colorbar\":{\"outlinewidth\":0,\"ticks\":\"\"},\"colorscale\":[[0.0,\"#0d0887\"],[0.1111111111111111,\"#46039f\"],[0.2222222222222222,\"#7201a8\"],[0.3333333333333333,\"#9c179e\"],[0.4444444444444444,\"#bd3786\"],[0.5555555555555556,\"#d8576b\"],[0.6666666666666666,\"#ed7953\"],[0.7777777777777778,\"#fb9f3a\"],[0.8888888888888888,\"#fdca26\"],[1.0,\"#f0f921\"]]}],\"surface\":[{\"type\":\"surface\",\"colorbar\":{\"outlinewidth\":0,\"ticks\":\"\"},\"colorscale\":[[0.0,\"#0d0887\"],[0.1111111111111111,\"#46039f\"],[0.2222222222222222,\"#7201a8\"],[0.3333333333333333,\"#9c179e\"],[0.4444444444444444,\"#bd3786\"],[0.5555555555555556,\"#d8576b\"],[0.6666666666666666,\"#ed7953\"],[0.7777777777777778,\"#fb9f3a\"],[0.8888888888888888,\"#fdca26\"],[1.0,\"#f0f921\"]]}],\"mesh3d\":[{\"type\":\"mesh3d\",\"colorbar\":{\"outlinewidth\":0,\"ticks\":\"\"}}],\"scatter\":[{\"fillpattern\":{\"fillmode\":\"overlay\",\"size\":10,\"solidity\":0.2},\"type\":\"scatter\"}],\"parcoords\":[{\"type\":\"parcoords\",\"line\":{\"colorbar\":{\"outlinewidth\":0,\"ticks\":\"\"}}}],\"scatterpolargl\":[{\"type\":\"scatterpolargl\",\"marker\":{\"colorbar\":{\"outlinewidth\":0,\"ticks\":\"\"}}}],\"bar\":[{\"error_x\":{\"color\":\"#2a3f5f\"},\"error_y\":{\"color\":\"#2a3f5f\"},\"marker\":{\"line\":{\"color\":\"#E5ECF6\",\"width\":0.5},\"pattern\":{\"fillmode\":\"overlay\",\"size\":10,\"solidity\":0.2}},\"type\":\"bar\"}],\"scattergeo\":[{\"type\":\"scattergeo\",\"marker\":{\"colorbar\":{\"outlinewidth\":0,\"ticks\":\"\"}}}],\"scatterpolar\":[{\"type\":\"scatterpolar\",\"marker\":{\"colorbar\":{\"outlinewidth\":0,\"ticks\":\"\"}}}],\"histogram\":[{\"marker\":{\"pattern\":{\"fillmode\":\"overlay\",\"size\":10,\"solidity\":0.2}},\"type\":\"histogram\"}],\"scattergl\":[{\"type\":\"scattergl\",\"marker\":{\"colorbar\":{\"outlinewidth\":0,\"ticks\":\"\"}}}],\"scatter3d\":[{\"type\":\"scatter3d\",\"line\":{\"colorbar\":{\"outlinewidth\":0,\"ticks\":\"\"}},\"marker\":{\"colorbar\":{\"outlinewidth\":0,\"ticks\":\"\"}}}],\"scattermapbox\":[{\"type\":\"scattermapbox\",\"marker\":{\"colorbar\":{\"outlinewidth\":0,\"ticks\":\"\"}}}],\"scatterternary\":[{\"type\":\"scatterternary\",\"marker\":{\"colorbar\":{\"outlinewidth\":0,\"ticks\":\"\"}}}],\"scattercarpet\":[{\"type\":\"scattercarpet\",\"marker\":{\"colorbar\":{\"outlinewidth\":0,\"ticks\":\"\"}}}],\"carpet\":[{\"aaxis\":{\"endlinecolor\":\"#2a3f5f\",\"gridcolor\":\"white\",\"linecolor\":\"white\",\"minorgridcolor\":\"white\",\"startlinecolor\":\"#2a3f5f\"},\"baxis\":{\"endlinecolor\":\"#2a3f5f\",\"gridcolor\":\"white\",\"linecolor\":\"white\",\"minorgridcolor\":\"white\",\"startlinecolor\":\"#2a3f5f\"},\"type\":\"carpet\"}],\"table\":[{\"cells\":{\"fill\":{\"color\":\"#EBF0F8\"},\"line\":{\"color\":\"white\"}},\"header\":{\"fill\":{\"color\":\"#C8D4E3\"},\"line\":{\"color\":\"white\"}},\"type\":\"table\"}],\"barpolar\":[{\"marker\":{\"line\":{\"color\":\"#E5ECF6\",\"width\":0.5},\"pattern\":{\"fillmode\":\"overlay\",\"size\":10,\"solidity\":0.2}},\"type\":\"barpolar\"}],\"pie\":[{\"automargin\":true,\"type\":\"pie\"}]},\"layout\":{\"autotypenumbers\":\"strict\",\"colorway\":[\"#636efa\",\"#EF553B\",\"#00cc96\",\"#ab63fa\",\"#FFA15A\",\"#19d3f3\",\"#FF6692\",\"#B6E880\",\"#FF97FF\",\"#FECB52\"],\"font\":{\"color\":\"#2a3f5f\"},\"hovermode\":\"closest\",\"hoverlabel\":{\"align\":\"left\"},\"paper_bgcolor\":\"white\",\"plot_bgcolor\":\"#E5ECF6\",\"polar\":{\"bgcolor\":\"#E5ECF6\",\"angularaxis\":{\"gridcolor\":\"white\",\"linecolor\":\"white\",\"ticks\":\"\"},\"radialaxis\":{\"gridcolor\":\"white\",\"linecolor\":\"white\",\"ticks\":\"\"}},\"ternary\":{\"bgcolor\":\"#E5ECF6\",\"aaxis\":{\"gridcolor\":\"white\",\"linecolor\":\"white\",\"ticks\":\"\"},\"baxis\":{\"gridcolor\":\"white\",\"linecolor\":\"white\",\"ticks\":\"\"},\"caxis\":{\"gridcolor\":\"white\",\"linecolor\":\"white\",\"ticks\":\"\"}},\"coloraxis\":{\"colorbar\":{\"outlinewidth\":0,\"ticks\":\"\"}},\"colorscale\":{\"sequential\":[[0.0,\"#0d0887\"],[0.1111111111111111,\"#46039f\"],[0.2222222222222222,\"#7201a8\"],[0.3333333333333333,\"#9c179e\"],[0.4444444444444444,\"#bd3786\"],[0.5555555555555556,\"#d8576b\"],[0.6666666666666666,\"#ed7953\"],[0.7777777777777778,\"#fb9f3a\"],[0.8888888888888888,\"#fdca26\"],[1.0,\"#f0f921\"]],\"sequentialminus\":[[0.0,\"#0d0887\"],[0.1111111111111111,\"#46039f\"],[0.2222222222222222,\"#7201a8\"],[0.3333333333333333,\"#9c179e\"],[0.4444444444444444,\"#bd3786\"],[0.5555555555555556,\"#d8576b\"],[0.6666666666666666,\"#ed7953\"],[0.7777777777777778,\"#fb9f3a\"],[0.8888888888888888,\"#fdca26\"],[1.0,\"#f0f921\"]],\"diverging\":[[0,\"#8e0152\"],[0.1,\"#c51b7d\"],[0.2,\"#de77ae\"],[0.3,\"#f1b6da\"],[0.4,\"#fde0ef\"],[0.5,\"#f7f7f7\"],[0.6,\"#e6f5d0\"],[0.7,\"#b8e186\"],[0.8,\"#7fbc41\"],[0.9,\"#4d9221\"],[1,\"#276419\"]]},\"xaxis\":{\"gridcolor\":\"white\",\"linecolor\":\"white\",\"ticks\":\"\",\"title\":{\"standoff\":15},\"zerolinecolor\":\"white\",\"automargin\":true,\"zerolinewidth\":2},\"yaxis\":{\"gridcolor\":\"white\",\"linecolor\":\"white\",\"ticks\":\"\",\"title\":{\"standoff\":15},\"zerolinecolor\":\"white\",\"automargin\":true,\"zerolinewidth\":2},\"scene\":{\"xaxis\":{\"backgroundcolor\":\"#E5ECF6\",\"gridcolor\":\"white\",\"linecolor\":\"white\",\"showbackground\":true,\"ticks\":\"\",\"zerolinecolor\":\"white\",\"gridwidth\":2},\"yaxis\":{\"backgroundcolor\":\"#E5ECF6\",\"gridcolor\":\"white\",\"linecolor\":\"white\",\"showbackground\":true,\"ticks\":\"\",\"zerolinecolor\":\"white\",\"gridwidth\":2},\"zaxis\":{\"backgroundcolor\":\"#E5ECF6\",\"gridcolor\":\"white\",\"linecolor\":\"white\",\"showbackground\":true,\"ticks\":\"\",\"zerolinecolor\":\"white\",\"gridwidth\":2}},\"shapedefaults\":{\"line\":{\"color\":\"#2a3f5f\"}},\"annotationdefaults\":{\"arrowcolor\":\"#2a3f5f\",\"arrowhead\":0,\"arrowwidth\":1},\"geo\":{\"bgcolor\":\"white\",\"landcolor\":\"#E5ECF6\",\"subunitcolor\":\"white\",\"showland\":true,\"showlakes\":true,\"lakecolor\":\"white\"},\"title\":{\"x\":0.05},\"mapbox\":{\"style\":\"light\"}}},\"xaxis\":{\"anchor\":\"y\",\"domain\":[0.0,1.0],\"title\":{\"text\":\"sex\"}},\"yaxis\":{\"anchor\":\"x\",\"domain\":[0.0,1.0],\"title\":{\"text\":\"count\"}},\"legend\":{\"title\":{\"text\":\"smoker\"},\"tracegroupgap\":0},\"title\":{\"text\":\"Number of Smokers\"},\"barmode\":\"relative\"},                        {\"responsive\": true}                    ).then(function(){\n",
       "                            \n",
       "var gd = document.getElementById('34ea07a7-b6f9-4d1c-9576-5d106604aef9');\n",
       "var x = new MutationObserver(function (mutations, observer) {{\n",
       "        var display = window.getComputedStyle(gd).display;\n",
       "        if (!display || display === 'none') {{\n",
       "            console.log([gd, 'removed!']);\n",
       "            Plotly.purge(gd);\n",
       "            observer.disconnect();\n",
       "        }}\n",
       "}});\n",
       "\n",
       "// Listen for the removal of the full notebook cells\n",
       "var notebookContainer = gd.closest('#notebook-container');\n",
       "if (notebookContainer) {{\n",
       "    x.observe(notebookContainer, {childList: true});\n",
       "}}\n",
       "\n",
       "// Listen for the clearing of the current output cell\n",
       "var outputEl = gd.closest('.output');\n",
       "if (outputEl) {{\n",
       "    x.observe(outputEl, {childList: true});\n",
       "}}\n",
       "\n",
       "                        })                };                });            </script>        </div>"
      ]
     },
     "metadata": {},
     "output_type": "display_data"
    },
    {
     "data": {
      "text/plain": [
       "<Figure size 1000x1200 with 0 Axes>"
      ]
     },
     "metadata": {},
     "output_type": "display_data"
    }
   ],
   "source": [
    "# to get proper readings we use 'Plotly' library\n",
    "import plotly.express as px\n",
    "plt.figure(figsize=(10,12))\n",
    "px.histogram(data_frame=data,x='sex',color='smoker',title='Number of Smokers')"
   ]
  },
  {
   "cell_type": "code",
   "execution_count": 20,
   "id": "32607bde",
   "metadata": {},
   "outputs": [],
   "source": [
    "# as sex and smoker columns are important to the dataset we change string to boolean\n",
    "data['sex'] = data['sex'].map({'female':0,'male':1})\n",
    "data['smoker'] = data['smoker'].map({'yes':1,'no':0})"
   ]
  },
  {
   "cell_type": "code",
   "execution_count": 21,
   "id": "eac048b4",
   "metadata": {},
   "outputs": [
    {
     "data": {
      "text/html": [
       "<div>\n",
       "<style scoped>\n",
       "    .dataframe tbody tr th:only-of-type {\n",
       "        vertical-align: middle;\n",
       "    }\n",
       "\n",
       "    .dataframe tbody tr th {\n",
       "        vertical-align: top;\n",
       "    }\n",
       "\n",
       "    .dataframe thead th {\n",
       "        text-align: right;\n",
       "    }\n",
       "</style>\n",
       "<table border=\"1\" class=\"dataframe\">\n",
       "  <thead>\n",
       "    <tr style=\"text-align: right;\">\n",
       "      <th></th>\n",
       "      <th>age</th>\n",
       "      <th>sex</th>\n",
       "      <th>bmi</th>\n",
       "      <th>children</th>\n",
       "      <th>smoker</th>\n",
       "      <th>region</th>\n",
       "      <th>charges</th>\n",
       "    </tr>\n",
       "  </thead>\n",
       "  <tbody>\n",
       "    <tr>\n",
       "      <th>0</th>\n",
       "      <td>19</td>\n",
       "      <td>0</td>\n",
       "      <td>27.900</td>\n",
       "      <td>0</td>\n",
       "      <td>1</td>\n",
       "      <td>southwest</td>\n",
       "      <td>16884.92400</td>\n",
       "    </tr>\n",
       "    <tr>\n",
       "      <th>1</th>\n",
       "      <td>18</td>\n",
       "      <td>1</td>\n",
       "      <td>33.770</td>\n",
       "      <td>1</td>\n",
       "      <td>0</td>\n",
       "      <td>southeast</td>\n",
       "      <td>1725.55230</td>\n",
       "    </tr>\n",
       "    <tr>\n",
       "      <th>2</th>\n",
       "      <td>28</td>\n",
       "      <td>1</td>\n",
       "      <td>33.000</td>\n",
       "      <td>3</td>\n",
       "      <td>0</td>\n",
       "      <td>southeast</td>\n",
       "      <td>4449.46200</td>\n",
       "    </tr>\n",
       "    <tr>\n",
       "      <th>3</th>\n",
       "      <td>33</td>\n",
       "      <td>1</td>\n",
       "      <td>22.705</td>\n",
       "      <td>0</td>\n",
       "      <td>0</td>\n",
       "      <td>northwest</td>\n",
       "      <td>21984.47061</td>\n",
       "    </tr>\n",
       "    <tr>\n",
       "      <th>4</th>\n",
       "      <td>32</td>\n",
       "      <td>1</td>\n",
       "      <td>28.880</td>\n",
       "      <td>0</td>\n",
       "      <td>0</td>\n",
       "      <td>northwest</td>\n",
       "      <td>3866.85520</td>\n",
       "    </tr>\n",
       "  </tbody>\n",
       "</table>\n",
       "</div>"
      ],
      "text/plain": [
       "   age  sex     bmi  children  smoker     region      charges\n",
       "0   19    0  27.900         0       1  southwest  16884.92400\n",
       "1   18    1  33.770         1       0  southeast   1725.55230\n",
       "2   28    1  33.000         3       0  southeast   4449.46200\n",
       "3   33    1  22.705         0       0  northwest  21984.47061\n",
       "4   32    1  28.880         0       0  northwest   3866.85520"
      ]
     },
     "execution_count": 21,
     "metadata": {},
     "output_type": "execute_result"
    }
   ],
   "source": [
    "data.head()"
   ]
  },
  {
   "cell_type": "code",
   "execution_count": 25,
   "id": "08b4dd43",
   "metadata": {},
   "outputs": [],
   "source": [
    "pie = data['region'].value_counts()"
   ]
  },
  {
   "cell_type": "code",
   "execution_count": 26,
   "id": "60b0cda8",
   "metadata": {},
   "outputs": [
    {
     "data": {
      "text/plain": [
       "Index(['southeast', 'southwest', 'northwest', 'northeast'], dtype='object')"
      ]
     },
     "execution_count": 26,
     "metadata": {},
     "output_type": "execute_result"
    }
   ],
   "source": [
    "pie.index"
   ]
  },
  {
   "cell_type": "code",
   "execution_count": 27,
   "id": "3d3f2338",
   "metadata": {},
   "outputs": [
    {
     "data": {
      "text/plain": [
       "array([364, 325, 325, 324], dtype=int64)"
      ]
     },
     "execution_count": 27,
     "metadata": {},
     "output_type": "execute_result"
    }
   ],
   "source": [
    "pie.values"
   ]
  },
  {
   "cell_type": "code",
   "execution_count": 30,
   "id": "72f42f25",
   "metadata": {},
   "outputs": [
    {
     "data": {
      "application/vnd.plotly.v1+json": {
       "config": {
        "plotlyServerURL": "https://plot.ly"
       },
       "data": [
        {
         "domain": {
          "x": [
           0,
           1
          ],
          "y": [
           0,
           1
          ]
         },
         "hovertemplate": "label=%{label}<br>value=%{value}<extra></extra>",
         "labels": [
          "southeast",
          "southwest",
          "northwest",
          "northeast"
         ],
         "legendgroup": "",
         "name": "",
         "showlegend": true,
         "type": "pie",
         "values": [
          364,
          325,
          325,
          324
         ]
        }
       ],
       "layout": {
        "legend": {
         "tracegroupgap": 0
        },
        "margin": {
         "t": 60
        },
        "template": {
         "data": {
          "bar": [
           {
            "error_x": {
             "color": "#2a3f5f"
            },
            "error_y": {
             "color": "#2a3f5f"
            },
            "marker": {
             "line": {
              "color": "#E5ECF6",
              "width": 0.5
             },
             "pattern": {
              "fillmode": "overlay",
              "size": 10,
              "solidity": 0.2
             }
            },
            "type": "bar"
           }
          ],
          "barpolar": [
           {
            "marker": {
             "line": {
              "color": "#E5ECF6",
              "width": 0.5
             },
             "pattern": {
              "fillmode": "overlay",
              "size": 10,
              "solidity": 0.2
             }
            },
            "type": "barpolar"
           }
          ],
          "carpet": [
           {
            "aaxis": {
             "endlinecolor": "#2a3f5f",
             "gridcolor": "white",
             "linecolor": "white",
             "minorgridcolor": "white",
             "startlinecolor": "#2a3f5f"
            },
            "baxis": {
             "endlinecolor": "#2a3f5f",
             "gridcolor": "white",
             "linecolor": "white",
             "minorgridcolor": "white",
             "startlinecolor": "#2a3f5f"
            },
            "type": "carpet"
           }
          ],
          "choropleth": [
           {
            "colorbar": {
             "outlinewidth": 0,
             "ticks": ""
            },
            "type": "choropleth"
           }
          ],
          "contour": [
           {
            "colorbar": {
             "outlinewidth": 0,
             "ticks": ""
            },
            "colorscale": [
             [
              0,
              "#0d0887"
             ],
             [
              0.1111111111111111,
              "#46039f"
             ],
             [
              0.2222222222222222,
              "#7201a8"
             ],
             [
              0.3333333333333333,
              "#9c179e"
             ],
             [
              0.4444444444444444,
              "#bd3786"
             ],
             [
              0.5555555555555556,
              "#d8576b"
             ],
             [
              0.6666666666666666,
              "#ed7953"
             ],
             [
              0.7777777777777778,
              "#fb9f3a"
             ],
             [
              0.8888888888888888,
              "#fdca26"
             ],
             [
              1,
              "#f0f921"
             ]
            ],
            "type": "contour"
           }
          ],
          "contourcarpet": [
           {
            "colorbar": {
             "outlinewidth": 0,
             "ticks": ""
            },
            "type": "contourcarpet"
           }
          ],
          "heatmap": [
           {
            "colorbar": {
             "outlinewidth": 0,
             "ticks": ""
            },
            "colorscale": [
             [
              0,
              "#0d0887"
             ],
             [
              0.1111111111111111,
              "#46039f"
             ],
             [
              0.2222222222222222,
              "#7201a8"
             ],
             [
              0.3333333333333333,
              "#9c179e"
             ],
             [
              0.4444444444444444,
              "#bd3786"
             ],
             [
              0.5555555555555556,
              "#d8576b"
             ],
             [
              0.6666666666666666,
              "#ed7953"
             ],
             [
              0.7777777777777778,
              "#fb9f3a"
             ],
             [
              0.8888888888888888,
              "#fdca26"
             ],
             [
              1,
              "#f0f921"
             ]
            ],
            "type": "heatmap"
           }
          ],
          "heatmapgl": [
           {
            "colorbar": {
             "outlinewidth": 0,
             "ticks": ""
            },
            "colorscale": [
             [
              0,
              "#0d0887"
             ],
             [
              0.1111111111111111,
              "#46039f"
             ],
             [
              0.2222222222222222,
              "#7201a8"
             ],
             [
              0.3333333333333333,
              "#9c179e"
             ],
             [
              0.4444444444444444,
              "#bd3786"
             ],
             [
              0.5555555555555556,
              "#d8576b"
             ],
             [
              0.6666666666666666,
              "#ed7953"
             ],
             [
              0.7777777777777778,
              "#fb9f3a"
             ],
             [
              0.8888888888888888,
              "#fdca26"
             ],
             [
              1,
              "#f0f921"
             ]
            ],
            "type": "heatmapgl"
           }
          ],
          "histogram": [
           {
            "marker": {
             "pattern": {
              "fillmode": "overlay",
              "size": 10,
              "solidity": 0.2
             }
            },
            "type": "histogram"
           }
          ],
          "histogram2d": [
           {
            "colorbar": {
             "outlinewidth": 0,
             "ticks": ""
            },
            "colorscale": [
             [
              0,
              "#0d0887"
             ],
             [
              0.1111111111111111,
              "#46039f"
             ],
             [
              0.2222222222222222,
              "#7201a8"
             ],
             [
              0.3333333333333333,
              "#9c179e"
             ],
             [
              0.4444444444444444,
              "#bd3786"
             ],
             [
              0.5555555555555556,
              "#d8576b"
             ],
             [
              0.6666666666666666,
              "#ed7953"
             ],
             [
              0.7777777777777778,
              "#fb9f3a"
             ],
             [
              0.8888888888888888,
              "#fdca26"
             ],
             [
              1,
              "#f0f921"
             ]
            ],
            "type": "histogram2d"
           }
          ],
          "histogram2dcontour": [
           {
            "colorbar": {
             "outlinewidth": 0,
             "ticks": ""
            },
            "colorscale": [
             [
              0,
              "#0d0887"
             ],
             [
              0.1111111111111111,
              "#46039f"
             ],
             [
              0.2222222222222222,
              "#7201a8"
             ],
             [
              0.3333333333333333,
              "#9c179e"
             ],
             [
              0.4444444444444444,
              "#bd3786"
             ],
             [
              0.5555555555555556,
              "#d8576b"
             ],
             [
              0.6666666666666666,
              "#ed7953"
             ],
             [
              0.7777777777777778,
              "#fb9f3a"
             ],
             [
              0.8888888888888888,
              "#fdca26"
             ],
             [
              1,
              "#f0f921"
             ]
            ],
            "type": "histogram2dcontour"
           }
          ],
          "mesh3d": [
           {
            "colorbar": {
             "outlinewidth": 0,
             "ticks": ""
            },
            "type": "mesh3d"
           }
          ],
          "parcoords": [
           {
            "line": {
             "colorbar": {
              "outlinewidth": 0,
              "ticks": ""
             }
            },
            "type": "parcoords"
           }
          ],
          "pie": [
           {
            "automargin": true,
            "type": "pie"
           }
          ],
          "scatter": [
           {
            "fillpattern": {
             "fillmode": "overlay",
             "size": 10,
             "solidity": 0.2
            },
            "type": "scatter"
           }
          ],
          "scatter3d": [
           {
            "line": {
             "colorbar": {
              "outlinewidth": 0,
              "ticks": ""
             }
            },
            "marker": {
             "colorbar": {
              "outlinewidth": 0,
              "ticks": ""
             }
            },
            "type": "scatter3d"
           }
          ],
          "scattercarpet": [
           {
            "marker": {
             "colorbar": {
              "outlinewidth": 0,
              "ticks": ""
             }
            },
            "type": "scattercarpet"
           }
          ],
          "scattergeo": [
           {
            "marker": {
             "colorbar": {
              "outlinewidth": 0,
              "ticks": ""
             }
            },
            "type": "scattergeo"
           }
          ],
          "scattergl": [
           {
            "marker": {
             "colorbar": {
              "outlinewidth": 0,
              "ticks": ""
             }
            },
            "type": "scattergl"
           }
          ],
          "scattermapbox": [
           {
            "marker": {
             "colorbar": {
              "outlinewidth": 0,
              "ticks": ""
             }
            },
            "type": "scattermapbox"
           }
          ],
          "scatterpolar": [
           {
            "marker": {
             "colorbar": {
              "outlinewidth": 0,
              "ticks": ""
             }
            },
            "type": "scatterpolar"
           }
          ],
          "scatterpolargl": [
           {
            "marker": {
             "colorbar": {
              "outlinewidth": 0,
              "ticks": ""
             }
            },
            "type": "scatterpolargl"
           }
          ],
          "scatterternary": [
           {
            "marker": {
             "colorbar": {
              "outlinewidth": 0,
              "ticks": ""
             }
            },
            "type": "scatterternary"
           }
          ],
          "surface": [
           {
            "colorbar": {
             "outlinewidth": 0,
             "ticks": ""
            },
            "colorscale": [
             [
              0,
              "#0d0887"
             ],
             [
              0.1111111111111111,
              "#46039f"
             ],
             [
              0.2222222222222222,
              "#7201a8"
             ],
             [
              0.3333333333333333,
              "#9c179e"
             ],
             [
              0.4444444444444444,
              "#bd3786"
             ],
             [
              0.5555555555555556,
              "#d8576b"
             ],
             [
              0.6666666666666666,
              "#ed7953"
             ],
             [
              0.7777777777777778,
              "#fb9f3a"
             ],
             [
              0.8888888888888888,
              "#fdca26"
             ],
             [
              1,
              "#f0f921"
             ]
            ],
            "type": "surface"
           }
          ],
          "table": [
           {
            "cells": {
             "fill": {
              "color": "#EBF0F8"
             },
             "line": {
              "color": "white"
             }
            },
            "header": {
             "fill": {
              "color": "#C8D4E3"
             },
             "line": {
              "color": "white"
             }
            },
            "type": "table"
           }
          ]
         },
         "layout": {
          "annotationdefaults": {
           "arrowcolor": "#2a3f5f",
           "arrowhead": 0,
           "arrowwidth": 1
          },
          "autotypenumbers": "strict",
          "coloraxis": {
           "colorbar": {
            "outlinewidth": 0,
            "ticks": ""
           }
          },
          "colorscale": {
           "diverging": [
            [
             0,
             "#8e0152"
            ],
            [
             0.1,
             "#c51b7d"
            ],
            [
             0.2,
             "#de77ae"
            ],
            [
             0.3,
             "#f1b6da"
            ],
            [
             0.4,
             "#fde0ef"
            ],
            [
             0.5,
             "#f7f7f7"
            ],
            [
             0.6,
             "#e6f5d0"
            ],
            [
             0.7,
             "#b8e186"
            ],
            [
             0.8,
             "#7fbc41"
            ],
            [
             0.9,
             "#4d9221"
            ],
            [
             1,
             "#276419"
            ]
           ],
           "sequential": [
            [
             0,
             "#0d0887"
            ],
            [
             0.1111111111111111,
             "#46039f"
            ],
            [
             0.2222222222222222,
             "#7201a8"
            ],
            [
             0.3333333333333333,
             "#9c179e"
            ],
            [
             0.4444444444444444,
             "#bd3786"
            ],
            [
             0.5555555555555556,
             "#d8576b"
            ],
            [
             0.6666666666666666,
             "#ed7953"
            ],
            [
             0.7777777777777778,
             "#fb9f3a"
            ],
            [
             0.8888888888888888,
             "#fdca26"
            ],
            [
             1,
             "#f0f921"
            ]
           ],
           "sequentialminus": [
            [
             0,
             "#0d0887"
            ],
            [
             0.1111111111111111,
             "#46039f"
            ],
            [
             0.2222222222222222,
             "#7201a8"
            ],
            [
             0.3333333333333333,
             "#9c179e"
            ],
            [
             0.4444444444444444,
             "#bd3786"
            ],
            [
             0.5555555555555556,
             "#d8576b"
            ],
            [
             0.6666666666666666,
             "#ed7953"
            ],
            [
             0.7777777777777778,
             "#fb9f3a"
            ],
            [
             0.8888888888888888,
             "#fdca26"
            ],
            [
             1,
             "#f0f921"
            ]
           ]
          },
          "colorway": [
           "#636efa",
           "#EF553B",
           "#00cc96",
           "#ab63fa",
           "#FFA15A",
           "#19d3f3",
           "#FF6692",
           "#B6E880",
           "#FF97FF",
           "#FECB52"
          ],
          "font": {
           "color": "#2a3f5f"
          },
          "geo": {
           "bgcolor": "white",
           "lakecolor": "white",
           "landcolor": "#E5ECF6",
           "showlakes": true,
           "showland": true,
           "subunitcolor": "white"
          },
          "hoverlabel": {
           "align": "left"
          },
          "hovermode": "closest",
          "mapbox": {
           "style": "light"
          },
          "paper_bgcolor": "white",
          "plot_bgcolor": "#E5ECF6",
          "polar": {
           "angularaxis": {
            "gridcolor": "white",
            "linecolor": "white",
            "ticks": ""
           },
           "bgcolor": "#E5ECF6",
           "radialaxis": {
            "gridcolor": "white",
            "linecolor": "white",
            "ticks": ""
           }
          },
          "scene": {
           "xaxis": {
            "backgroundcolor": "#E5ECF6",
            "gridcolor": "white",
            "gridwidth": 2,
            "linecolor": "white",
            "showbackground": true,
            "ticks": "",
            "zerolinecolor": "white"
           },
           "yaxis": {
            "backgroundcolor": "#E5ECF6",
            "gridcolor": "white",
            "gridwidth": 2,
            "linecolor": "white",
            "showbackground": true,
            "ticks": "",
            "zerolinecolor": "white"
           },
           "zaxis": {
            "backgroundcolor": "#E5ECF6",
            "gridcolor": "white",
            "gridwidth": 2,
            "linecolor": "white",
            "showbackground": true,
            "ticks": "",
            "zerolinecolor": "white"
           }
          },
          "shapedefaults": {
           "line": {
            "color": "#2a3f5f"
           }
          },
          "ternary": {
           "aaxis": {
            "gridcolor": "white",
            "linecolor": "white",
            "ticks": ""
           },
           "baxis": {
            "gridcolor": "white",
            "linecolor": "white",
            "ticks": ""
           },
           "bgcolor": "#E5ECF6",
           "caxis": {
            "gridcolor": "white",
            "linecolor": "white",
            "ticks": ""
           }
          },
          "title": {
           "x": 0.05
          },
          "xaxis": {
           "automargin": true,
           "gridcolor": "white",
           "linecolor": "white",
           "ticks": "",
           "title": {
            "standoff": 15
           },
           "zerolinecolor": "white",
           "zerolinewidth": 2
          },
          "yaxis": {
           "automargin": true,
           "gridcolor": "white",
           "linecolor": "white",
           "ticks": "",
           "title": {
            "standoff": 15
           },
           "zerolinecolor": "white",
           "zerolinewidth": 2
          }
         }
        }
       }
      },
      "text/html": [
       "<div>                            <div id=\"393ece7c-5c87-4734-b0ed-5fa2c4606804\" class=\"plotly-graph-div\" style=\"height:525px; width:100%;\"></div>            <script type=\"text/javascript\">                require([\"plotly\"], function(Plotly) {                    window.PLOTLYENV=window.PLOTLYENV || {};                                    if (document.getElementById(\"393ece7c-5c87-4734-b0ed-5fa2c4606804\")) {                    Plotly.newPlot(                        \"393ece7c-5c87-4734-b0ed-5fa2c4606804\",                        [{\"domain\":{\"x\":[0.0,1.0],\"y\":[0.0,1.0]},\"hovertemplate\":\"label=%{label}<br>value=%{value}<extra></extra>\",\"labels\":[\"southeast\",\"southwest\",\"northwest\",\"northeast\"],\"legendgroup\":\"\",\"name\":\"\",\"showlegend\":true,\"values\":[364,325,325,324],\"type\":\"pie\"}],                        {\"template\":{\"data\":{\"histogram2dcontour\":[{\"type\":\"histogram2dcontour\",\"colorbar\":{\"outlinewidth\":0,\"ticks\":\"\"},\"colorscale\":[[0.0,\"#0d0887\"],[0.1111111111111111,\"#46039f\"],[0.2222222222222222,\"#7201a8\"],[0.3333333333333333,\"#9c179e\"],[0.4444444444444444,\"#bd3786\"],[0.5555555555555556,\"#d8576b\"],[0.6666666666666666,\"#ed7953\"],[0.7777777777777778,\"#fb9f3a\"],[0.8888888888888888,\"#fdca26\"],[1.0,\"#f0f921\"]]}],\"choropleth\":[{\"type\":\"choropleth\",\"colorbar\":{\"outlinewidth\":0,\"ticks\":\"\"}}],\"histogram2d\":[{\"type\":\"histogram2d\",\"colorbar\":{\"outlinewidth\":0,\"ticks\":\"\"},\"colorscale\":[[0.0,\"#0d0887\"],[0.1111111111111111,\"#46039f\"],[0.2222222222222222,\"#7201a8\"],[0.3333333333333333,\"#9c179e\"],[0.4444444444444444,\"#bd3786\"],[0.5555555555555556,\"#d8576b\"],[0.6666666666666666,\"#ed7953\"],[0.7777777777777778,\"#fb9f3a\"],[0.8888888888888888,\"#fdca26\"],[1.0,\"#f0f921\"]]}],\"heatmap\":[{\"type\":\"heatmap\",\"colorbar\":{\"outlinewidth\":0,\"ticks\":\"\"},\"colorscale\":[[0.0,\"#0d0887\"],[0.1111111111111111,\"#46039f\"],[0.2222222222222222,\"#7201a8\"],[0.3333333333333333,\"#9c179e\"],[0.4444444444444444,\"#bd3786\"],[0.5555555555555556,\"#d8576b\"],[0.6666666666666666,\"#ed7953\"],[0.7777777777777778,\"#fb9f3a\"],[0.8888888888888888,\"#fdca26\"],[1.0,\"#f0f921\"]]}],\"heatmapgl\":[{\"type\":\"heatmapgl\",\"colorbar\":{\"outlinewidth\":0,\"ticks\":\"\"},\"colorscale\":[[0.0,\"#0d0887\"],[0.1111111111111111,\"#46039f\"],[0.2222222222222222,\"#7201a8\"],[0.3333333333333333,\"#9c179e\"],[0.4444444444444444,\"#bd3786\"],[0.5555555555555556,\"#d8576b\"],[0.6666666666666666,\"#ed7953\"],[0.7777777777777778,\"#fb9f3a\"],[0.8888888888888888,\"#fdca26\"],[1.0,\"#f0f921\"]]}],\"contourcarpet\":[{\"type\":\"contourcarpet\",\"colorbar\":{\"outlinewidth\":0,\"ticks\":\"\"}}],\"contour\":[{\"type\":\"contour\",\"colorbar\":{\"outlinewidth\":0,\"ticks\":\"\"},\"colorscale\":[[0.0,\"#0d0887\"],[0.1111111111111111,\"#46039f\"],[0.2222222222222222,\"#7201a8\"],[0.3333333333333333,\"#9c179e\"],[0.4444444444444444,\"#bd3786\"],[0.5555555555555556,\"#d8576b\"],[0.6666666666666666,\"#ed7953\"],[0.7777777777777778,\"#fb9f3a\"],[0.8888888888888888,\"#fdca26\"],[1.0,\"#f0f921\"]]}],\"surface\":[{\"type\":\"surface\",\"colorbar\":{\"outlinewidth\":0,\"ticks\":\"\"},\"colorscale\":[[0.0,\"#0d0887\"],[0.1111111111111111,\"#46039f\"],[0.2222222222222222,\"#7201a8\"],[0.3333333333333333,\"#9c179e\"],[0.4444444444444444,\"#bd3786\"],[0.5555555555555556,\"#d8576b\"],[0.6666666666666666,\"#ed7953\"],[0.7777777777777778,\"#fb9f3a\"],[0.8888888888888888,\"#fdca26\"],[1.0,\"#f0f921\"]]}],\"mesh3d\":[{\"type\":\"mesh3d\",\"colorbar\":{\"outlinewidth\":0,\"ticks\":\"\"}}],\"scatter\":[{\"fillpattern\":{\"fillmode\":\"overlay\",\"size\":10,\"solidity\":0.2},\"type\":\"scatter\"}],\"parcoords\":[{\"type\":\"parcoords\",\"line\":{\"colorbar\":{\"outlinewidth\":0,\"ticks\":\"\"}}}],\"scatterpolargl\":[{\"type\":\"scatterpolargl\",\"marker\":{\"colorbar\":{\"outlinewidth\":0,\"ticks\":\"\"}}}],\"bar\":[{\"error_x\":{\"color\":\"#2a3f5f\"},\"error_y\":{\"color\":\"#2a3f5f\"},\"marker\":{\"line\":{\"color\":\"#E5ECF6\",\"width\":0.5},\"pattern\":{\"fillmode\":\"overlay\",\"size\":10,\"solidity\":0.2}},\"type\":\"bar\"}],\"scattergeo\":[{\"type\":\"scattergeo\",\"marker\":{\"colorbar\":{\"outlinewidth\":0,\"ticks\":\"\"}}}],\"scatterpolar\":[{\"type\":\"scatterpolar\",\"marker\":{\"colorbar\":{\"outlinewidth\":0,\"ticks\":\"\"}}}],\"histogram\":[{\"marker\":{\"pattern\":{\"fillmode\":\"overlay\",\"size\":10,\"solidity\":0.2}},\"type\":\"histogram\"}],\"scattergl\":[{\"type\":\"scattergl\",\"marker\":{\"colorbar\":{\"outlinewidth\":0,\"ticks\":\"\"}}}],\"scatter3d\":[{\"type\":\"scatter3d\",\"line\":{\"colorbar\":{\"outlinewidth\":0,\"ticks\":\"\"}},\"marker\":{\"colorbar\":{\"outlinewidth\":0,\"ticks\":\"\"}}}],\"scattermapbox\":[{\"type\":\"scattermapbox\",\"marker\":{\"colorbar\":{\"outlinewidth\":0,\"ticks\":\"\"}}}],\"scatterternary\":[{\"type\":\"scatterternary\",\"marker\":{\"colorbar\":{\"outlinewidth\":0,\"ticks\":\"\"}}}],\"scattercarpet\":[{\"type\":\"scattercarpet\",\"marker\":{\"colorbar\":{\"outlinewidth\":0,\"ticks\":\"\"}}}],\"carpet\":[{\"aaxis\":{\"endlinecolor\":\"#2a3f5f\",\"gridcolor\":\"white\",\"linecolor\":\"white\",\"minorgridcolor\":\"white\",\"startlinecolor\":\"#2a3f5f\"},\"baxis\":{\"endlinecolor\":\"#2a3f5f\",\"gridcolor\":\"white\",\"linecolor\":\"white\",\"minorgridcolor\":\"white\",\"startlinecolor\":\"#2a3f5f\"},\"type\":\"carpet\"}],\"table\":[{\"cells\":{\"fill\":{\"color\":\"#EBF0F8\"},\"line\":{\"color\":\"white\"}},\"header\":{\"fill\":{\"color\":\"#C8D4E3\"},\"line\":{\"color\":\"white\"}},\"type\":\"table\"}],\"barpolar\":[{\"marker\":{\"line\":{\"color\":\"#E5ECF6\",\"width\":0.5},\"pattern\":{\"fillmode\":\"overlay\",\"size\":10,\"solidity\":0.2}},\"type\":\"barpolar\"}],\"pie\":[{\"automargin\":true,\"type\":\"pie\"}]},\"layout\":{\"autotypenumbers\":\"strict\",\"colorway\":[\"#636efa\",\"#EF553B\",\"#00cc96\",\"#ab63fa\",\"#FFA15A\",\"#19d3f3\",\"#FF6692\",\"#B6E880\",\"#FF97FF\",\"#FECB52\"],\"font\":{\"color\":\"#2a3f5f\"},\"hovermode\":\"closest\",\"hoverlabel\":{\"align\":\"left\"},\"paper_bgcolor\":\"white\",\"plot_bgcolor\":\"#E5ECF6\",\"polar\":{\"bgcolor\":\"#E5ECF6\",\"angularaxis\":{\"gridcolor\":\"white\",\"linecolor\":\"white\",\"ticks\":\"\"},\"radialaxis\":{\"gridcolor\":\"white\",\"linecolor\":\"white\",\"ticks\":\"\"}},\"ternary\":{\"bgcolor\":\"#E5ECF6\",\"aaxis\":{\"gridcolor\":\"white\",\"linecolor\":\"white\",\"ticks\":\"\"},\"baxis\":{\"gridcolor\":\"white\",\"linecolor\":\"white\",\"ticks\":\"\"},\"caxis\":{\"gridcolor\":\"white\",\"linecolor\":\"white\",\"ticks\":\"\"}},\"coloraxis\":{\"colorbar\":{\"outlinewidth\":0,\"ticks\":\"\"}},\"colorscale\":{\"sequential\":[[0.0,\"#0d0887\"],[0.1111111111111111,\"#46039f\"],[0.2222222222222222,\"#7201a8\"],[0.3333333333333333,\"#9c179e\"],[0.4444444444444444,\"#bd3786\"],[0.5555555555555556,\"#d8576b\"],[0.6666666666666666,\"#ed7953\"],[0.7777777777777778,\"#fb9f3a\"],[0.8888888888888888,\"#fdca26\"],[1.0,\"#f0f921\"]],\"sequentialminus\":[[0.0,\"#0d0887\"],[0.1111111111111111,\"#46039f\"],[0.2222222222222222,\"#7201a8\"],[0.3333333333333333,\"#9c179e\"],[0.4444444444444444,\"#bd3786\"],[0.5555555555555556,\"#d8576b\"],[0.6666666666666666,\"#ed7953\"],[0.7777777777777778,\"#fb9f3a\"],[0.8888888888888888,\"#fdca26\"],[1.0,\"#f0f921\"]],\"diverging\":[[0,\"#8e0152\"],[0.1,\"#c51b7d\"],[0.2,\"#de77ae\"],[0.3,\"#f1b6da\"],[0.4,\"#fde0ef\"],[0.5,\"#f7f7f7\"],[0.6,\"#e6f5d0\"],[0.7,\"#b8e186\"],[0.8,\"#7fbc41\"],[0.9,\"#4d9221\"],[1,\"#276419\"]]},\"xaxis\":{\"gridcolor\":\"white\",\"linecolor\":\"white\",\"ticks\":\"\",\"title\":{\"standoff\":15},\"zerolinecolor\":\"white\",\"automargin\":true,\"zerolinewidth\":2},\"yaxis\":{\"gridcolor\":\"white\",\"linecolor\":\"white\",\"ticks\":\"\",\"title\":{\"standoff\":15},\"zerolinecolor\":\"white\",\"automargin\":true,\"zerolinewidth\":2},\"scene\":{\"xaxis\":{\"backgroundcolor\":\"#E5ECF6\",\"gridcolor\":\"white\",\"linecolor\":\"white\",\"showbackground\":true,\"ticks\":\"\",\"zerolinecolor\":\"white\",\"gridwidth\":2},\"yaxis\":{\"backgroundcolor\":\"#E5ECF6\",\"gridcolor\":\"white\",\"linecolor\":\"white\",\"showbackground\":true,\"ticks\":\"\",\"zerolinecolor\":\"white\",\"gridwidth\":2},\"zaxis\":{\"backgroundcolor\":\"#E5ECF6\",\"gridcolor\":\"white\",\"linecolor\":\"white\",\"showbackground\":true,\"ticks\":\"\",\"zerolinecolor\":\"white\",\"gridwidth\":2}},\"shapedefaults\":{\"line\":{\"color\":\"#2a3f5f\"}},\"annotationdefaults\":{\"arrowcolor\":\"#2a3f5f\",\"arrowhead\":0,\"arrowwidth\":1},\"geo\":{\"bgcolor\":\"white\",\"landcolor\":\"#E5ECF6\",\"subunitcolor\":\"white\",\"showland\":true,\"showlakes\":true,\"lakecolor\":\"white\"},\"title\":{\"x\":0.05},\"mapbox\":{\"style\":\"light\"}}},\"legend\":{\"tracegroupgap\":0},\"margin\":{\"t\":60}},                        {\"responsive\": true}                    ).then(function(){\n",
       "                            \n",
       "var gd = document.getElementById('393ece7c-5c87-4734-b0ed-5fa2c4606804');\n",
       "var x = new MutationObserver(function (mutations, observer) {{\n",
       "        var display = window.getComputedStyle(gd).display;\n",
       "        if (!display || display === 'none') {{\n",
       "            console.log([gd, 'removed!']);\n",
       "            Plotly.purge(gd);\n",
       "            observer.disconnect();\n",
       "        }}\n",
       "}});\n",
       "\n",
       "// Listen for the removal of the full notebook cells\n",
       "var notebookContainer = gd.closest('#notebook-container');\n",
       "if (notebookContainer) {{\n",
       "    x.observe(notebookContainer, {childList: true});\n",
       "}}\n",
       "\n",
       "// Listen for the clearing of the current output cell\n",
       "var outputEl = gd.closest('.output');\n",
       "if (outputEl) {{\n",
       "    x.observe(outputEl, {childList: true});\n",
       "}}\n",
       "\n",
       "                        })                };                });            </script>        </div>"
      ]
     },
     "metadata": {},
     "output_type": "display_data"
    }
   ],
   "source": [
    "px.pie(data_frame=data,values=pie.values,names=pie.index)"
   ]
  },
  {
   "cell_type": "code",
   "execution_count": 33,
   "id": "22f3817c",
   "metadata": {},
   "outputs": [
    {
     "name": "stderr",
     "output_type": "stream",
     "text": [
      "C:\\Users\\Vinith Reddy\\AppData\\Local\\Temp\\ipykernel_15368\\4233422729.py:2: FutureWarning:\n",
      "\n",
      "The default value of numeric_only in DataFrame.corr is deprecated. In a future version, it will default to False. Select only valid columns or specify the value of numeric_only to silence this warning.\n",
      "\n"
     ]
    },
    {
     "data": {
      "text/html": [
       "<div>\n",
       "<style scoped>\n",
       "    .dataframe tbody tr th:only-of-type {\n",
       "        vertical-align: middle;\n",
       "    }\n",
       "\n",
       "    .dataframe tbody tr th {\n",
       "        vertical-align: top;\n",
       "    }\n",
       "\n",
       "    .dataframe thead th {\n",
       "        text-align: right;\n",
       "    }\n",
       "</style>\n",
       "<table border=\"1\" class=\"dataframe\">\n",
       "  <thead>\n",
       "    <tr style=\"text-align: right;\">\n",
       "      <th></th>\n",
       "      <th>age</th>\n",
       "      <th>sex</th>\n",
       "      <th>bmi</th>\n",
       "      <th>children</th>\n",
       "      <th>smoker</th>\n",
       "      <th>charges</th>\n",
       "    </tr>\n",
       "  </thead>\n",
       "  <tbody>\n",
       "    <tr>\n",
       "      <th>age</th>\n",
       "      <td>1.000000</td>\n",
       "      <td>-0.020856</td>\n",
       "      <td>0.109272</td>\n",
       "      <td>0.042469</td>\n",
       "      <td>-0.025019</td>\n",
       "      <td>0.299008</td>\n",
       "    </tr>\n",
       "    <tr>\n",
       "      <th>sex</th>\n",
       "      <td>-0.020856</td>\n",
       "      <td>1.000000</td>\n",
       "      <td>0.046371</td>\n",
       "      <td>0.017163</td>\n",
       "      <td>0.076185</td>\n",
       "      <td>0.057292</td>\n",
       "    </tr>\n",
       "    <tr>\n",
       "      <th>bmi</th>\n",
       "      <td>0.109272</td>\n",
       "      <td>0.046371</td>\n",
       "      <td>1.000000</td>\n",
       "      <td>0.012759</td>\n",
       "      <td>0.003750</td>\n",
       "      <td>0.198341</td>\n",
       "    </tr>\n",
       "    <tr>\n",
       "      <th>children</th>\n",
       "      <td>0.042469</td>\n",
       "      <td>0.017163</td>\n",
       "      <td>0.012759</td>\n",
       "      <td>1.000000</td>\n",
       "      <td>0.007673</td>\n",
       "      <td>0.067998</td>\n",
       "    </tr>\n",
       "    <tr>\n",
       "      <th>smoker</th>\n",
       "      <td>-0.025019</td>\n",
       "      <td>0.076185</td>\n",
       "      <td>0.003750</td>\n",
       "      <td>0.007673</td>\n",
       "      <td>1.000000</td>\n",
       "      <td>0.787251</td>\n",
       "    </tr>\n",
       "    <tr>\n",
       "      <th>charges</th>\n",
       "      <td>0.299008</td>\n",
       "      <td>0.057292</td>\n",
       "      <td>0.198341</td>\n",
       "      <td>0.067998</td>\n",
       "      <td>0.787251</td>\n",
       "      <td>1.000000</td>\n",
       "    </tr>\n",
       "  </tbody>\n",
       "</table>\n",
       "</div>"
      ],
      "text/plain": [
       "               age       sex       bmi  children    smoker   charges\n",
       "age       1.000000 -0.020856  0.109272  0.042469 -0.025019  0.299008\n",
       "sex      -0.020856  1.000000  0.046371  0.017163  0.076185  0.057292\n",
       "bmi       0.109272  0.046371  1.000000  0.012759  0.003750  0.198341\n",
       "children  0.042469  0.017163  0.012759  1.000000  0.007673  0.067998\n",
       "smoker   -0.025019  0.076185  0.003750  0.007673  1.000000  0.787251\n",
       "charges   0.299008  0.057292  0.198341  0.067998  0.787251  1.000000"
      ]
     },
     "execution_count": 33,
     "metadata": {},
     "output_type": "execute_result"
    }
   ],
   "source": [
    "# lets see the correlation of this dataset\n",
    "data.corr()"
   ]
  },
  {
   "cell_type": "code",
   "execution_count": 39,
   "id": "ed82e5b9",
   "metadata": {},
   "outputs": [
    {
     "data": {
      "text/plain": [
       "<AxesSubplot:>"
      ]
     },
     "execution_count": 39,
     "metadata": {},
     "output_type": "execute_result"
    },
    {
     "data": {
      "image/png": "[encoded data removed]",
      "text/plain": [
       "<Figure size 640x480 with 2 Axes>"
      ]
     },
     "metadata": {},
     "output_type": "display_data"
    }
   ],
   "source": [
    "corrr = data[['age', 'sex', 'bmi', 'children', 'smoker','charges']].corr()\n",
    "sns.heatmap(corrr.corr(),annot=True)"
   ]
  },
  {
   "cell_type": "code",
   "execution_count": 42,
   "id": "c88ce5bd",
   "metadata": {},
   "outputs": [],
   "source": [
    "# Train and Test the data\n",
    "X = data[['age', 'sex', 'bmi', 'children', 'smoker']]\n",
    "y = data['charges']\n",
    "\n",
    "from sklearn.model_selection import train_test_split\n",
    "X_train, X_test, y_train, y_test = train_test_split(X, y, test_size=0.3, random_state=42)"
   ]
  },
  {
   "cell_type": "markdown",
   "id": "a91a2aae",
   "metadata": {},
   "source": [
    "# Using Linear Regression"
   ]
  },
  {
   "cell_type": "code",
   "execution_count": 43,
   "id": "c18ae299",
   "metadata": {},
   "outputs": [],
   "source": [
    "from sklearn.linear_model import LinearRegression"
   ]
  },
  {
   "cell_type": "code",
   "execution_count": 44,
   "id": "24540c51",
   "metadata": {},
   "outputs": [],
   "source": [
    "lr = LinearRegression()"
   ]
  },
  {
   "cell_type": "code",
   "execution_count": 45,
   "id": "1c73d188",
   "metadata": {},
   "outputs": [
    {
     "data": {
      "text/html": [
       "<style>#sk-container-id-1 {color: black;background-color: white;}#sk-container-id-1 pre{padding: 0;}#sk-container-id-1 div.sk-toggleable {background-color: white;}#sk-container-id-1 label.sk-toggleable__label {cursor: pointer;display: block;width: 100%;margin-bottom: 0;padding: 0.3em;box-sizing: border-box;text-align: center;}#sk-container-id-1 label.sk-toggleable__label-arrow:before {content: \"▸\";float: left;margin-right: 0.25em;color: #696969;}#sk-container-id-1 label.sk-toggleable__label-arrow:hover:before {color: black;}#sk-container-id-1 div.sk-estimator:hover label.sk-toggleable__label-arrow:before {color: black;}#sk-container-id-1 div.sk-toggleable__content {max-height: 0;max-width: 0;overflow: hidden;text-align: left;background-color: #f0f8ff;}#sk-container-id-1 div.sk-toggleable__content pre {margin: 0.2em;color: black;border-radius: 0.25em;background-color: #f0f8ff;}#sk-container-id-1 input.sk-toggleable__control:checked~div.sk-toggleable__content {max-height: 200px;max-width: 100%;overflow: auto;}#sk-container-id-1 input.sk-toggleable__control:checked~label.sk-toggleable__label-arrow:before {content: \"▾\";}#sk-container-id-1 div.sk-estimator input.sk-toggleable__control:checked~label.sk-toggleable__label {background-color: #d4ebff;}#sk-container-id-1 div.sk-label input.sk-toggleable__control:checked~label.sk-toggleable__label {background-color: #d4ebff;}#sk-container-id-1 input.sk-hidden--visually {border: 0;clip: rect(1px 1px 1px 1px);clip: rect(1px, 1px, 1px, 1px);height: 1px;margin: -1px;overflow: hidden;padding: 0;position: absolute;width: 1px;}#sk-container-id-1 div.sk-estimator {font-family: monospace;background-color: #f0f8ff;border: 1px dotted black;border-radius: 0.25em;box-sizing: border-box;margin-bottom: 0.5em;}#sk-container-id-1 div.sk-estimator:hover {background-color: #d4ebff;}#sk-container-id-1 div.sk-parallel-item::after {content: \"\";width: 100%;border-bottom: 1px solid gray;flex-grow: 1;}#sk-container-id-1 div.sk-label:hover label.sk-toggleable__label {background-color: #d4ebff;}#sk-container-id-1 div.sk-serial::before {content: \"\";position: absolute;border-left: 1px solid gray;box-sizing: border-box;top: 0;bottom: 0;left: 50%;z-index: 0;}#sk-container-id-1 div.sk-serial {display: flex;flex-direction: column;align-items: center;background-color: white;padding-right: 0.2em;padding-left: 0.2em;position: relative;}#sk-container-id-1 div.sk-item {position: relative;z-index: 1;}#sk-container-id-1 div.sk-parallel {display: flex;align-items: stretch;justify-content: center;background-color: white;position: relative;}#sk-container-id-1 div.sk-item::before, #sk-container-id-1 div.sk-parallel-item::before {content: \"\";position: absolute;border-left: 1px solid gray;box-sizing: border-box;top: 0;bottom: 0;left: 50%;z-index: -1;}#sk-container-id-1 div.sk-parallel-item {display: flex;flex-direction: column;z-index: 1;position: relative;background-color: white;}#sk-container-id-1 div.sk-parallel-item:first-child::after {align-self: flex-end;width: 50%;}#sk-container-id-1 div.sk-parallel-item:last-child::after {align-self: flex-start;width: 50%;}#sk-container-id-1 div.sk-parallel-item:only-child::after {width: 0;}#sk-container-id-1 div.sk-dashed-wrapped {border: 1px dashed gray;margin: 0 0.4em 0.5em 0.4em;box-sizing: border-box;padding-bottom: 0.4em;background-color: white;}#sk-container-id-1 div.sk-label label {font-family: monospace;font-weight: bold;display: inline-block;line-height: 1.2em;}#sk-container-id-1 div.sk-label-container {text-align: center;}#sk-container-id-1 div.sk-container {/* jupyter's `normalize.less` sets `[hidden] { display: none; }` but bootstrap.min.css set `[hidden] { display: none !important; }` so we also need the `!important` here to be able to override the default hidden behavior on the sphinx rendered scikit-learn.org. See: https://github.com/scikit-learn/scikit-learn/issues/21755 */display: inline-block !important;position: relative;}#sk-container-id-1 div.sk-text-repr-fallback {display: none;}</style><div id=\"sk-container-id-1\" class=\"sk-top-container\"><div class=\"sk-text-repr-fallback\"><pre>LinearRegression()</pre><b>In a Jupyter environment, please rerun this cell to show the HTML representation or trust the notebook. <br />On GitHub, the HTML representation is unable to render, please try loading this page with nbviewer.org.</b></div><div class=\"sk-container\" hidden><div class=\"sk-item\"><div class=\"sk-estimator sk-toggleable\"><input class=\"sk-toggleable__control sk-hidden--visually\" id=\"sk-estimator-id-1\" type=\"checkbox\" checked><label for=\"sk-estimator-id-1\" class=\"sk-toggleable__label sk-toggleable__label-arrow\">LinearRegression</label><div class=\"sk-toggleable__content\"><pre>LinearRegression()</pre></div></div></div></div></div>"
      ],
      "text/plain": [
       "LinearRegression()"
      ]
     },
     "execution_count": 45,
     "metadata": {},
     "output_type": "execute_result"
    }
   ],
   "source": [
    "lr.fit(X_train,y_train)"
   ]
  },
  {
   "cell_type": "code",
   "execution_count": 47,
   "id": "a709b8c1",
   "metadata": {},
   "outputs": [],
   "source": [
    "y_pred = lr.predict(X_test)"
   ]
  },
  {
   "cell_type": "code",
   "execution_count": 50,
   "id": "cd421c8b",
   "metadata": {},
   "outputs": [
    {
     "data": {
      "application/vnd.plotly.v1+json": {
       "config": {
        "plotlyServerURL": "https://plot.ly"
       },
       "data": [
        {
         "hovertemplate": "x=%{x}<br>y=%{y}<extra></extra>",
         "legendgroup": "",
         "marker": {
          "color": "#636efa",
          "symbol": "circle"
         },
         "mode": "markers",
         "name": "",
         "orientation": "v",
         "showlegend": false,
         "type": "scatter",
         "x": [
          9095.06825,
          5272.1758,
          29330.98315,
          9301.89355,
          33750.2918,
          4536.259,
          2117.33885,
          14210.53595,
          3732.6251,
          10264.4421,
          18259.216,
          7256.7231,
          3947.4131,
          46151.1245,
          48673.5588,
          44202.6536,
          9800.8882,
          42969.8527,
          8233.0975,
          21774.32215,
          5080.096,
          7441.501,
          1256.299,
          2755.02095,
          11085.5868,
          10923.9332,
          12644.589,
          18804.7524,
          9715.841,
          1131.5066,
          15828.82173,
          11842.62375,
          2020.5523,
          5693.4305,
          2904.088,
          7448.40395,
          2597.779,
          7337.748,
          23887.6627,
          38709.176,
          4687.797,
          2643.2685,
          11674.13,
          12124.9924,
          4889.9995,
          12333.828,
          3579.8287,
          4391.652,
          42124.5153,
          4463.2051,
          13887.204,
          1719.4363,
          28476.73499,
          1708.92575,
          10594.2257,
          25333.33284,
          3645.0894,
          38746.3551,
          11848.141,
          10564.8845,
          13880.949,
          4753.6368,
          27941.28758,
          8017.06115,
          23045.56616,
          4133.64165,
          17942.106,
          25992.82104,
          3594.17085,
          1682.597,
          6079.6715,
          9411.005,
          8283.6807,
          6338.0756,
          7152.6714,
          4889.0368,
          4846.92015,
          11454.0215,
          4349.462,
          9101.798,
          1391.5287,
          28101.33305,
          5152.134,
          38511.6283,
          44501.3982,
          41097.16175,
          4837.5823,
          10601.63225,
          8310.83915,
          11264.541,
          15230.32405,
          27037.9141,
          23401.30575,
          5031.26955,
          38282.7495,
          6875.961,
          19719.6947,
          1880.07,
          18765.87545,
          6402.29135,
          4527.18295,
          1743.214,
          5709.1644,
          12363.547,
          13129.60345,
          1727.54,
          7731.4271,
          21195.818,
          1702.4553,
          23244.7902,
          23082.95533,
          2927.0647,
          13019.16105,
          37701.8768,
          9778.3472,
          1980.07,
          30259.99556,
          22478.6,
          6313.759,
          2789.0574,
          5594.8455,
          7261.741,
          11396.9002,
          1986.9334,
          4719.73655,
          7749.1564,
          7345.7266,
          9288.0267,
          12244.531,
          1837.2819,
          3972.9247,
          5934.3798,
          5836.5204,
          7935.29115,
          5649.715,
          12347.172,
          12404.8791,
          22144.032,
          42983.4585,
          37270.1512,
          5267.81815,
          9866.30485,
          2322.6218,
          33471.97189,
          2137.6536,
          23306.547,
          5261.46945,
          3761.292,
          11436.73815,
          4751.07,
          46661.4424,
          2690.1138,
          1146.7966,
          37607.5277,
          6373.55735,
          4518.82625,
          13555.0049,
          8547.6913,
          34439.8559,
          39125.33225,
          13607.36875,
          2710.82855,
          14988.432,
          2396.0959,
          3591.48,
          7162.0122,
          48824.45,
          43578.9394,
          39556.4945,
          2632.992,
          9182.17,
          6238.298,
          5757.41345,
          4239.89265,
          2154.361,
          21978.6769,
          16297.846,
          13831.1152,
          32734.1863,
          11830.6072,
          29523.1656,
          3167.45585,
          8428.0693,
          5012.471,
          5209.57885,
          2855.43755,
          20277.80751,
          3554.203,
          8569.8618,
          10594.50155,
          3597.596,
          7323.734819,
          2731.9122,
          38711,
          12981.3457,
          9283.562,
          2709.1119,
          12096.6512,
          2198.18985,
          8932.084,
          3176.2877,
          24393.6224,
          4266.1658,
          22493.65964,
          17085.2676,
          16577.7795,
          8827.2099,
          4296.2712,
          7804.1605,
          3208.787,
          12957.118,
          22192.43711,
          9432.9253,
          17043.3414,
          6593.5083,
          4137.5227,
          4779.6023,
          14001.2867,
          12629.8967,
          5245.2269,
          2404.7338,
          6948.7008,
          6435.6237,
          42560.4304,
          2055.3249,
          34672.1472,
          1731.677,
          1639.5631,
          9377.9047,
          10977.2063,
          1534.3045,
          9644.2525,
          4529.477,
          37829.7242,
          9991.03765,
          8125.7845,
          3877.30425,
          5979.731,
          43896.3763,
          1674.6323,
          13204.28565,
          44585.45587,
          3021.80915,
          3392.9768,
          1632.03625,
          2699.56835,
          20177.67113,
          4076.497,
          12592.5345,
          1621.3402,
          1875.344,
          7196.867,
          3161.454,
          12029.2867,
          2719.27975,
          18218.16139,
          12146.971,
          3292.52985,
          8688.85885,
          6113.23105,
          8059.6791,
          13415.0381,
          18246.4955,
          47055.5321,
          12222.8983,
          6067.12675,
          63770.42801,
          9872.701,
          9193.8385,
          8534.6718,
          27117.99378,
          8596.8278,
          12475.3513,
          13405.3903,
          2150.469,
          13747.87235,
          6610.1097,
          39047.285,
          27375.90478,
          9048.0273,
          8988.15875,
          14901.5167,
          10096.97,
          8835.26495,
          38415.474,
          2721.3208,
          9877.6077,
          47269.854,
          4237.12655,
          2534.39375,
          2205.9808,
          10965.446,
          15006.57945,
          10736.87075,
          9788.8659,
          10422.91665,
          9304.7019,
          3378.91,
          2155.6815,
          38126.2465,
          35491.64,
          6356.2707,
          24059.68019,
          16450.8947,
          12925.886,
          36950.2567,
          2459.7201,
          46889.2612,
          5124.1887,
          14133.03775,
          6414.178,
          1720.3537,
          15817.9857,
          13462.52,
          2103.08,
          12105.32,
          20781.48892,
          12235.8392,
          41949.2441,
          12643.3778,
          21223.6758,
          7954.517,
          15170.069,
          3659.346,
          8232.6388,
          8027.968,
          13919.8229,
          10791.96,
          17878.90068,
          10601.412,
          13217.0945,
          11944.59435,
          14358.36437,
          32548.3405,
          5699.8375,
          2352.96845,
          4340.4409,
          9391.346,
          42211.1382,
          8823.279,
          14256.1928,
          7133.9025,
          5312.16985,
          3906.127,
          2203.47185,
          28340.18885,
          5484.4673,
          1622.1885,
          11299.343,
          8026.6666,
          11737.84884,
          2913.569,
          9861.025,
          2473.3341,
          39983.42595,
          36307.7983,
          44400.4064,
          3172.018,
          7742.1098,
          6185.3208,
          1880.487,
          21771.3423,
          6858.4796,
          17179.522,
          42760.5022,
          5478.0368,
          12638.195,
          5989.52365,
          9566.9909,
          10370.91255,
          19594.80965,
          11576.13,
          6360.9936,
          4032.2407,
          2585.269,
          11658.37915,
          21082.16,
          10807.4863,
          9724.53,
          3201.24515,
          3309.7926,
          5969.723,
          8269.044,
          9414.92,
          23967.38305,
          47928.03,
          11842.442,
          7421.19455,
          12950.0712,
          11033.6617,
          6082.405,
          3989.841,
          7537.1639,
          3484.331,
          8116.68,
          17626.23951,
          11837.16,
          9541.69555,
          4399.731,
          2200.83085,
          11363.2832,
          1964.78
         ],
         "xaxis": "x",
         "y": [
          8504.259527860882,
          6897.839410865869,
          36805.01178273956,
          9525.016401805518,
          26834.157835543818,
          11236.538278429176,
          -56.51533812760135,
          16996.53931939343,
          558.8690155120312,
          11292.496381147928,
          28504.837818077453,
          9398.418044416841,
          5353.299158790818,
          38679.2375391727,
          40572.74207293856,
          37372.207871538354,
          15387.386205628685,
          36033.31348367787,
          9292.403711426832,
          31304.888831478558,
          4274.201000865589,
          10592.294877060816,
          2708.687302051956,
          6493.028109069724,
          11227.7400333562,
          12498.970757641677,
          14877.168064987596,
          5963.858916380301,
          9503.120178650894,
          2360.1028267234797,
          9434.179132442692,
          12999.67895741987,
          4585.98098388264,
          3265.968372758849,
          4840.896513989574,
          12653.623491367965,
          2194.5926521324072,
          9123.389701297685,
          33175.85413453441,
          32812.24167495813,
          4132.8827776456565,
          4243.2913898226325,
          14495.05758701573,
          11538.308657687048,
          9023.275842853483,
          12650.54437941574,
          5036.971935950121,
          3406.5356157316855,
          35766.66254330316,
          9379.527635202561,
          16062.933108714333,
          2535.594153563896,
          12177.976509164851,
          1021.6584333154988,
          13742.8249292677,
          12262.322306782957,
          3942.9007726123345,
          32097.024771079567,
          13686.624842289842,
          12427.075907849594,
          14562.808632914606,
          10557.763325454867,
          16905.62875201872,
          7655.189088702529,
          11373.432928895247,
          3872.9541067201026,
          27013.190853245316,
          11314.831553643322,
          1947.1276549321647,
          6528.0042032937745,
          10334.018926796387,
          11141.367231270502,
          11144.191703785797,
          9457.978551552198,
          12242.177231725058,
          6864.503311403652,
          6828.903887213535,
          10679.264198901306,
          6660.328826425157,
          9111.453342736997,
          3947.345633021607,
          36354.50315789173,
          6641.216110541096,
          30192.972414721095,
          34939.307127317305,
          34921.71765958285,
          7276.274327852185,
          12929.201866441308,
          9817.257374775567,
          14977.02431551609,
          17263.76406273336,
          35506.57070868624,
          32531.35623517206,
          5797.563747987431,
          32209.858371820177,
          9935.129245758522,
          29674.425771770315,
          3700.685307212483,
          28119.832679500134,
          5315.106059789843,
          5220.17699689027,
          2071.9946125349034,
          11757.66027701419,
          15596.07566838515,
          11460.413295847477,
          4479.088752211101,
          10217.4859940592,
          32065.480643515875,
          -530.1369966506663,
          33021.063507983425,
          3608.761987531794,
          10351.35375509391,
          13883.784633780699,
          31058.345181560202,
          10988.211076925476,
          4269.515797495773,
          12845.305992554244,
          32107.575632872424,
          8284.13018879683,
          3175.091638006921,
          7882.953482741501,
          10601.851235002847,
          14739.665778933533,
          5838.3914163225345,
          3608.4089206592635,
          10085.168503549776,
          11036.881810428898,
          10808.169329618231,
          14648.5935477231,
          7593.3148170599015,
          5486.833459820853,
          9502.570146696704,
          9447.115588131543,
          12010.263581958465,
          8610.314826095622,
          15850.809927788494,
          7990.569955170333,
          32218.04891058369,
          35588.799848321665,
          31031.866205171595,
          5852.752692725389,
          12124.939735819902,
          6215.533812142214,
          14454.642128531585,
          2726.688767472966,
          33448.99343673214,
          6258.046392462649,
          5281.594212179909,
          14244.879270635083,
          7364.772561841084,
          38545.80879820021,
          2859.6155036364744,
          6027.073767567264,
          31241.222446494474,
          11369.131625309474,
          8062.464804962416,
          14540.891122104571,
          9994.350841054798,
          27094.20622156038,
          33051.48372990625,
          14125.948159545547,
          1452.4199672014638,
          13758.890865966681,
          1792.8335106342802,
          5819.597934688227,
          11857.177615703604,
          40148.400322851536,
          36396.75571766231,
          33624.08677947652,
          4110.163705366216,
          7827.948847907381,
          8942.485820408452,
          12032.238625680842,
          4795.337154484056,
          2257.676672395155,
          32429.654321601018,
          25427.374438238287,
          17854.943880545496,
          26247.97836192955,
          10117.773158911281,
          36828.1248164148,
          -1000.6724813210167,
          6864.064291341423,
          8032.965930321476,
          3995.779904821793,
          4863.337317263984,
          5506.618406105736,
          4552.978202982165,
          15311.458705278284,
          11219.059964029617,
          7286.386311025741,
          1898.4246593830612,
          950.9015734762797,
          32301.564978108414,
          16781.077005965497,
          12186.611519825005,
          1040.7191388430929,
          12096.557563476421,
          948.3458247099006,
          9091.132448809913,
          1681.851095492084,
          33957.082052048325,
          11061.111617123053,
          2527.9591693104394,
          25698.122694705613,
          26402.59324033282,
          9497.806052037675,
          1614.0535617926107,
          13554.36488469275,
          1375.413549155157,
          10970.594869701214,
          10816.64124730849,
          16398.470116462,
          27047.397718767104,
          7263.018637913574,
          4629.651231745265,
          5960.905112796419,
          13488.260895456202,
          11353.542351831344,
          8464.890654305495,
          4869.3378293114765,
          12296.704991173934,
          14096.72912448673,
          36031.20772936399,
          4064.4664530359987,
          29111.346747374926,
          -694.9016428290415,
          2772.0258910301673,
          11398.662761996093,
          15848.37798753483,
          5382.686950818334,
          6836.167556139302,
          4122.00708832571,
          31746.565339141656,
          7193.0860563333335,
          12716.18421916633,
          5564.766676983443,
          9966.067166868386,
          36402.70981263067,
          4617.8457041087895,
          9288.37099014705,
          31511.05494895726,
          5505.279467859964,
          4677.576436835989,
          966.8761051511592,
          4763.746680562697,
          4826.8433560032645,
          6912.401706283101,
          18826.435182019468,
          -1598.3367484663777,
          2567.2579254971315,
          11138.817005059991,
          3395.7710797466298,
          9801.080214020225,
          3479.2548145042074,
          5185.729717686467,
          12946.981095914001,
          6146.004807935336,
          7937.454361257638,
          7043.170677776263,
          8798.649633023691,
          10468.691147057816,
          28006.03281425414,
          39414.979324471504,
          11709.794144180421,
          7325.435950331372,
          41028.1400300923,
          12652.1269119867,
          7024.3589476868,
          7878.698525513402,
          9368.26654624294,
          11277.920001418708,
          10058.531886025681,
          17923.060648494724,
          1324.2658874531007,
          23120.294119504615,
          12251.289117770451,
          32740.79129706268,
          4841.484401266778,
          13483.6135474094,
          10271.008133824049,
          17334.927539146196,
          10407.709841908698,
          11429.633015873103,
          32644.371177337714,
          2886.7020448916046,
          13828.891223002931,
          39635.17339979131,
          5103.473838561236,
          6021.962199313042,
          2816.83419956712,
          11894.56045003613,
          25001.76386727419,
          13774.623554825386,
          9649.091343194963,
          9753.716156716899,
          13800.561061015916,
          1303.9631712597093,
          2574.369617286209,
          30887.271904917783,
          30389.45277246771,
          13821.673971156299,
          3499.7332788453186,
          25302.840869918757,
          13816.117860283975,
          30918.607810123678,
          2897.2853101730725,
          39273.5231377054,
          11412.029605269592,
          4937.010125364071,
          7159.069164714179,
          2755.6124100145225,
          25808.739387797454,
          14767.603408658917,
          964.4637717653532,
          13168.789965850454,
          13004.208090231292,
          14813.385004112748,
          35263.843066655216,
          14267.18211036333,
          31929.358260952315,
          10364.001738723058,
          18662.88566557415,
          6355.244373367455,
          9182.394583201516,
          9816.008231487813,
          15646.968761371743,
          9602.735944775908,
          7785.468671075556,
          15466.30127146428,
          12360.292555590273,
          14411.65819538177,
          7869.592232745341,
          26277.444974524806,
          9520.808003099482,
          1769.7204769590444,
          4496.815971327327,
          14622.263579992403,
          35986.61613421949,
          10007.93984955515,
          12702.65428292294,
          4929.0740138730835,
          4863.989870075486,
          4376.589299870899,
          2215.1176042741154,
          8895.481891878142,
          7407.109394013802,
          2626.8184326324863,
          13520.073676047348,
          8756.88251039448,
          6368.277756636278,
          1102.8677275119735,
          9851.894557160536,
          5078.355158795279,
          32913.0081569353,
          28655.753435205617,
          37125.48288019494,
          5929.314638875061,
          8952.348686700952,
          8540.753489121602,
          3800.69360559913,
          31198.690117863247,
          6749.388137479986,
          28726.12482468369,
          36028.318591314404,
          7296.682604103131,
          13343.70748972565,
          9676.912438472518,
          8264.65175086241,
          12275.461320830804,
          29782.128126667376,
          17527.171258841336,
          11715.669489302498,
          3931.7099424643384,
          -805.6562994670512,
          11724.350917041786,
          31297.782662245358,
          13326.378254705458,
          11717.244747808578,
          7667.347753933005,
          3192.2041596346626,
          7565.868005588818,
          7633.900430414429,
          11073.505032036737,
          33704.45906951473,
          39542.38235325129,
          12319.844764338977,
          8201.391982451947,
          16369.153941658813,
          15506.460732098796,
          9982.799882133786,
          9543.836764372569,
          8781.537111395948,
          3172.9015405694317,
          10532.66970439117,
          4158.866700915318,
          11053.07298477476,
          15473.328690851205,
          6927.8150901705885,
          1581.731714492009,
          14816.691803847694,
          602.5448566519899
         ],
         "yaxis": "y"
        },
        {
         "hovertemplate": "<b>OLS trendline</b><br>y = 0.761046 * x + 3312.96<br>R<sup>2</sup>=0.768439<br><br>x=%{x}<br>y=%{y} <b>(trend)</b><extra></extra>",
         "legendgroup": "",
         "marker": {
          "color": "#636efa",
          "symbol": "circle"
         },
         "mode": "lines",
         "name": "",
         "showlegend": false,
         "type": "scatter",
         "x": [
          1131.5066,
          1146.7966,
          1256.299,
          1391.5287,
          1534.3045,
          1621.3402,
          1622.1885,
          1632.03625,
          1639.5631,
          1674.6323,
          1682.597,
          1702.4553,
          1708.92575,
          1719.4363,
          1720.3537,
          1727.54,
          1731.677,
          1743.214,
          1837.2819,
          1875.344,
          1880.07,
          1880.487,
          1964.78,
          1980.07,
          1986.9334,
          2020.5523,
          2055.3249,
          2103.08,
          2117.33885,
          2137.6536,
          2150.469,
          2154.361,
          2155.6815,
          2198.18985,
          2200.83085,
          2203.47185,
          2205.9808,
          2322.6218,
          2352.96845,
          2396.0959,
          2404.7338,
          2459.7201,
          2473.3341,
          2534.39375,
          2585.269,
          2597.779,
          2632.992,
          2643.2685,
          2690.1138,
          2699.56835,
          2709.1119,
          2710.82855,
          2719.27975,
          2721.3208,
          2731.9122,
          2755.02095,
          2789.0574,
          2855.43755,
          2904.088,
          2913.569,
          2927.0647,
          3021.80915,
          3161.454,
          3167.45585,
          3172.018,
          3176.2877,
          3201.24515,
          3208.787,
          3292.52985,
          3309.7926,
          3378.91,
          3392.9768,
          3484.331,
          3554.203,
          3579.8287,
          3591.48,
          3594.17085,
          3597.596,
          3645.0894,
          3659.346,
          3732.6251,
          3761.292,
          3877.30425,
          3906.127,
          3947.4131,
          3972.9247,
          3989.841,
          4032.2407,
          4076.497,
          4133.64165,
          4137.5227,
          4237.12655,
          4239.89265,
          4266.1658,
          4296.2712,
          4340.4409,
          4349.462,
          4391.652,
          4399.731,
          4463.2051,
          4518.82625,
          4527.18295,
          4529.477,
          4536.259,
          4687.797,
          4719.73655,
          4751.07,
          4753.6368,
          4779.6023,
          4837.5823,
          4846.92015,
          4889.0368,
          4889.9995,
          5012.471,
          5031.26955,
          5080.096,
          5124.1887,
          5152.134,
          5209.57885,
          5245.2269,
          5261.46945,
          5267.81815,
          5272.1758,
          5312.16985,
          5478.0368,
          5484.4673,
          5594.8455,
          5649.715,
          5693.4305,
          5699.8375,
          5709.1644,
          5757.41345,
          5836.5204,
          5934.3798,
          5969.723,
          5979.731,
          5989.52365,
          6067.12675,
          6079.6715,
          6082.405,
          6113.23105,
          6185.3208,
          6238.298,
          6313.759,
          6338.0756,
          6356.2707,
          6360.9936,
          6373.55735,
          6402.29135,
          6414.178,
          6435.6237,
          6593.5083,
          6610.1097,
          6858.4796,
          6875.961,
          6948.7008,
          7133.9025,
          7152.6714,
          7162.0122,
          7196.867,
          7256.7231,
          7261.741,
          7323.734819,
          7337.748,
          7345.7266,
          7421.19455,
          7441.501,
          7448.40395,
          7537.1639,
          7731.4271,
          7742.1098,
          7749.1564,
          7804.1605,
          7935.29115,
          7954.517,
          8017.06115,
          8026.6666,
          8027.968,
          8059.6791,
          8116.68,
          8125.7845,
          8232.6388,
          8233.0975,
          8269.044,
          8283.6807,
          8310.83915,
          8428.0693,
          8534.6718,
          8547.6913,
          8569.8618,
          8596.8278,
          8688.85885,
          8823.279,
          8827.2099,
          8835.26495,
          8932.084,
          8988.15875,
          9048.0273,
          9095.06825,
          9101.798,
          9182.17,
          9193.8385,
          9283.562,
          9288.0267,
          9301.89355,
          9304.7019,
          9377.9047,
          9391.346,
          9411.005,
          9414.92,
          9432.9253,
          9541.69555,
          9566.9909,
          9644.2525,
          9715.841,
          9724.53,
          9778.3472,
          9788.8659,
          9800.8882,
          9861.025,
          9866.30485,
          9872.701,
          9877.6077,
          9991.03765,
          10096.97,
          10264.4421,
          10370.91255,
          10422.91665,
          10564.8845,
          10594.2257,
          10594.50155,
          10601.412,
          10601.63225,
          10736.87075,
          10791.96,
          10807.4863,
          10923.9332,
          10965.446,
          10977.2063,
          11033.6617,
          11085.5868,
          11264.541,
          11299.343,
          11363.2832,
          11396.9002,
          11436.73815,
          11454.0215,
          11576.13,
          11658.37915,
          11674.13,
          11737.84884,
          11830.6072,
          11837.16,
          11842.442,
          11842.62375,
          11848.141,
          11944.59435,
          12029.2867,
          12096.6512,
          12105.32,
          12124.9924,
          12146.971,
          12222.8983,
          12235.8392,
          12244.531,
          12333.828,
          12347.172,
          12363.547,
          12404.8791,
          12475.3513,
          12592.5345,
          12629.8967,
          12638.195,
          12643.3778,
          12644.589,
          12925.886,
          12950.0712,
          12957.118,
          12981.3457,
          13019.16105,
          13129.60345,
          13204.28565,
          13217.0945,
          13405.3903,
          13415.0381,
          13462.52,
          13555.0049,
          13607.36875,
          13747.87235,
          13831.1152,
          13880.949,
          13887.204,
          13919.8229,
          14001.2867,
          14133.03775,
          14210.53595,
          14256.1928,
          14358.36437,
          14901.5167,
          14988.432,
          15006.57945,
          15170.069,
          15230.32405,
          15817.9857,
          15828.82173,
          16297.846,
          16450.8947,
          16577.7795,
          17043.3414,
          17085.2676,
          17179.522,
          17626.23951,
          17878.90068,
          17942.106,
          18218.16139,
          18246.4955,
          18259.216,
          18765.87545,
          18804.7524,
          19594.80965,
          19719.6947,
          20177.67113,
          20277.80751,
          20781.48892,
          21082.16,
          21195.818,
          21223.6758,
          21771.3423,
          21774.32215,
          21978.6769,
          22144.032,
          22192.43711,
          22478.6,
          22493.65964,
          23045.56616,
          23082.95533,
          23244.7902,
          23306.547,
          23401.30575,
          23887.6627,
          23967.38305,
          24059.68019,
          24393.6224,
          25333.33284,
          25992.82104,
          27037.9141,
          27117.99378,
          27375.90478,
          27941.28758,
          28101.33305,
          28340.18885,
          28476.73499,
          29330.98315,
          29523.1656,
          30259.99556,
          32548.3405,
          32734.1863,
          33471.97189,
          33750.2918,
          34439.8559,
          34672.1472,
          35491.64,
          36307.7983,
          36950.2567,
          37270.1512,
          37607.5277,
          37701.8768,
          37829.7242,
          38126.2465,
          38282.7495,
          38415.474,
          38511.6283,
          38709.176,
          38711,
          38746.3551,
          39047.285,
          39125.33225,
          39556.4945,
          39983.42595,
          41097.16175,
          41949.2441,
          42124.5153,
          42211.1382,
          42560.4304,
          42760.5022,
          42969.8527,
          42983.4585,
          43578.9394,
          43896.3763,
          44202.6536,
          44400.4064,
          44501.3982,
          44585.45587,
          46151.1245,
          46661.4424,
          46889.2612,
          47055.5321,
          47269.854,
          47928.03,
          48673.5588,
          48824.45,
          63770.42801
         ],
         "xaxis": "x",
         "y": [
          4174.090632034434,
          4185.727027697691,
          4269.063407846556,
          4371.979450660387,
          4480.6384238414175,
          4546.876608408355,
          4547.522203859051,
          4555.016796101879,
          4560.745076330655,
          4587.434356042484,
          4593.49586032889,
          4608.608943128082,
          4613.533254201941,
          4621.532267834278,
          4622.230451574074,
          4627.699557535804,
          4630.848005466405,
          4639.628194921408,
          4711.218208238062,
          4740.185222978051,
          4743.781927092148,
          4744.099283337509,
          4808.250146623505,
          4819.886542286761,
          4825.109906446029,
          4850.6954409236905,
          4877.1589943468525,
          4913.502829437655,
          4924.354472361332,
          4939.81493467658,
          4949.568045532231,
          4952.530037155605,
          4953.53499859925,
          4985.885814792329,
          4987.895737679619,
          4989.905660566908,
          4991.815087309834,
          5080.584271518983,
          5103.6794727259385,
          5136.501452591689,
          5143.075293147584,
          5184.9224051723395,
          5195.283287484934,
          5241.7524991566115,
          5280.470912398409,
          5289.991599759255,
          5316.790317907735,
          5324.611208688209,
          5360.262643989971,
          5367.457992885853,
          5374.721074889259,
          5376.027524765997,
          5382.459278005324,
          5384.012611253755,
          5392.073155467477,
          5409.659980731261,
          5435.563290029669,
          5486.081647752776,
          5523.106885515724,
          5530.322364082325,
          5540.593214635144,
          5612.698113725897,
          5718.974289457492,
          5723.5419743045495,
          5727.013981006651,
          5730.263419761615,
          5749.257191046503,
          5754.996886967558,
          5818.72906071306,
          5831.866810172569,
          5884.468341475091,
          5895.173825485286,
          5964.698587859404,
          6017.874404588184,
          6037.37674496411,
          6046.24392199428,
          6048.291783032244,
          6050.898480259582,
          6087.043149572421,
          6097.893080142256,
          6153.661857215332,
          6175.478691148557,
          6263.76936758967,
          6285.704810565675,
          6317.125438099538,
          6336.540943109527,
          6349.415028129693,
          6381.683156658364,
          6415.364243472737,
          6458.853959459546,
          6461.807617627557,
          6537.610744389076,
          6539.715874149974,
          6559.710953856978,
          6582.622552679777,
          6616.237732897393,
          6623.103206338714,
          6655.211743489321,
          6661.360235350894,
          6709.666954904138,
          6751.997217078457,
          6758.357051456425,
          6760.102929381297,
          6765.264344383795,
          6880.591756157408,
          6904.899227779799,
          6928.745429329496,
          6930.698882592312,
          6950.4598264506685,
          6994.585282340506,
          7001.691817150456,
          7033.744531565818,
          7034.477190696296,
          7127.683654494367,
          7141.990218634035,
          7179.149400519725,
          7212.70598018364,
          7233.97364321362,
          7277.691825255243,
          7304.821636532126,
          7317.182966707419,
          7322.014620412279,
          7325.330993176307,
          7355.768311029549,
          7482.00071506209,
          7486.89462234218,
          7570.897526710921,
          7612.655748545129,
          7645.925261600531,
          7650.801284296049,
          7657.899485650635,
          7694.619239488192,
          7754.823279377888,
          7829.298799179644,
          7856.196605537108,
          7863.813155425784,
          7871.26581402564,
          7930.325354659731,
          7939.872488374357,
          7941.952808030701,
          7965.412854762901,
          8020.27648159516,
          8060.59457579604,
          8118.023879468047,
          8136.5299343264605,
          8150.377245165736,
          8153.971590036762,
          8163.533183628275,
          8185.4010837582955,
          8194.447373000326,
          8210.768540461118,
          8330.926007742672,
          8343.56043932959,
          8532.581395983836,
          8545.885548184468,
          8601.243893067798,
          8742.190934186681,
          8756.474933307942,
          8763.58371320404,
          8790.109824620893,
          8835.663079196396,
          8839.481932682247,
          8886.662090076643,
          8897.326767553215,
          8903.398850381134,
          8960.833443323896,
          8976.287588956084,
          8981.54105249066,
          9049.09147088509,
          9196.934731709833,
          9205.064759437228,
          9210.427547251533,
          9252.288205897792,
          9352.084682482488,
          9366.71644164288,
          9414.315426327123,
          9421.625617087333,
          9422.616042549476,
          9446.749653178456,
          9490.129968780922,
          9497.058913471315,
          9578.379967305213,
          9578.729059175112,
          9606.086004676043,
          9617.225208888232,
          9637.894042753553,
          9727.111597303121,
          9808.241019715959,
          9818.149460091223,
          9835.022233802945,
          9855.544604336323,
          9925.584480798385,
          10027.884418699909,
          10030.876015018592,
          10037.006279824825,
          10110.690045262407,
          10153.365517971248,
          10198.92824757134,
          10234.728581552732,
          10239.850231893794,
          10301.017033218006,
          10309.89730024199,
          10378.181024656129,
          10381.578867410724,
          10392.132180242837,
          10394.269464203655,
          10449.980173455337,
          10460.209623097491,
          10475.1710293986,
          10478.15052508347,
          10491.853389363107,
          10574.632569571824,
          10593.883498351455,
          10652.683141724658,
          10707.165294173252,
          10713.778024187512,
          10754.735397156026,
          10762.740613314503,
          10771.890138467044,
          10817.657018697399,
          10821.675228222754,
          10826.54299356752,
          10830.277218721276,
          10916.60264568422,
          10997.22205301833,
          11124.676050281669,
          11205.70497655014,
          11245.282496740561,
          11353.326582683128,
          11375.656590036611,
          11375.866524617624,
          11381.12569599834,
          11381.293316413306,
          11484.216056433273,
          11526.141518159373,
          11537.957749028334,
          11626.57921417939,
          11658.172370875898,
          11667.122501936632,
          11710.087666863212,
          11749.605064407628,
          11885.797469692228,
          11912.28339787226,
          11960.944841036922,
          11986.528929526896,
          12016.84744807582,
          12030.000875086058,
          12122.931079130973,
          12185.526478239313,
          12197.513602021692,
          12246.006580010166,
          12316.599972949,
          12321.586956173469,
          12325.606801948048,
          12325.745122086166,
          12329.94400396799,
          12403.349454827803,
          12467.80424189458,
          12519.071735397356,
          12525.669092279346,
          12540.64069659889,
          12557.367425554054,
          12615.151605046714,
          12625.000227194432,
          12631.615088137918,
          12699.574226368251,
          12709.729626219822,
          12722.191756957942,
          12753.647392614792,
          12807.279989243973,
          12896.461812676705,
          12924.896171214947,
          12931.211560497642,
          12935.155910493948,
          12936.077689593185,
          13150.157688997177,
          13168.563742391223,
          13173.92668241476,
          13192.365080270265,
          13221.144306872262,
          13305.196070403956,
          13362.032671332825,
          13371.780797336181,
          13515.0825913538,
          13522.425012418546,
          13558.560929700638,
          13628.94620695876,
          13668.797513502344,
          13775.727237616924,
          13839.078888286454,
          13877.004710013305,
          13881.765053693729,
          13906.589542019443,
          13968.587253532354,
          14068.855883149718,
          14127.835590042469,
          14162.58256004495,
          14240.339840231743,
          14653.703830898823,
          14719.850385509068,
          14733.6614324992,
          14858.084525410104,
          14903.941399347928,
          15351.179036726742,
          15359.425755660614,
          15716.37487151346,
          15832.851995708817,
          15929.417184489273,
          16283.731276977003,
          16315.639050152728,
          16387.37099857672,
          16727.343640569175,
          16919.630451743884,
          16967.73261731241,
          17177.8235095959,
          17199.387074980215,
          17209.067962556048,
          17594.65918732569,
          17624.246340522594,
          18225.51637045224,
          18320.559657190337,
          18669.100856923866,
          18745.30926359268,
          19128.634062479985,
          19357.458630915473,
          19443.957614453364,
          19465.15868594505,
          19881.95816831986,
          19884.225971695734,
          20039.749367815148,
          20165.592230374816,
          20202.430753074845,
          20420.21391933913,
          20431.675000410825,
          20851.701333690806,
          20880.156217643766,
          21003.32002270797,
          21050.319797704473,
          21122.4355797552,
          21492.57566502496,
          21553.24653062426,
          21623.48891385689,
          21877.63434774978,
          22592.797362055386,
          23094.69831891927,
          23890.06237065788,
          23951.006702970957,
          24147.288877065534,
          24577.571281382065,
          24699.373270461976,
          24881.15355792199,
          24985.07147233209,
          25635.193747307152,
          25781.453461351233,
          26342.215067047855,
          28083.75117796026,
          28225.18840890561,
          28786.67729313642,
          28998.491589651912,
          29523.281694477115,
          29700.066094472677,
          30323.73793646024,
          30944.872070054138,
          31433.812563159605,
          31677.26704141334,
          31934.026128495392,
          32005.83014798997,
          32103.12791979629,
          32328.79507517751,
          32447.901081095533,
          32548.91055108951,
          32622.088411097582,
          32772.43132800839,
          32773.81947618954,
          32800.72633899621,
          33029.74788139675,
          33089.145440679225,
          33417.27981190616,
          33742.19434907344,
          34589.79869394809,
          35238.27268755681,
          35371.66215986379,
          35437.5861845792,
          35703.413669294,
          35855.67754279694,
          36015.00293522994,
          36025.35757696409,
          36478.54602446651,
          36720.13015569722,
          36953.22131629066,
          37103.720323767244,
          37180.57974453535,
          37244.55151083041,
          38436.09759691468,
          38824.473070978915,
          38997.85369205991,
          39124.393520685524,
          39287.502377958306,
          39788.4046900616,
          40355.78651446662,
          40470.62168158915,
          51845.20073317119
         ],
         "yaxis": "y"
        }
       ],
       "layout": {
        "legend": {
         "tracegroupgap": 0
        },
        "margin": {
         "t": 60
        },
        "template": {
         "data": {
          "bar": [
           {
            "error_x": {
             "color": "#2a3f5f"
            },
            "error_y": {
             "color": "#2a3f5f"
            },
            "marker": {
             "line": {
              "color": "#E5ECF6",
              "width": 0.5
             },
             "pattern": {
              "fillmode": "overlay",
              "size": 10,
              "solidity": 0.2
             }
            },
            "type": "bar"
           }
          ],
          "barpolar": [
           {
            "marker": {
             "line": {
              "color": "#E5ECF6",
              "width": 0.5
             },
             "pattern": {
              "fillmode": "overlay",
              "size": 10,
              "solidity": 0.2
             }
            },
            "type": "barpolar"
           }
          ],
          "carpet": [
           {
            "aaxis": {
             "endlinecolor": "#2a3f5f",
             "gridcolor": "white",
             "linecolor": "white",
             "minorgridcolor": "white",
             "startlinecolor": "#2a3f5f"
            },
            "baxis": {
             "endlinecolor": "#2a3f5f",
             "gridcolor": "white",
             "linecolor": "white",
             "minorgridcolor": "white",
             "startlinecolor": "#2a3f5f"
            },
            "type": "carpet"
           }
          ],
          "choropleth": [
           {
            "colorbar": {
             "outlinewidth": 0,
             "ticks": ""
            },
            "type": "choropleth"
           }
          ],
          "contour": [
           {
            "colorbar": {
             "outlinewidth": 0,
             "ticks": ""
            },
            "colorscale": [
             [
              0,
              "#0d0887"
             ],
             [
              0.1111111111111111,
              "#46039f"
             ],
             [
              0.2222222222222222,
              "#7201a8"
             ],
             [
              0.3333333333333333,
              "#9c179e"
             ],
             [
              0.4444444444444444,
              "#bd3786"
             ],
             [
              0.5555555555555556,
              "#d8576b"
             ],
             [
              0.6666666666666666,
              "#ed7953"
             ],
             [
              0.7777777777777778,
              "#fb9f3a"
             ],
             [
              0.8888888888888888,
              "#fdca26"
             ],
             [
              1,
              "#f0f921"
             ]
            ],
            "type": "contour"
           }
          ],
          "contourcarpet": [
           {
            "colorbar": {
             "outlinewidth": 0,
             "ticks": ""
            },
            "type": "contourcarpet"
           }
          ],
          "heatmap": [
           {
            "colorbar": {
             "outlinewidth": 0,
             "ticks": ""
            },
            "colorscale": [
             [
              0,
              "#0d0887"
             ],
             [
              0.1111111111111111,
              "#46039f"
             ],
             [
              0.2222222222222222,
              "#7201a8"
             ],
             [
              0.3333333333333333,
              "#9c179e"
             ],
             [
              0.4444444444444444,
              "#bd3786"
             ],
             [
              0.5555555555555556,
              "#d8576b"
             ],
             [
              0.6666666666666666,
              "#ed7953"
             ],
             [
              0.7777777777777778,
              "#fb9f3a"
             ],
             [
              0.8888888888888888,
              "#fdca26"
             ],
             [
              1,
              "#f0f921"
             ]
            ],
            "type": "heatmap"
           }
          ],
          "heatmapgl": [
           {
            "colorbar": {
             "outlinewidth": 0,
             "ticks": ""
            },
            "colorscale": [
             [
              0,
              "#0d0887"
             ],
             [
              0.1111111111111111,
              "#46039f"
             ],
             [
              0.2222222222222222,
              "#7201a8"
             ],
             [
              0.3333333333333333,
              "#9c179e"
             ],
             [
              0.4444444444444444,
              "#bd3786"
             ],
             [
              0.5555555555555556,
              "#d8576b"
             ],
             [
              0.6666666666666666,
              "#ed7953"
             ],
             [
              0.7777777777777778,
              "#fb9f3a"
             ],
             [
              0.8888888888888888,
              "#fdca26"
             ],
             [
              1,
              "#f0f921"
             ]
            ],
            "type": "heatmapgl"
           }
          ],
          "histogram": [
           {
            "marker": {
             "pattern": {
              "fillmode": "overlay",
              "size": 10,
              "solidity": 0.2
             }
            },
            "type": "histogram"
           }
          ],
          "histogram2d": [
           {
            "colorbar": {
             "outlinewidth": 0,
             "ticks": ""
            },
            "colorscale": [
             [
              0,
              "#0d0887"
             ],
             [
              0.1111111111111111,
              "#46039f"
             ],
             [
              0.2222222222222222,
              "#7201a8"
             ],
             [
              0.3333333333333333,
              "#9c179e"
             ],
             [
              0.4444444444444444,
              "#bd3786"
             ],
             [
              0.5555555555555556,
              "#d8576b"
             ],
             [
              0.6666666666666666,
              "#ed7953"
             ],
             [
              0.7777777777777778,
              "#fb9f3a"
             ],
             [
              0.8888888888888888,
              "#fdca26"
             ],
             [
              1,
              "#f0f921"
             ]
            ],
            "type": "histogram2d"
           }
          ],
          "histogram2dcontour": [
           {
            "colorbar": {
             "outlinewidth": 0,
             "ticks": ""
            },
            "colorscale": [
             [
              0,
              "#0d0887"
             ],
             [
              0.1111111111111111,
              "#46039f"
             ],
             [
              0.2222222222222222,
              "#7201a8"
             ],
             [
              0.3333333333333333,
              "#9c179e"
             ],
             [
              0.4444444444444444,
              "#bd3786"
             ],
             [
              0.5555555555555556,
              "#d8576b"
             ],
             [
              0.6666666666666666,
              "#ed7953"
             ],
             [
              0.7777777777777778,
              "#fb9f3a"
             ],
             [
              0.8888888888888888,
              "#fdca26"
             ],
             [
              1,
              "#f0f921"
             ]
            ],
            "type": "histogram2dcontour"
           }
          ],
          "mesh3d": [
           {
            "colorbar": {
             "outlinewidth": 0,
             "ticks": ""
            },
            "type": "mesh3d"
           }
          ],
          "parcoords": [
           {
            "line": {
             "colorbar": {
              "outlinewidth": 0,
              "ticks": ""
             }
            },
            "type": "parcoords"
           }
          ],
          "pie": [
           {
            "automargin": true,
            "type": "pie"
           }
          ],
          "scatter": [
           {
            "fillpattern": {
             "fillmode": "overlay",
             "size": 10,
             "solidity": 0.2
            },
            "type": "scatter"
           }
          ],
          "scatter3d": [
           {
            "line": {
             "colorbar": {
              "outlinewidth": 0,
              "ticks": ""
             }
            },
            "marker": {
             "colorbar": {
              "outlinewidth": 0,
              "ticks": ""
             }
            },
            "type": "scatter3d"
           }
          ],
          "scattercarpet": [
           {
            "marker": {
             "colorbar": {
              "outlinewidth": 0,
              "ticks": ""
             }
            },
            "type": "scattercarpet"
           }
          ],
          "scattergeo": [
           {
            "marker": {
             "colorbar": {
              "outlinewidth": 0,
              "ticks": ""
             }
            },
            "type": "scattergeo"
           }
          ],
          "scattergl": [
           {
            "marker": {
             "colorbar": {
              "outlinewidth": 0,
              "ticks": ""
             }
            },
            "type": "scattergl"
           }
          ],
          "scattermapbox": [
           {
            "marker": {
             "colorbar": {
              "outlinewidth": 0,
              "ticks": ""
             }
            },
            "type": "scattermapbox"
           }
          ],
          "scatterpolar": [
           {
            "marker": {
             "colorbar": {
              "outlinewidth": 0,
              "ticks": ""
             }
            },
            "type": "scatterpolar"
           }
          ],
          "scatterpolargl": [
           {
            "marker": {
             "colorbar": {
              "outlinewidth": 0,
              "ticks": ""
             }
            },
            "type": "scatterpolargl"
           }
          ],
          "scatterternary": [
           {
            "marker": {
             "colorbar": {
              "outlinewidth": 0,
              "ticks": ""
             }
            },
            "type": "scatterternary"
           }
          ],
          "surface": [
           {
            "colorbar": {
             "outlinewidth": 0,
             "ticks": ""
            },
            "colorscale": [
             [
              0,
              "#0d0887"
             ],
             [
              0.1111111111111111,
              "#46039f"
             ],
             [
              0.2222222222222222,
              "#7201a8"
             ],
             [
              0.3333333333333333,
              "#9c179e"
             ],
             [
              0.4444444444444444,
              "#bd3786"
             ],
             [
              0.5555555555555556,
              "#d8576b"
             ],
             [
              0.6666666666666666,
              "#ed7953"
             ],
             [
              0.7777777777777778,
              "#fb9f3a"
             ],
             [
              0.8888888888888888,
              "#fdca26"
             ],
             [
              1,
              "#f0f921"
             ]
            ],
            "type": "surface"
           }
          ],
          "table": [
           {
            "cells": {
             "fill": {
              "color": "#EBF0F8"
             },
             "line": {
              "color": "white"
             }
            },
            "header": {
             "fill": {
              "color": "#C8D4E3"
             },
             "line": {
              "color": "white"
             }
            },
            "type": "table"
           }
          ]
         },
         "layout": {
          "annotationdefaults": {
           "arrowcolor": "#2a3f5f",
           "arrowhead": 0,
           "arrowwidth": 1
          },
          "autotypenumbers": "strict",
          "coloraxis": {
           "colorbar": {
            "outlinewidth": 0,
            "ticks": ""
           }
          },
          "colorscale": {
           "diverging": [
            [
             0,
             "#8e0152"
            ],
            [
             0.1,
             "#c51b7d"
            ],
            [
             0.2,
             "#de77ae"
            ],
            [
             0.3,
             "#f1b6da"
            ],
            [
             0.4,
             "#fde0ef"
            ],
            [
             0.5,
             "#f7f7f7"
            ],
            [
             0.6,
             "#e6f5d0"
            ],
            [
             0.7,
             "#b8e186"
            ],
            [
             0.8,
             "#7fbc41"
            ],
            [
             0.9,
             "#4d9221"
            ],
            [
             1,
             "#276419"
            ]
           ],
           "sequential": [
            [
             0,
             "#0d0887"
            ],
            [
             0.1111111111111111,
             "#46039f"
            ],
            [
             0.2222222222222222,
             "#7201a8"
            ],
            [
             0.3333333333333333,
             "#9c179e"
            ],
            [
             0.4444444444444444,
             "#bd3786"
            ],
            [
             0.5555555555555556,
             "#d8576b"
            ],
            [
             0.6666666666666666,
             "#ed7953"
            ],
            [
             0.7777777777777778,
             "#fb9f3a"
            ],
            [
             0.8888888888888888,
             "#fdca26"
            ],
            [
             1,
             "#f0f921"
            ]
           ],
           "sequentialminus": [
            [
             0,
             "#0d0887"
            ],
            [
             0.1111111111111111,
             "#46039f"
            ],
            [
             0.2222222222222222,
             "#7201a8"
            ],
            [
             0.3333333333333333,
             "#9c179e"
            ],
            [
             0.4444444444444444,
             "#bd3786"
            ],
            [
             0.5555555555555556,
             "#d8576b"
            ],
            [
             0.6666666666666666,
             "#ed7953"
            ],
            [
             0.7777777777777778,
             "#fb9f3a"
            ],
            [
             0.8888888888888888,
             "#fdca26"
            ],
            [
             1,
             "#f0f921"
            ]
           ]
          },
          "colorway": [
           "#636efa",
           "#EF553B",
           "#00cc96",
           "#ab63fa",
           "#FFA15A",
           "#19d3f3",
           "#FF6692",
           "#B6E880",
           "#FF97FF",
           "#FECB52"
          ],
          "font": {
           "color": "#2a3f5f"
          },
          "geo": {
           "bgcolor": "white",
           "lakecolor": "white",
           "landcolor": "#E5ECF6",
           "showlakes": true,
           "showland": true,
           "subunitcolor": "white"
          },
          "hoverlabel": {
           "align": "left"
          },
          "hovermode": "closest",
          "mapbox": {
           "style": "light"
          },
          "paper_bgcolor": "white",
          "plot_bgcolor": "#E5ECF6",
          "polar": {
           "angularaxis": {
            "gridcolor": "white",
            "linecolor": "white",
            "ticks": ""
           },
           "bgcolor": "#E5ECF6",
           "radialaxis": {
            "gridcolor": "white",
            "linecolor": "white",
            "ticks": ""
           }
          },
          "scene": {
           "xaxis": {
            "backgroundcolor": "#E5ECF6",
            "gridcolor": "white",
            "gridwidth": 2,
            "linecolor": "white",
            "showbackground": true,
            "ticks": "",
            "zerolinecolor": "white"
           },
           "yaxis": {
            "backgroundcolor": "#E5ECF6",
            "gridcolor": "white",
            "gridwidth": 2,
            "linecolor": "white",
            "showbackground": true,
            "ticks": "",
            "zerolinecolor": "white"
           },
           "zaxis": {
            "backgroundcolor": "#E5ECF6",
            "gridcolor": "white",
            "gridwidth": 2,
            "linecolor": "white",
            "showbackground": true,
            "ticks": "",
            "zerolinecolor": "white"
           }
          },
          "shapedefaults": {
           "line": {
            "color": "#2a3f5f"
           }
          },
          "ternary": {
           "aaxis": {
            "gridcolor": "white",
            "linecolor": "white",
            "ticks": ""
           },
           "baxis": {
            "gridcolor": "white",
            "linecolor": "white",
            "ticks": ""
           },
           "bgcolor": "#E5ECF6",
           "caxis": {
            "gridcolor": "white",
            "linecolor": "white",
            "ticks": ""
           }
          },
          "title": {
           "x": 0.05
          },
          "xaxis": {
           "automargin": true,
           "gridcolor": "white",
           "linecolor": "white",
           "ticks": "",
           "title": {
            "standoff": 15
           },
           "zerolinecolor": "white",
           "zerolinewidth": 2
          },
          "yaxis": {
           "automargin": true,
           "gridcolor": "white",
           "linecolor": "white",
           "ticks": "",
           "title": {
            "standoff": 15
           },
           "zerolinecolor": "white",
           "zerolinewidth": 2
          }
         }
        },
        "xaxis": {
         "anchor": "y",
         "domain": [
          0,
          1
         ],
         "title": {
          "text": "x"
         }
        },
        "yaxis": {
         "anchor": "x",
         "domain": [
          0,
          1
         ],
         "title": {
          "text": "y"
         }
        }
       }
      },
      "text/html": [
       "<div>                            <div id=\"4e1af6c5-d630-46b0-93a9-64dc5d545158\" class=\"plotly-graph-div\" style=\"height:525px; width:100%;\"></div>            <script type=\"text/javascript\">                require([\"plotly\"], function(Plotly) {                    window.PLOTLYENV=window.PLOTLYENV || {};                                    if (document.getElementById(\"4e1af6c5-d630-46b0-93a9-64dc5d545158\")) {                    Plotly.newPlot(                        \"4e1af6c5-d630-46b0-93a9-64dc5d545158\",                        [{\"hovertemplate\":\"x=%{x}<br>y=%{y}<extra></extra>\",\"legendgroup\":\"\",\"marker\":{\"color\":\"#636efa\",\"symbol\":\"circle\"},\"mode\":\"markers\",\"name\":\"\",\"orientation\":\"v\",\"showlegend\":false,\"x\":[9095.06825,5272.1758,29330.98315,9301.89355,33750.2918,4536.259,2117.33885,14210.53595,3732.6251,10264.4421,18259.216,7256.7231,3947.4131,46151.1245,48673.5588,44202.6536,9800.8882,42969.8527,8233.0975,21774.32215,5080.096,7441.501,1256.299,2755.02095,11085.5868,10923.9332,12644.589,18804.7524,9715.841,1131.5066,15828.82173,11842.62375,2020.5523,5693.4305,2904.088,7448.40395,2597.779,7337.748,23887.6627,38709.176,4687.797,2643.2685,11674.13,12124.9924,4889.9995,12333.828,3579.8287,4391.652,42124.5153,4463.2051,13887.204,1719.4363,28476.73499,1708.92575,10594.2257,25333.33284,3645.0894,38746.3551,11848.141,10564.8845,13880.949,4753.6368,27941.28758,8017.06115,23045.56616,4133.64165,17942.106,25992.82104,3594.17085,1682.597,6079.6715,9411.005,8283.6807,6338.0756,7152.6714,4889.0368,4846.92015,11454.0215,4349.462,9101.798,1391.5287,28101.33305,5152.134,38511.6283,44501.3982,41097.16175,4837.5823,10601.63225,8310.83915,11264.541,15230.32405,27037.9141,23401.30575,5031.26955,38282.7495,6875.961,19719.6947,1880.07,18765.87545,6402.29135,4527.18295,1743.214,5709.1644,12363.547,13129.60345,1727.54,7731.4271,21195.818,1702.4553,23244.7902,23082.95533,2927.0647,13019.16105,37701.8768,9778.3472,1980.07,30259.99556,22478.6,6313.759,2789.0574,5594.8455,7261.741,11396.9002,1986.9334,4719.73655,7749.1564,7345.7266,9288.0267,12244.531,1837.2819,3972.9247,5934.3798,5836.5204,7935.29115,5649.715,12347.172,12404.8791,22144.032,42983.4585,37270.1512,5267.81815,9866.30485,2322.6218,33471.97189,2137.6536,23306.547,5261.46945,3761.292,11436.73815,4751.07,46661.4424,2690.1138,1146.7966,37607.5277,6373.55735,4518.82625,13555.0049,8547.6913,34439.8559,39125.33225,13607.36875,2710.82855,14988.432,2396.0959,3591.48,7162.0122,48824.45,43578.9394,39556.4945,2632.992,9182.17,6238.298,5757.41345,4239.89265,2154.361,21978.6769,16297.846,13831.1152,32734.1863,11830.6072,29523.1656,3167.45585,8428.0693,5012.471,5209.57885,2855.43755,20277.80751,3554.203,8569.8618,10594.50155,3597.596,7323.734819,2731.9122,38711.0,12981.3457,9283.562,2709.1119,12096.6512,2198.18985,8932.084,3176.2877,24393.6224,4266.1658,22493.65964,17085.2676,16577.7795,8827.2099,4296.2712,7804.1605,3208.787,12957.118,22192.43711,9432.9253,17043.3414,6593.5083,4137.5227,4779.6023,14001.2867,12629.8967,5245.2269,2404.7338,6948.7008,6435.6237,42560.4304,2055.3249,34672.1472,1731.677,1639.5631,9377.9047,10977.2063,1534.3045,9644.2525,4529.477,37829.7242,9991.03765,8125.7845,3877.30425,5979.731,43896.3763,1674.6323,13204.28565,44585.45587,3021.80915,3392.9768,1632.03625,2699.56835,20177.67113,4076.497,12592.5345,1621.3402,1875.344,7196.867,3161.454,12029.2867,2719.27975,18218.16139,12146.971,3292.52985,8688.85885,6113.23105,8059.6791,13415.0381,18246.4955,47055.5321,12222.8983,6067.12675,63770.42801,9872.701,9193.8385,8534.6718,27117.99378,8596.8278,12475.3513,13405.3903,2150.469,13747.87235,6610.1097,39047.285,27375.90478,9048.0273,8988.15875,14901.5167,10096.97,8835.26495,38415.474,2721.3208,9877.6077,47269.854,4237.12655,2534.39375,2205.9808,10965.446,15006.57945,10736.87075,9788.8659,10422.91665,9304.7019,3378.91,2155.6815,38126.2465,35491.64,6356.2707,24059.68019,16450.8947,12925.886,36950.2567,2459.7201,46889.2612,5124.1887,14133.03775,6414.178,1720.3537,15817.9857,13462.52,2103.08,12105.32,20781.48892,12235.8392,41949.2441,12643.3778,21223.6758,7954.517,15170.069,3659.346,8232.6388,8027.968,13919.8229,10791.96,17878.90068,10601.412,13217.0945,11944.59435,14358.36437,32548.3405,5699.8375,2352.96845,4340.4409,9391.346,42211.1382,8823.279,14256.1928,7133.9025,5312.16985,3906.127,2203.47185,28340.18885,5484.4673,1622.1885,11299.343,8026.6666,11737.84884,2913.569,9861.025,2473.3341,39983.42595,36307.7983,44400.4064,3172.018,7742.1098,6185.3208,1880.487,21771.3423,6858.4796,17179.522,42760.5022,5478.0368,12638.195,5989.52365,9566.9909,10370.91255,19594.80965,11576.13,6360.9936,4032.2407,2585.269,11658.37915,21082.16,10807.4863,9724.53,3201.24515,3309.7926,5969.723,8269.044,9414.92,23967.38305,47928.03,11842.442,7421.19455,12950.0712,11033.6617,6082.405,3989.841,7537.1639,3484.331,8116.68,17626.23951,11837.16,9541.69555,4399.731,2200.83085,11363.2832,1964.78],\"xaxis\":\"x\",\"y\":[8504.259527860882,6897.839410865869,36805.01178273956,9525.016401805518,26834.157835543818,11236.538278429176,-56.51533812760135,16996.53931939343,558.8690155120312,11292.496381147928,28504.837818077453,9398.418044416841,5353.299158790818,38679.2375391727,40572.74207293856,37372.207871538354,15387.386205628685,36033.31348367787,9292.403711426832,31304.888831478558,4274.201000865589,10592.294877060816,2708.687302051956,6493.028109069724,11227.7400333562,12498.970757641677,14877.168064987596,5963.858916380301,9503.120178650894,2360.1028267234797,9434.179132442692,12999.67895741987,4585.98098388264,3265.968372758849,4840.896513989574,12653.623491367965,2194.5926521324072,9123.389701297685,33175.85413453441,32812.24167495813,4132.8827776456565,4243.2913898226325,14495.05758701573,11538.308657687048,9023.275842853483,12650.54437941574,5036.971935950121,3406.5356157316855,35766.66254330316,9379.527635202561,16062.933108714333,2535.594153563896,12177.976509164851,1021.6584333154988,13742.8249292677,12262.322306782957,3942.9007726123345,32097.024771079567,13686.624842289842,12427.075907849594,14562.808632914606,10557.763325454867,16905.62875201872,7655.189088702529,11373.432928895247,3872.9541067201026,27013.190853245316,11314.831553643322,1947.1276549321647,6528.0042032937745,10334.018926796387,11141.367231270502,11144.191703785797,9457.978551552198,12242.177231725058,6864.503311403652,6828.903887213535,10679.264198901306,6660.328826425157,9111.453342736997,3947.345633021607,36354.50315789173,6641.216110541096,30192.972414721095,34939.307127317305,34921.71765958285,7276.274327852185,12929.201866441308,9817.257374775567,14977.02431551609,17263.76406273336,35506.57070868624,32531.35623517206,5797.563747987431,32209.858371820177,9935.129245758522,29674.425771770315,3700.685307212483,28119.832679500134,5315.106059789843,5220.17699689027,2071.9946125349034,11757.66027701419,15596.07566838515,11460.413295847477,4479.088752211101,10217.4859940592,32065.480643515875,-530.1369966506663,33021.063507983425,3608.761987531794,10351.35375509391,13883.784633780699,31058.345181560202,10988.211076925476,4269.515797495773,12845.305992554244,32107.575632872424,8284.13018879683,3175.091638006921,7882.953482741501,10601.851235002847,14739.665778933533,5838.3914163225345,3608.4089206592635,10085.168503549776,11036.881810428898,10808.169329618231,14648.5935477231,7593.3148170599015,5486.833459820853,9502.570146696704,9447.115588131543,12010.263581958465,8610.314826095622,15850.809927788494,7990.569955170333,32218.04891058369,35588.799848321665,31031.866205171595,5852.752692725389,12124.939735819902,6215.533812142214,14454.642128531585,2726.688767472966,33448.99343673214,6258.046392462649,5281.594212179909,14244.879270635083,7364.772561841084,38545.80879820021,2859.6155036364744,6027.073767567264,31241.222446494474,11369.131625309474,8062.464804962416,14540.891122104571,9994.350841054798,27094.20622156038,33051.48372990625,14125.948159545547,1452.4199672014638,13758.890865966681,1792.8335106342802,5819.597934688227,11857.177615703604,40148.400322851536,36396.75571766231,33624.08677947652,4110.163705366216,7827.948847907381,8942.485820408452,12032.238625680842,4795.337154484056,2257.676672395155,32429.654321601018,25427.374438238287,17854.943880545496,26247.97836192955,10117.773158911281,36828.1248164148,-1000.6724813210167,6864.064291341423,8032.965930321476,3995.779904821793,4863.337317263984,5506.618406105736,4552.978202982165,15311.458705278284,11219.059964029617,7286.386311025741,1898.4246593830612,950.9015734762797,32301.564978108414,16781.077005965497,12186.611519825005,1040.7191388430929,12096.557563476421,948.3458247099006,9091.132448809913,1681.851095492084,33957.082052048325,11061.111617123053,2527.9591693104394,25698.122694705613,26402.59324033282,9497.806052037675,1614.0535617926107,13554.36488469275,1375.413549155157,10970.594869701214,10816.64124730849,16398.470116462,27047.397718767104,7263.018637913574,4629.651231745265,5960.905112796419,13488.260895456202,11353.542351831344,8464.890654305495,4869.3378293114765,12296.704991173934,14096.72912448673,36031.20772936399,4064.4664530359987,29111.346747374926,-694.9016428290415,2772.0258910301673,11398.662761996093,15848.37798753483,5382.686950818334,6836.167556139302,4122.00708832571,31746.565339141656,7193.0860563333335,12716.18421916633,5564.766676983443,9966.067166868386,36402.70981263067,4617.8457041087895,9288.37099014705,31511.05494895726,5505.279467859964,4677.576436835989,966.8761051511592,4763.746680562697,4826.8433560032645,6912.401706283101,18826.435182019468,-1598.3367484663777,2567.2579254971315,11138.817005059991,3395.7710797466298,9801.080214020225,3479.2548145042074,5185.729717686467,12946.981095914001,6146.004807935336,7937.454361257638,7043.170677776263,8798.649633023691,10468.691147057816,28006.03281425414,39414.979324471504,11709.794144180421,7325.435950331372,41028.1400300923,12652.1269119867,7024.3589476868,7878.698525513402,9368.26654624294,11277.920001418708,10058.531886025681,17923.060648494724,1324.2658874531007,23120.294119504615,12251.289117770451,32740.79129706268,4841.484401266778,13483.6135474094,10271.008133824049,17334.927539146196,10407.709841908698,11429.633015873103,32644.371177337714,2886.7020448916046,13828.891223002931,39635.17339979131,5103.473838561236,6021.962199313042,2816.83419956712,11894.56045003613,25001.76386727419,13774.623554825386,9649.091343194963,9753.716156716899,13800.561061015916,1303.9631712597093,2574.369617286209,30887.271904917783,30389.45277246771,13821.673971156299,3499.7332788453186,25302.840869918757,13816.117860283975,30918.607810123678,2897.2853101730725,39273.5231377054,11412.029605269592,4937.010125364071,7159.069164714179,2755.6124100145225,25808.739387797454,14767.603408658917,964.4637717653532,13168.789965850454,13004.208090231292,14813.385004112748,35263.843066655216,14267.18211036333,31929.358260952315,10364.001738723058,18662.88566557415,6355.244373367455,9182.394583201516,9816.008231487813,15646.968761371743,9602.735944775908,7785.468671075556,15466.30127146428,12360.292555590273,14411.65819538177,7869.592232745341,26277.444974524806,9520.808003099482,1769.7204769590444,4496.815971327327,14622.263579992403,35986.61613421949,10007.93984955515,12702.65428292294,4929.0740138730835,4863.989870075486,4376.589299870899,2215.1176042741154,8895.481891878142,7407.109394013802,2626.8184326324863,13520.073676047348,8756.88251039448,6368.277756636278,1102.8677275119735,9851.894557160536,5078.355158795279,32913.0081569353,28655.753435205617,37125.48288019494,5929.314638875061,8952.348686700952,8540.753489121602,3800.69360559913,31198.690117863247,6749.388137479986,28726.12482468369,36028.318591314404,7296.682604103131,13343.70748972565,9676.912438472518,8264.65175086241,12275.461320830804,29782.128126667376,17527.171258841336,11715.669489302498,3931.7099424643384,-805.6562994670512,11724.350917041786,31297.782662245358,13326.378254705458,11717.244747808578,7667.347753933005,3192.2041596346626,7565.868005588818,7633.900430414429,11073.505032036737,33704.45906951473,39542.38235325129,12319.844764338977,8201.391982451947,16369.153941658813,15506.460732098796,9982.799882133786,9543.836764372569,8781.537111395948,3172.9015405694317,10532.66970439117,4158.866700915318,11053.07298477476,15473.328690851205,6927.8150901705885,1581.731714492009,14816.691803847694,602.5448566519899],\"yaxis\":\"y\",\"type\":\"scatter\"},{\"hovertemplate\":\"<b>OLS trendline</b><br>y = 0.761046 * x + 3312.96<br>R<sup>2</sup>=0.768439<br><br>x=%{x}<br>y=%{y} <b>(trend)</b><extra></extra>\",\"legendgroup\":\"\",\"marker\":{\"color\":\"#636efa\",\"symbol\":\"circle\"},\"mode\":\"lines\",\"name\":\"\",\"showlegend\":false,\"x\":[1131.5066,1146.7966,1256.299,1391.5287,1534.3045,1621.3402,1622.1885,1632.03625,1639.5631,1674.6323,1682.597,1702.4553,1708.92575,1719.4363,1720.3537,1727.54,1731.677,1743.214,1837.2819,1875.344,1880.07,1880.487,1964.78,1980.07,1986.9334,2020.5523,2055.3249,2103.08,2117.33885,2137.6536,2150.469,2154.361,2155.6815,2198.18985,2200.83085,2203.47185,2205.9808,2322.6218,2352.96845,2396.0959,2404.7338,2459.7201,2473.3341,2534.39375,2585.269,2597.779,2632.992,2643.2685,2690.1138,2699.56835,2709.1119,2710.82855,2719.27975,2721.3208,2731.9122,2755.02095,2789.0574,2855.43755,2904.088,2913.569,2927.0647,3021.80915,3161.454,3167.45585,3172.018,3176.2877,3201.24515,3208.787,3292.52985,3309.7926,3378.91,3392.9768,3484.331,3554.203,3579.8287,3591.48,3594.17085,3597.596,3645.0894,3659.346,3732.6251,3761.292,3877.30425,3906.127,3947.4131,3972.9247,3989.841,4032.2407,4076.497,4133.64165,4137.5227,4237.12655,4239.89265,4266.1658,4296.2712,4340.4409,4349.462,4391.652,4399.731,4463.2051,4518.82625,4527.18295,4529.477,4536.259,4687.797,4719.73655,4751.07,4753.6368,4779.6023,4837.5823,4846.92015,4889.0368,4889.9995,5012.471,5031.26955,5080.096,5124.1887,5152.134,5209.57885,5245.2269,5261.46945,5267.81815,5272.1758,5312.16985,5478.0368,5484.4673,5594.8455,5649.715,5693.4305,5699.8375,5709.1644,5757.41345,5836.5204,5934.3798,5969.723,5979.731,5989.52365,6067.12675,6079.6715,6082.405,6113.23105,6185.3208,6238.298,6313.759,6338.0756,6356.2707,6360.9936,6373.55735,6402.29135,6414.178,6435.6237,6593.5083,6610.1097,6858.4796,6875.961,6948.7008,7133.9025,7152.6714,7162.0122,7196.867,7256.7231,7261.741,7323.734819,7337.748,7345.7266,7421.19455,7441.501,7448.40395,7537.1639,7731.4271,7742.1098,7749.1564,7804.1605,7935.29115,7954.517,8017.06115,8026.6666,8027.968,8059.6791,8116.68,8125.7845,8232.6388,8233.0975,8269.044,8283.6807,8310.83915,8428.0693,8534.6718,8547.6913,8569.8618,8596.8278,8688.85885,8823.279,8827.2099,8835.26495,8932.084,8988.15875,9048.0273,9095.06825,9101.798,9182.17,9193.8385,9283.562,9288.0267,9301.89355,9304.7019,9377.9047,9391.346,9411.005,9414.92,9432.9253,9541.69555,9566.9909,9644.2525,9715.841,9724.53,9778.3472,9788.8659,9800.8882,9861.025,9866.30485,9872.701,9877.6077,9991.03765,10096.97,10264.4421,10370.91255,10422.91665,10564.8845,10594.2257,10594.50155,10601.412,10601.63225,10736.87075,10791.96,10807.4863,10923.9332,10965.446,10977.2063,11033.6617,11085.5868,11264.541,11299.343,11363.2832,11396.9002,11436.73815,11454.0215,11576.13,11658.37915,11674.13,11737.84884,11830.6072,11837.16,11842.442,11842.62375,11848.141,11944.59435,12029.2867,12096.6512,12105.32,12124.9924,12146.971,12222.8983,12235.8392,12244.531,12333.828,12347.172,12363.547,12404.8791,12475.3513,12592.5345,12629.8967,12638.195,12643.3778,12644.589,12925.886,12950.0712,12957.118,12981.3457,13019.16105,13129.60345,13204.28565,13217.0945,13405.3903,13415.0381,13462.52,13555.0049,13607.36875,13747.87235,13831.1152,13880.949,13887.204,13919.8229,14001.2867,14133.03775,14210.53595,14256.1928,14358.36437,14901.5167,14988.432,15006.57945,15170.069,15230.32405,15817.9857,15828.82173,16297.846,16450.8947,16577.7795,17043.3414,17085.2676,17179.522,17626.23951,17878.90068,17942.106,18218.16139,18246.4955,18259.216,18765.87545,18804.7524,19594.80965,19719.6947,20177.67113,20277.80751,20781.48892,21082.16,21195.818,21223.6758,21771.3423,21774.32215,21978.6769,22144.032,22192.43711,22478.6,22493.65964,23045.56616,23082.95533,23244.7902,23306.547,23401.30575,23887.6627,23967.38305,24059.68019,24393.6224,25333.33284,25992.82104,27037.9141,27117.99378,27375.90478,27941.28758,28101.33305,28340.18885,28476.73499,29330.98315,29523.1656,30259.99556,32548.3405,32734.1863,33471.97189,33750.2918,34439.8559,34672.1472,35491.64,36307.7983,36950.2567,37270.1512,37607.5277,37701.8768,37829.7242,38126.2465,38282.7495,38415.474,38511.6283,38709.176,38711.0,38746.3551,39047.285,39125.33225,39556.4945,39983.42595,41097.16175,41949.2441,42124.5153,42211.1382,42560.4304,42760.5022,42969.8527,42983.4585,43578.9394,43896.3763,44202.6536,44400.4064,44501.3982,44585.45587,46151.1245,46661.4424,46889.2612,47055.5321,47269.854,47928.03,48673.5588,48824.45,63770.42801],\"xaxis\":\"x\",\"y\":[4174.090632034434,4185.727027697691,4269.063407846556,4371.979450660387,4480.6384238414175,4546.876608408355,4547.522203859051,4555.016796101879,4560.745076330655,4587.434356042484,4593.49586032889,4608.608943128082,4613.533254201941,4621.532267834278,4622.230451574074,4627.699557535804,4630.848005466405,4639.628194921408,4711.218208238062,4740.185222978051,4743.781927092148,4744.099283337509,4808.250146623505,4819.886542286761,4825.109906446029,4850.6954409236905,4877.1589943468525,4913.502829437655,4924.354472361332,4939.81493467658,4949.568045532231,4952.530037155605,4953.53499859925,4985.885814792329,4987.895737679619,4989.905660566908,4991.815087309834,5080.584271518983,5103.6794727259385,5136.501452591689,5143.075293147584,5184.9224051723395,5195.283287484934,5241.7524991566115,5280.470912398409,5289.991599759255,5316.790317907735,5324.611208688209,5360.262643989971,5367.457992885853,5374.721074889259,5376.027524765997,5382.459278005324,5384.012611253755,5392.073155467477,5409.659980731261,5435.563290029669,5486.081647752776,5523.106885515724,5530.322364082325,5540.593214635144,5612.698113725897,5718.974289457492,5723.5419743045495,5727.013981006651,5730.263419761615,5749.257191046503,5754.996886967558,5818.72906071306,5831.866810172569,5884.468341475091,5895.173825485286,5964.698587859404,6017.874404588184,6037.37674496411,6046.24392199428,6048.291783032244,6050.898480259582,6087.043149572421,6097.893080142256,6153.661857215332,6175.478691148557,6263.76936758967,6285.704810565675,6317.125438099538,6336.540943109527,6349.415028129693,6381.683156658364,6415.364243472737,6458.853959459546,6461.807617627557,6537.610744389076,6539.715874149974,6559.710953856978,6582.622552679777,6616.237732897393,6623.103206338714,6655.211743489321,6661.360235350894,6709.666954904138,6751.997217078457,6758.357051456425,6760.102929381297,6765.264344383795,6880.591756157408,6904.899227779799,6928.745429329496,6930.698882592312,6950.4598264506685,6994.585282340506,7001.691817150456,7033.744531565818,7034.477190696296,7127.683654494367,7141.990218634035,7179.149400519725,7212.70598018364,7233.97364321362,7277.691825255243,7304.821636532126,7317.182966707419,7322.014620412279,7325.330993176307,7355.768311029549,7482.00071506209,7486.89462234218,7570.897526710921,7612.655748545129,7645.925261600531,7650.801284296049,7657.899485650635,7694.619239488192,7754.823279377888,7829.298799179644,7856.196605537108,7863.813155425784,7871.26581402564,7930.325354659731,7939.872488374357,7941.952808030701,7965.412854762901,8020.27648159516,8060.59457579604,8118.023879468047,8136.5299343264605,8150.377245165736,8153.971590036762,8163.533183628275,8185.4010837582955,8194.447373000326,8210.768540461118,8330.926007742672,8343.56043932959,8532.581395983836,8545.885548184468,8601.243893067798,8742.190934186681,8756.474933307942,8763.58371320404,8790.109824620893,8835.663079196396,8839.481932682247,8886.662090076643,8897.326767553215,8903.398850381134,8960.833443323896,8976.287588956084,8981.54105249066,9049.09147088509,9196.934731709833,9205.064759437228,9210.427547251533,9252.288205897792,9352.084682482488,9366.71644164288,9414.315426327123,9421.625617087333,9422.616042549476,9446.749653178456,9490.129968780922,9497.058913471315,9578.379967305213,9578.729059175112,9606.086004676043,9617.225208888232,9637.894042753553,9727.111597303121,9808.241019715959,9818.149460091223,9835.022233802945,9855.544604336323,9925.584480798385,10027.884418699909,10030.876015018592,10037.006279824825,10110.690045262407,10153.365517971248,10198.92824757134,10234.728581552732,10239.850231893794,10301.017033218006,10309.89730024199,10378.181024656129,10381.578867410724,10392.132180242837,10394.269464203655,10449.980173455337,10460.209623097491,10475.1710293986,10478.15052508347,10491.853389363107,10574.632569571824,10593.883498351455,10652.683141724658,10707.165294173252,10713.778024187512,10754.735397156026,10762.740613314503,10771.890138467044,10817.657018697399,10821.675228222754,10826.54299356752,10830.277218721276,10916.60264568422,10997.22205301833,11124.676050281669,11205.70497655014,11245.282496740561,11353.326582683128,11375.656590036611,11375.866524617624,11381.12569599834,11381.293316413306,11484.216056433273,11526.141518159373,11537.957749028334,11626.57921417939,11658.172370875898,11667.122501936632,11710.087666863212,11749.605064407628,11885.797469692228,11912.28339787226,11960.944841036922,11986.528929526896,12016.84744807582,12030.000875086058,12122.931079130973,12185.526478239313,12197.513602021692,12246.006580010166,12316.599972949,12321.586956173469,12325.606801948048,12325.745122086166,12329.94400396799,12403.349454827803,12467.80424189458,12519.071735397356,12525.669092279346,12540.64069659889,12557.367425554054,12615.151605046714,12625.000227194432,12631.615088137918,12699.574226368251,12709.729626219822,12722.191756957942,12753.647392614792,12807.279989243973,12896.461812676705,12924.896171214947,12931.211560497642,12935.155910493948,12936.077689593185,13150.157688997177,13168.563742391223,13173.92668241476,13192.365080270265,13221.144306872262,13305.196070403956,13362.032671332825,13371.780797336181,13515.0825913538,13522.425012418546,13558.560929700638,13628.94620695876,13668.797513502344,13775.727237616924,13839.078888286454,13877.004710013305,13881.765053693729,13906.589542019443,13968.587253532354,14068.855883149718,14127.835590042469,14162.58256004495,14240.339840231743,14653.703830898823,14719.850385509068,14733.6614324992,14858.084525410104,14903.941399347928,15351.179036726742,15359.425755660614,15716.37487151346,15832.851995708817,15929.417184489273,16283.731276977003,16315.639050152728,16387.37099857672,16727.343640569175,16919.630451743884,16967.73261731241,17177.8235095959,17199.387074980215,17209.067962556048,17594.65918732569,17624.246340522594,18225.51637045224,18320.559657190337,18669.100856923866,18745.30926359268,19128.634062479985,19357.458630915473,19443.957614453364,19465.15868594505,19881.95816831986,19884.225971695734,20039.749367815148,20165.592230374816,20202.430753074845,20420.21391933913,20431.675000410825,20851.701333690806,20880.156217643766,21003.32002270797,21050.319797704473,21122.4355797552,21492.57566502496,21553.24653062426,21623.48891385689,21877.63434774978,22592.797362055386,23094.69831891927,23890.06237065788,23951.006702970957,24147.288877065534,24577.571281382065,24699.373270461976,24881.15355792199,24985.07147233209,25635.193747307152,25781.453461351233,26342.215067047855,28083.75117796026,28225.18840890561,28786.67729313642,28998.491589651912,29523.281694477115,29700.066094472677,30323.73793646024,30944.872070054138,31433.812563159605,31677.26704141334,31934.026128495392,32005.83014798997,32103.12791979629,32328.79507517751,32447.901081095533,32548.91055108951,32622.088411097582,32772.43132800839,32773.81947618954,32800.72633899621,33029.74788139675,33089.145440679225,33417.27981190616,33742.19434907344,34589.79869394809,35238.27268755681,35371.66215986379,35437.5861845792,35703.413669294,35855.67754279694,36015.00293522994,36025.35757696409,36478.54602446651,36720.13015569722,36953.22131629066,37103.720323767244,37180.57974453535,37244.55151083041,38436.09759691468,38824.473070978915,38997.85369205991,39124.393520685524,39287.502377958306,39788.4046900616,40355.78651446662,40470.62168158915,51845.20073317119],\"yaxis\":\"y\",\"type\":\"scatter\"}],                        {\"template\":{\"data\":{\"histogram2dcontour\":[{\"type\":\"histogram2dcontour\",\"colorbar\":{\"outlinewidth\":0,\"ticks\":\"\"},\"colorscale\":[[0.0,\"#0d0887\"],[0.1111111111111111,\"#46039f\"],[0.2222222222222222,\"#7201a8\"],[0.3333333333333333,\"#9c179e\"],[0.4444444444444444,\"#bd3786\"],[0.5555555555555556,\"#d8576b\"],[0.6666666666666666,\"#ed7953\"],[0.7777777777777778,\"#fb9f3a\"],[0.8888888888888888,\"#fdca26\"],[1.0,\"#f0f921\"]]}],\"choropleth\":[{\"type\":\"choropleth\",\"colorbar\":{\"outlinewidth\":0,\"ticks\":\"\"}}],\"histogram2d\":[{\"type\":\"histogram2d\",\"colorbar\":{\"outlinewidth\":0,\"ticks\":\"\"},\"colorscale\":[[0.0,\"#0d0887\"],[0.1111111111111111,\"#46039f\"],[0.2222222222222222,\"#7201a8\"],[0.3333333333333333,\"#9c179e\"],[0.4444444444444444,\"#bd3786\"],[0.5555555555555556,\"#d8576b\"],[0.6666666666666666,\"#ed7953\"],[0.7777777777777778,\"#fb9f3a\"],[0.8888888888888888,\"#fdca26\"],[1.0,\"#f0f921\"]]}],\"heatmap\":[{\"type\":\"heatmap\",\"colorbar\":{\"outlinewidth\":0,\"ticks\":\"\"},\"colorscale\":[[0.0,\"#0d0887\"],[0.1111111111111111,\"#46039f\"],[0.2222222222222222,\"#7201a8\"],[0.3333333333333333,\"#9c179e\"],[0.4444444444444444,\"#bd3786\"],[0.5555555555555556,\"#d8576b\"],[0.6666666666666666,\"#ed7953\"],[0.7777777777777778,\"#fb9f3a\"],[0.8888888888888888,\"#fdca26\"],[1.0,\"#f0f921\"]]}],\"heatmapgl\":[{\"type\":\"heatmapgl\",\"colorbar\":{\"outlinewidth\":0,\"ticks\":\"\"},\"colorscale\":[[0.0,\"#0d0887\"],[0.1111111111111111,\"#46039f\"],[0.2222222222222222,\"#7201a8\"],[0.3333333333333333,\"#9c179e\"],[0.4444444444444444,\"#bd3786\"],[0.5555555555555556,\"#d8576b\"],[0.6666666666666666,\"#ed7953\"],[0.7777777777777778,\"#fb9f3a\"],[0.8888888888888888,\"#fdca26\"],[1.0,\"#f0f921\"]]}],\"contourcarpet\":[{\"type\":\"contourcarpet\",\"colorbar\":{\"outlinewidth\":0,\"ticks\":\"\"}}],\"contour\":[{\"type\":\"contour\",\"colorbar\":{\"outlinewidth\":0,\"ticks\":\"\"},\"colorscale\":[[0.0,\"#0d0887\"],[0.1111111111111111,\"#46039f\"],[0.2222222222222222,\"#7201a8\"],[0.3333333333333333,\"#9c179e\"],[0.4444444444444444,\"#bd3786\"],[0.5555555555555556,\"#d8576b\"],[0.6666666666666666,\"#ed7953\"],[0.7777777777777778,\"#fb9f3a\"],[0.8888888888888888,\"#fdca26\"],[1.0,\"#f0f921\"]]}],\"surface\":[{\"type\":\"surface\",\"colorbar\":{\"outlinewidth\":0,\"ticks\":\"\"},\"colorscale\":[[0.0,\"#0d0887\"],[0.1111111111111111,\"#46039f\"],[0.2222222222222222,\"#7201a8\"],[0.3333333333333333,\"#9c179e\"],[0.4444444444444444,\"#bd3786\"],[0.5555555555555556,\"#d8576b\"],[0.6666666666666666,\"#ed7953\"],[0.7777777777777778,\"#fb9f3a\"],[0.8888888888888888,\"#fdca26\"],[1.0,\"#f0f921\"]]}],\"mesh3d\":[{\"type\":\"mesh3d\",\"colorbar\":{\"outlinewidth\":0,\"ticks\":\"\"}}],\"scatter\":[{\"fillpattern\":{\"fillmode\":\"overlay\",\"size\":10,\"solidity\":0.2},\"type\":\"scatter\"}],\"parcoords\":[{\"type\":\"parcoords\",\"line\":{\"colorbar\":{\"outlinewidth\":0,\"ticks\":\"\"}}}],\"scatterpolargl\":[{\"type\":\"scatterpolargl\",\"marker\":{\"colorbar\":{\"outlinewidth\":0,\"ticks\":\"\"}}}],\"bar\":[{\"error_x\":{\"color\":\"#2a3f5f\"},\"error_y\":{\"color\":\"#2a3f5f\"},\"marker\":{\"line\":{\"color\":\"#E5ECF6\",\"width\":0.5},\"pattern\":{\"fillmode\":\"overlay\",\"size\":10,\"solidity\":0.2}},\"type\":\"bar\"}],\"scattergeo\":[{\"type\":\"scattergeo\",\"marker\":{\"colorbar\":{\"outlinewidth\":0,\"ticks\":\"\"}}}],\"scatterpolar\":[{\"type\":\"scatterpolar\",\"marker\":{\"colorbar\":{\"outlinewidth\":0,\"ticks\":\"\"}}}],\"histogram\":[{\"marker\":{\"pattern\":{\"fillmode\":\"overlay\",\"size\":10,\"solidity\":0.2}},\"type\":\"histogram\"}],\"scattergl\":[{\"type\":\"scattergl\",\"marker\":{\"colorbar\":{\"outlinewidth\":0,\"ticks\":\"\"}}}],\"scatter3d\":[{\"type\":\"scatter3d\",\"line\":{\"colorbar\":{\"outlinewidth\":0,\"ticks\":\"\"}},\"marker\":{\"colorbar\":{\"outlinewidth\":0,\"ticks\":\"\"}}}],\"scattermapbox\":[{\"type\":\"scattermapbox\",\"marker\":{\"colorbar\":{\"outlinewidth\":0,\"ticks\":\"\"}}}],\"scatterternary\":[{\"type\":\"scatterternary\",\"marker\":{\"colorbar\":{\"outlinewidth\":0,\"ticks\":\"\"}}}],\"scattercarpet\":[{\"type\":\"scattercarpet\",\"marker\":{\"colorbar\":{\"outlinewidth\":0,\"ticks\":\"\"}}}],\"carpet\":[{\"aaxis\":{\"endlinecolor\":\"#2a3f5f\",\"gridcolor\":\"white\",\"linecolor\":\"white\",\"minorgridcolor\":\"white\",\"startlinecolor\":\"#2a3f5f\"},\"baxis\":{\"endlinecolor\":\"#2a3f5f\",\"gridcolor\":\"white\",\"linecolor\":\"white\",\"minorgridcolor\":\"white\",\"startlinecolor\":\"#2a3f5f\"},\"type\":\"carpet\"}],\"table\":[{\"cells\":{\"fill\":{\"color\":\"#EBF0F8\"},\"line\":{\"color\":\"white\"}},\"header\":{\"fill\":{\"color\":\"#C8D4E3\"},\"line\":{\"color\":\"white\"}},\"type\":\"table\"}],\"barpolar\":[{\"marker\":{\"line\":{\"color\":\"#E5ECF6\",\"width\":0.5},\"pattern\":{\"fillmode\":\"overlay\",\"size\":10,\"solidity\":0.2}},\"type\":\"barpolar\"}],\"pie\":[{\"automargin\":true,\"type\":\"pie\"}]},\"layout\":{\"autotypenumbers\":\"strict\",\"colorway\":[\"#636efa\",\"#EF553B\",\"#00cc96\",\"#ab63fa\",\"#FFA15A\",\"#19d3f3\",\"#FF6692\",\"#B6E880\",\"#FF97FF\",\"#FECB52\"],\"font\":{\"color\":\"#2a3f5f\"},\"hovermode\":\"closest\",\"hoverlabel\":{\"align\":\"left\"},\"paper_bgcolor\":\"white\",\"plot_bgcolor\":\"#E5ECF6\",\"polar\":{\"bgcolor\":\"#E5ECF6\",\"angularaxis\":{\"gridcolor\":\"white\",\"linecolor\":\"white\",\"ticks\":\"\"},\"radialaxis\":{\"gridcolor\":\"white\",\"linecolor\":\"white\",\"ticks\":\"\"}},\"ternary\":{\"bgcolor\":\"#E5ECF6\",\"aaxis\":{\"gridcolor\":\"white\",\"linecolor\":\"white\",\"ticks\":\"\"},\"baxis\":{\"gridcolor\":\"white\",\"linecolor\":\"white\",\"ticks\":\"\"},\"caxis\":{\"gridcolor\":\"white\",\"linecolor\":\"white\",\"ticks\":\"\"}},\"coloraxis\":{\"colorbar\":{\"outlinewidth\":0,\"ticks\":\"\"}},\"colorscale\":{\"sequential\":[[0.0,\"#0d0887\"],[0.1111111111111111,\"#46039f\"],[0.2222222222222222,\"#7201a8\"],[0.3333333333333333,\"#9c179e\"],[0.4444444444444444,\"#bd3786\"],[0.5555555555555556,\"#d8576b\"],[0.6666666666666666,\"#ed7953\"],[0.7777777777777778,\"#fb9f3a\"],[0.8888888888888888,\"#fdca26\"],[1.0,\"#f0f921\"]],\"sequentialminus\":[[0.0,\"#0d0887\"],[0.1111111111111111,\"#46039f\"],[0.2222222222222222,\"#7201a8\"],[0.3333333333333333,\"#9c179e\"],[0.4444444444444444,\"#bd3786\"],[0.5555555555555556,\"#d8576b\"],[0.6666666666666666,\"#ed7953\"],[0.7777777777777778,\"#fb9f3a\"],[0.8888888888888888,\"#fdca26\"],[1.0,\"#f0f921\"]],\"diverging\":[[0,\"#8e0152\"],[0.1,\"#c51b7d\"],[0.2,\"#de77ae\"],[0.3,\"#f1b6da\"],[0.4,\"#fde0ef\"],[0.5,\"#f7f7f7\"],[0.6,\"#e6f5d0\"],[0.7,\"#b8e186\"],[0.8,\"#7fbc41\"],[0.9,\"#4d9221\"],[1,\"#276419\"]]},\"xaxis\":{\"gridcolor\":\"white\",\"linecolor\":\"white\",\"ticks\":\"\",\"title\":{\"standoff\":15},\"zerolinecolor\":\"white\",\"automargin\":true,\"zerolinewidth\":2},\"yaxis\":{\"gridcolor\":\"white\",\"linecolor\":\"white\",\"ticks\":\"\",\"title\":{\"standoff\":15},\"zerolinecolor\":\"white\",\"automargin\":true,\"zerolinewidth\":2},\"scene\":{\"xaxis\":{\"backgroundcolor\":\"#E5ECF6\",\"gridcolor\":\"white\",\"linecolor\":\"white\",\"showbackground\":true,\"ticks\":\"\",\"zerolinecolor\":\"white\",\"gridwidth\":2},\"yaxis\":{\"backgroundcolor\":\"#E5ECF6\",\"gridcolor\":\"white\",\"linecolor\":\"white\",\"showbackground\":true,\"ticks\":\"\",\"zerolinecolor\":\"white\",\"gridwidth\":2},\"zaxis\":{\"backgroundcolor\":\"#E5ECF6\",\"gridcolor\":\"white\",\"linecolor\":\"white\",\"showbackground\":true,\"ticks\":\"\",\"zerolinecolor\":\"white\",\"gridwidth\":2}},\"shapedefaults\":{\"line\":{\"color\":\"#2a3f5f\"}},\"annotationdefaults\":{\"arrowcolor\":\"#2a3f5f\",\"arrowhead\":0,\"arrowwidth\":1},\"geo\":{\"bgcolor\":\"white\",\"landcolor\":\"#E5ECF6\",\"subunitcolor\":\"white\",\"showland\":true,\"showlakes\":true,\"lakecolor\":\"white\"},\"title\":{\"x\":0.05},\"mapbox\":{\"style\":\"light\"}}},\"xaxis\":{\"anchor\":\"y\",\"domain\":[0.0,1.0],\"title\":{\"text\":\"x\"}},\"yaxis\":{\"anchor\":\"x\",\"domain\":[0.0,1.0],\"title\":{\"text\":\"y\"}},\"legend\":{\"tracegroupgap\":0},\"margin\":{\"t\":60}},                        {\"responsive\": true}                    ).then(function(){\n",
       "                            \n",
       "var gd = document.getElementById('4e1af6c5-d630-46b0-93a9-64dc5d545158');\n",
       "var x = new MutationObserver(function (mutations, observer) {{\n",
       "        var display = window.getComputedStyle(gd).display;\n",
       "        if (!display || display === 'none') {{\n",
       "            console.log([gd, 'removed!']);\n",
       "            Plotly.purge(gd);\n",
       "            observer.disconnect();\n",
       "        }}\n",
       "}});\n",
       "\n",
       "// Listen for the removal of the full notebook cells\n",
       "var notebookContainer = gd.closest('#notebook-container');\n",
       "if (notebookContainer) {{\n",
       "    x.observe(notebookContainer, {childList: true});\n",
       "}}\n",
       "\n",
       "// Listen for the clearing of the current output cell\n",
       "var outputEl = gd.closest('.output');\n",
       "if (outputEl) {{\n",
       "    x.observe(outputEl, {childList: true});\n",
       "}}\n",
       "\n",
       "                        })                };                });            </script>        </div>"
      ]
     },
     "metadata": {},
     "output_type": "display_data"
    }
   ],
   "source": [
    "px.scatter(x=y_test,y=y_pred,trendline='ols')"
   ]
  },
  {
   "cell_type": "code",
   "execution_count": 64,
   "id": "4efe8d8a",
   "metadata": {},
   "outputs": [],
   "source": [
    "final_data =  pd.DataFrame(data={'Predicted Premium amount':y_pred})"
   ]
  },
  {
   "cell_type": "code",
   "execution_count": 67,
   "id": "9090d129",
   "metadata": {},
   "outputs": [
    {
     "data": {
      "text/html": [
       "<div>\n",
       "<style scoped>\n",
       "    .dataframe tbody tr th:only-of-type {\n",
       "        vertical-align: middle;\n",
       "    }\n",
       "\n",
       "    .dataframe tbody tr th {\n",
       "        vertical-align: top;\n",
       "    }\n",
       "\n",
       "    .dataframe thead th {\n",
       "        text-align: right;\n",
       "    }\n",
       "</style>\n",
       "<table border=\"1\" class=\"dataframe\">\n",
       "  <thead>\n",
       "    <tr style=\"text-align: right;\">\n",
       "      <th></th>\n",
       "      <th>Predicted Premium amount</th>\n",
       "    </tr>\n",
       "  </thead>\n",
       "  <tbody>\n",
       "    <tr>\n",
       "      <th>0</th>\n",
       "      <td>8504.259528</td>\n",
       "    </tr>\n",
       "    <tr>\n",
       "      <th>1</th>\n",
       "      <td>6897.839411</td>\n",
       "    </tr>\n",
       "    <tr>\n",
       "      <th>2</th>\n",
       "      <td>36805.011783</td>\n",
       "    </tr>\n",
       "    <tr>\n",
       "      <th>3</th>\n",
       "      <td>9525.016402</td>\n",
       "    </tr>\n",
       "    <tr>\n",
       "      <th>4</th>\n",
       "      <td>26834.157836</td>\n",
       "    </tr>\n",
       "  </tbody>\n",
       "</table>\n",
       "</div>"
      ],
      "text/plain": [
       "   Predicted Premium amount\n",
       "0               8504.259528\n",
       "1               6897.839411\n",
       "2              36805.011783\n",
       "3               9525.016402\n",
       "4              26834.157836"
      ]
     },
     "execution_count": 67,
     "metadata": {},
     "output_type": "execute_result"
    }
   ],
   "source": [
    "final_data.head(5)"
   ]
  },
  {
   "cell_type": "code",
   "execution_count": null,
   "id": "46bf78ce",
   "metadata": {},
   "outputs": [],
   "source": []
  },
  {
   "cell_type": "markdown",
   "id": "7dddfedf",
   "metadata": {},
   "source": [
    "# Using Random Forest"
   ]
  },
  {
   "cell_type": "code",
   "execution_count": 68,
   "id": "adaf5313",
   "metadata": {},
   "outputs": [],
   "source": [
    "from sklearn.ensemble import RandomForestRegressor"
   ]
  },
  {
   "cell_type": "code",
   "execution_count": 69,
   "id": "85dacd37",
   "metadata": {},
   "outputs": [],
   "source": [
    "forest = RandomForestRegressor()"
   ]
  },
  {
   "cell_type": "code",
   "execution_count": 70,
   "id": "ad2bbb76",
   "metadata": {},
   "outputs": [
    {
     "data": {
      "text/html": [
       "<style>#sk-container-id-2 {color: black;background-color: white;}#sk-container-id-2 pre{padding: 0;}#sk-container-id-2 div.sk-toggleable {background-color: white;}#sk-container-id-2 label.sk-toggleable__label {cursor: pointer;display: block;width: 100%;margin-bottom: 0;padding: 0.3em;box-sizing: border-box;text-align: center;}#sk-container-id-2 label.sk-toggleable__label-arrow:before {content: \"▸\";float: left;margin-right: 0.25em;color: #696969;}#sk-container-id-2 label.sk-toggleable__label-arrow:hover:before {color: black;}#sk-container-id-2 div.sk-estimator:hover label.sk-toggleable__label-arrow:before {color: black;}#sk-container-id-2 div.sk-toggleable__content {max-height: 0;max-width: 0;overflow: hidden;text-align: left;background-color: #f0f8ff;}#sk-container-id-2 div.sk-toggleable__content pre {margin: 0.2em;color: black;border-radius: 0.25em;background-color: #f0f8ff;}#sk-container-id-2 input.sk-toggleable__control:checked~div.sk-toggleable__content {max-height: 200px;max-width: 100%;overflow: auto;}#sk-container-id-2 input.sk-toggleable__control:checked~label.sk-toggleable__label-arrow:before {content: \"▾\";}#sk-container-id-2 div.sk-estimator input.sk-toggleable__control:checked~label.sk-toggleable__label {background-color: #d4ebff;}#sk-container-id-2 div.sk-label input.sk-toggleable__control:checked~label.sk-toggleable__label {background-color: #d4ebff;}#sk-container-id-2 input.sk-hidden--visually {border: 0;clip: rect(1px 1px 1px 1px);clip: rect(1px, 1px, 1px, 1px);height: 1px;margin: -1px;overflow: hidden;padding: 0;position: absolute;width: 1px;}#sk-container-id-2 div.sk-estimator {font-family: monospace;background-color: #f0f8ff;border: 1px dotted black;border-radius: 0.25em;box-sizing: border-box;margin-bottom: 0.5em;}#sk-container-id-2 div.sk-estimator:hover {background-color: #d4ebff;}#sk-container-id-2 div.sk-parallel-item::after {content: \"\";width: 100%;border-bottom: 1px solid gray;flex-grow: 1;}#sk-container-id-2 div.sk-label:hover label.sk-toggleable__label {background-color: #d4ebff;}#sk-container-id-2 div.sk-serial::before {content: \"\";position: absolute;border-left: 1px solid gray;box-sizing: border-box;top: 0;bottom: 0;left: 50%;z-index: 0;}#sk-container-id-2 div.sk-serial {display: flex;flex-direction: column;align-items: center;background-color: white;padding-right: 0.2em;padding-left: 0.2em;position: relative;}#sk-container-id-2 div.sk-item {position: relative;z-index: 1;}#sk-container-id-2 div.sk-parallel {display: flex;align-items: stretch;justify-content: center;background-color: white;position: relative;}#sk-container-id-2 div.sk-item::before, #sk-container-id-2 div.sk-parallel-item::before {content: \"\";position: absolute;border-left: 1px solid gray;box-sizing: border-box;top: 0;bottom: 0;left: 50%;z-index: -1;}#sk-container-id-2 div.sk-parallel-item {display: flex;flex-direction: column;z-index: 1;position: relative;background-color: white;}#sk-container-id-2 div.sk-parallel-item:first-child::after {align-self: flex-end;width: 50%;}#sk-container-id-2 div.sk-parallel-item:last-child::after {align-self: flex-start;width: 50%;}#sk-container-id-2 div.sk-parallel-item:only-child::after {width: 0;}#sk-container-id-2 div.sk-dashed-wrapped {border: 1px dashed gray;margin: 0 0.4em 0.5em 0.4em;box-sizing: border-box;padding-bottom: 0.4em;background-color: white;}#sk-container-id-2 div.sk-label label {font-family: monospace;font-weight: bold;display: inline-block;line-height: 1.2em;}#sk-container-id-2 div.sk-label-container {text-align: center;}#sk-container-id-2 div.sk-container {/* jupyter's `normalize.less` sets `[hidden] { display: none; }` but bootstrap.min.css set `[hidden] { display: none !important; }` so we also need the `!important` here to be able to override the default hidden behavior on the sphinx rendered scikit-learn.org. See: https://github.com/scikit-learn/scikit-learn/issues/21755 */display: inline-block !important;position: relative;}#sk-container-id-2 div.sk-text-repr-fallback {display: none;}</style><div id=\"sk-container-id-2\" class=\"sk-top-container\"><div class=\"sk-text-repr-fallback\"><pre>RandomForestRegressor()</pre><b>In a Jupyter environment, please rerun this cell to show the HTML representation or trust the notebook. <br />On GitHub, the HTML representation is unable to render, please try loading this page with nbviewer.org.</b></div><div class=\"sk-container\" hidden><div class=\"sk-item\"><div class=\"sk-estimator sk-toggleable\"><input class=\"sk-toggleable__control sk-hidden--visually\" id=\"sk-estimator-id-2\" type=\"checkbox\" checked><label for=\"sk-estimator-id-2\" class=\"sk-toggleable__label sk-toggleable__label-arrow\">RandomForestRegressor</label><div class=\"sk-toggleable__content\"><pre>RandomForestRegressor()</pre></div></div></div></div></div>"
      ],
      "text/plain": [
       "RandomForestRegressor()"
      ]
     },
     "execution_count": 70,
     "metadata": {},
     "output_type": "execute_result"
    }
   ],
   "source": [
    "forest.fit(X_train,y_train)"
   ]
  },
  {
   "cell_type": "code",
   "execution_count": 71,
   "id": "7cdd78d2",
   "metadata": {},
   "outputs": [],
   "source": [
    "forest_pred = forest.predict(X_test)"
   ]
  },
  {
   "cell_type": "code",
   "execution_count": 73,
   "id": "c860d50c",
   "metadata": {},
   "outputs": [],
   "source": [
    "forest_data =  pd.DataFrame(data={'Predicted Premium amount':forest_pred})"
   ]
  },
  {
   "cell_type": "code",
   "execution_count": 75,
   "id": "a962a9e7",
   "metadata": {},
   "outputs": [
    {
     "data": {
      "text/html": [
       "<div>\n",
       "<style scoped>\n",
       "    .dataframe tbody tr th:only-of-type {\n",
       "        vertical-align: middle;\n",
       "    }\n",
       "\n",
       "    .dataframe tbody tr th {\n",
       "        vertical-align: top;\n",
       "    }\n",
       "\n",
       "    .dataframe thead th {\n",
       "        text-align: right;\n",
       "    }\n",
       "</style>\n",
       "<table border=\"1\" class=\"dataframe\">\n",
       "  <thead>\n",
       "    <tr style=\"text-align: right;\">\n",
       "      <th></th>\n",
       "      <th>Predicted Premium amount</th>\n",
       "    </tr>\n",
       "  </thead>\n",
       "  <tbody>\n",
       "    <tr>\n",
       "      <th>0</th>\n",
       "      <td>8848.379150</td>\n",
       "    </tr>\n",
       "    <tr>\n",
       "      <th>1</th>\n",
       "      <td>5631.069481</td>\n",
       "    </tr>\n",
       "    <tr>\n",
       "      <th>2</th>\n",
       "      <td>27918.163913</td>\n",
       "    </tr>\n",
       "    <tr>\n",
       "      <th>3</th>\n",
       "      <td>10462.036541</td>\n",
       "    </tr>\n",
       "    <tr>\n",
       "      <th>4</th>\n",
       "      <td>34446.917057</td>\n",
       "    </tr>\n",
       "  </tbody>\n",
       "</table>\n",
       "</div>"
      ],
      "text/plain": [
       "   Predicted Premium amount\n",
       "0               8848.379150\n",
       "1               5631.069481\n",
       "2              27918.163913\n",
       "3              10462.036541\n",
       "4              34446.917057"
      ]
     },
     "execution_count": 75,
     "metadata": {},
     "output_type": "execute_result"
    }
   ],
   "source": [
    "forest_data.head()"
   ]
  },
  {
   "cell_type": "code",
   "execution_count": 76,
   "id": "f6ea699a",
   "metadata": {},
   "outputs": [
    {
     "data": {
      "text/html": [
       "<div>\n",
       "<style scoped>\n",
       "    .dataframe tbody tr th:only-of-type {\n",
       "        vertical-align: middle;\n",
       "    }\n",
       "\n",
       "    .dataframe tbody tr th {\n",
       "        vertical-align: top;\n",
       "    }\n",
       "\n",
       "    .dataframe thead th {\n",
       "        text-align: right;\n",
       "    }\n",
       "</style>\n",
       "<table border=\"1\" class=\"dataframe\">\n",
       "  <thead>\n",
       "    <tr style=\"text-align: right;\">\n",
       "      <th></th>\n",
       "      <th>Predicted Premium amount</th>\n",
       "    </tr>\n",
       "  </thead>\n",
       "  <tbody>\n",
       "    <tr>\n",
       "      <th>0</th>\n",
       "      <td>8504.259528</td>\n",
       "    </tr>\n",
       "    <tr>\n",
       "      <th>1</th>\n",
       "      <td>6897.839411</td>\n",
       "    </tr>\n",
       "    <tr>\n",
       "      <th>2</th>\n",
       "      <td>36805.011783</td>\n",
       "    </tr>\n",
       "    <tr>\n",
       "      <th>3</th>\n",
       "      <td>9525.016402</td>\n",
       "    </tr>\n",
       "    <tr>\n",
       "      <th>4</th>\n",
       "      <td>26834.157836</td>\n",
       "    </tr>\n",
       "  </tbody>\n",
       "</table>\n",
       "</div>"
      ],
      "text/plain": [
       "   Predicted Premium amount\n",
       "0               8504.259528\n",
       "1               6897.839411\n",
       "2              36805.011783\n",
       "3               9525.016402\n",
       "4              26834.157836"
      ]
     },
     "execution_count": 76,
     "metadata": {},
     "output_type": "execute_result"
    }
   ],
   "source": [
    "final_data.head()"
   ]
  },
  {
   "cell_type": "code",
   "execution_count": 89,
   "id": "1e1b3321",
   "metadata": {},
   "outputs": [
    {
     "data": {
      "text/plain": [
       "74.95"
      ]
     },
     "execution_count": 89,
     "metadata": {},
     "output_type": "execute_result"
    }
   ],
   "source": [
    "# while using Linear Regression it peroforms 74%\n",
    "round(lr.score(X,y)*100,2)"
   ]
  },
  {
   "cell_type": "code",
   "execution_count": 87,
   "id": "37cf5f4d",
   "metadata": {},
   "outputs": [
    {
     "data": {
      "text/plain": [
       "93.62"
      ]
     },
     "execution_count": 87,
     "metadata": {},
     "output_type": "execute_result"
    }
   ],
   "source": [
    "# while using Forest\n",
    "round(forest.score(X,y)*100,2)"
   ]
  },
  {
   "cell_type": "code",
   "execution_count": null,
   "id": "ed8db60a",
   "metadata": {},
   "outputs": [],
   "source": []
  }
 ],
 "metadata": {
  "kernelspec": {
   "display_name": "Python 3 (ipykernel)",
   "language": "python",
   "name": "python3"
  },
  "language_info": {
   "codemirror_mode": {
    "name": "ipython",
    "version": 3
   },
   "file_extension": ".py",
   "mimetype": "text/x-python",
   "name": "python",
   "nbconvert_exporter": "python",
   "pygments_lexer": "ipython3",
   "version": "3.10.6"
  }
 },
 "nbformat": 4,
 "nbformat_minor": 5
}
